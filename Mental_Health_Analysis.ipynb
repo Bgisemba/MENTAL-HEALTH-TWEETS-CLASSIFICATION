{
  "nbformat": 4,
  "nbformat_minor": 0,
  "metadata": {
    "colab": {
      "name": "Mental_Health_Analysis.ipynb",
      "provenance": [],
      "collapsed_sections": [],
      "include_colab_link": true
    },
    "kernelspec": {
      "name": "python3",
      "display_name": "Python 3"
    },
    "language_info": {
      "name": "python"
    }
  },
  "cells": [
    {
      "cell_type": "markdown",
      "metadata": {
        "id": "view-in-github",
        "colab_type": "text"
      },
      "source": [
        "<a href=\"https://colab.research.google.com/github/BrianGisemba/MENTAL-HEALTH-TWEETS-CLASSIFICATION/blob/data_cleaning/Mental_Health_Analysis.ipynb\" target=\"_parent\"><img src=\"https://colab.research.google.com/assets/colab-badge.svg\" alt=\"Open In Colab\"/></a>"
      ]
    },
    {
      "cell_type": "code",
      "metadata": {
        "colab": {
          "base_uri": "https://localhost:8080/"
        },
        "id": "PdEol8k2INmT",
        "outputId": "afe2da54-e309-4fb1-9814-872f6c2262b1"
      },
      "source": [
        "# Load the libraries needed \n",
        "import pandas as pd\n",
        "import numpy as np\n",
        "import matplotlib.pyplot as plt\n",
        "import seaborn as sns\n",
        "#for text pre-processing\n",
        "import re, string\n",
        "import nltk\n",
        "from nltk.tokenize import word_tokenize\n",
        "from nltk.corpus import stopwords\n",
        "from nltk.tokenize import word_tokenize\n",
        "from nltk.stem import SnowballStemmer\n",
        "from nltk.corpus import wordnet\n",
        "from nltk.stem import WordNetLemmatizer\n",
        "nltk.download('punkt')\n",
        "nltk.download('averaged_perceptron_tagger')\n",
        "nltk.download('wordnet')\n",
        "#for model-building\n",
        "from sklearn.model_selection import train_test_split\n",
        "from sklearn.linear_model import LogisticRegression\n",
        "from sklearn.naive_bayes import MultinomialNB\n",
        "from sklearn.metrics import classification_report, f1_score, accuracy_score, confusion_matrix\n",
        "from sklearn.metrics import roc_curve, auc, roc_auc_score\n",
        "# bag of words\n",
        "from sklearn.feature_extraction.text import TfidfVectorizer\n",
        "from sklearn.feature_extraction.text import CountVectorizer\n",
        "#for word embedding\n",
        "import gensim\n",
        "from gensim.models import Word2Vec"
      ],
      "execution_count": null,
      "outputs": [
        {
          "output_type": "stream",
          "text": [
            "[nltk_data] Downloading package punkt to /root/nltk_data...\n",
            "[nltk_data]   Package punkt is already up-to-date!\n",
            "[nltk_data] Downloading package averaged_perceptron_tagger to\n",
            "[nltk_data]     /root/nltk_data...\n",
            "[nltk_data]   Package averaged_perceptron_tagger is already up-to-\n",
            "[nltk_data]       date!\n",
            "[nltk_data] Downloading package wordnet to /root/nltk_data...\n",
            "[nltk_data]   Package wordnet is already up-to-date!\n"
          ],
          "name": "stdout"
        }
      ]
    },
    {
      "cell_type": "code",
      "metadata": {
        "id": "7aWXKODHBMFh"
      },
      "source": [
        ""
      ],
      "execution_count": null,
      "outputs": []
    },
    {
      "cell_type": "markdown",
      "metadata": {
        "id": "8-g4SUPxroc1"
      },
      "source": [
        "# Load Data"
      ]
    },
    {
      "cell_type": "code",
      "metadata": {
        "id": "4Rmact08rztP"
      },
      "source": [
        "#depression = pd.read_csv('Depression.csv')\n",
        "#depression['disorder'] = 'depression'\n",
        "#depression.head(5)"
      ],
      "execution_count": null,
      "outputs": []
    },
    {
      "cell_type": "code",
      "metadata": {
        "id": "xKRX5B0-sO9W"
      },
      "source": [
        "#anxiety = pd.read_csv('anxiety.csv')\n",
        "#anxiety['disorder'] = 'anxiety'\n",
        "#anxiety.head(5)"
      ],
      "execution_count": null,
      "outputs": []
    },
    {
      "cell_type": "code",
      "metadata": {
        "id": "zz7_BOMFsWGh"
      },
      "source": [
        "#paranoia = pd.read_csv('paranoia.csv')\n",
        "#paranoia['disorder'] = 'paranoia'\n",
        "#paranoia.head(5)"
      ],
      "execution_count": null,
      "outputs": []
    },
    {
      "cell_type": "code",
      "metadata": {
        "id": "3QUls5TjsZIR"
      },
      "source": [
        "#schizophrenia = pd.read_csv('schizophrenia.csv')\n",
        "#schizophrenia['disorder'] = 'schizophrenia'\n",
        "#schizophrenia.head(5)"
      ],
      "execution_count": null,
      "outputs": []
    },
    {
      "cell_type": "code",
      "metadata": {
        "id": "0T9mmzRwscq_"
      },
      "source": [
        "#dementia = pd.read_csv('dementia2010.csv')\n",
        "#dementia['disorder'] = 'dementia'\n",
        "#dementia.head(5)"
      ],
      "execution_count": null,
      "outputs": []
    },
    {
      "cell_type": "code",
      "metadata": {
        "id": "oQmjzlzZshf6"
      },
      "source": [
        "#bipolar = pd.read_csv('Bipolar2010.csv')\n",
        "#bipolar['disorder'] = 'bipolar'\n",
        "#bipolar.head(5)"
      ],
      "execution_count": null,
      "outputs": []
    },
    {
      "cell_type": "code",
      "metadata": {
        "id": "guwXn7ctpCnt"
      },
      "source": [
        "#suicidal = pd.read_csv('suicidal.csv')\n",
        "#suicidal['disorder'] = 'suicidal'\n",
        "#suicidal.head(5)"
      ],
      "execution_count": null,
      "outputs": []
    },
    {
      "cell_type": "code",
      "metadata": {
        "id": "7qusJQwYqRzz"
      },
      "source": [
        "#mentalhealth_df = pd.concat([depression, anxiety, paranoia, schizophrenia, suicidal, dementia, bipolar], axis = 0)\n",
        "#mentalhealth_df"
      ],
      "execution_count": null,
      "outputs": []
    },
    {
      "cell_type": "code",
      "metadata": {
        "id": "_i_3dE32rS39"
      },
      "source": [
        "#mentalhealth_df.to_csv ('MentalHealth.csv')"
      ],
      "execution_count": null,
      "outputs": []
    },
    {
      "cell_type": "code",
      "metadata": {
        "id": "FJv4_h8BtxMK",
        "colab": {
          "base_uri": "https://localhost:8080/",
          "height": 492
        },
        "outputId": "5064de75-b460-41fd-eae2-7f8bc08754b6"
      },
      "source": [
        "df = pd.read_csv('MentalHealth.csv')\n",
        "df.head()"
      ],
      "execution_count": null,
      "outputs": [
        {
          "output_type": "execute_result",
          "data": {
            "text/html": [
              "<div>\n",
              "<style scoped>\n",
              "    .dataframe tbody tr th:only-of-type {\n",
              "        vertical-align: middle;\n",
              "    }\n",
              "\n",
              "    .dataframe tbody tr th {\n",
              "        vertical-align: top;\n",
              "    }\n",
              "\n",
              "    .dataframe thead th {\n",
              "        text-align: right;\n",
              "    }\n",
              "</style>\n",
              "<table border=\"1\" class=\"dataframe\">\n",
              "  <thead>\n",
              "    <tr style=\"text-align: right;\">\n",
              "      <th></th>\n",
              "      <th>Unnamed: 0</th>\n",
              "      <th>user</th>\n",
              "      <th>tweet</th>\n",
              "      <th>location</th>\n",
              "      <th>description</th>\n",
              "      <th>friends_count</th>\n",
              "      <th>followers_count</th>\n",
              "      <th>statuses_count</th>\n",
              "      <th>created_at</th>\n",
              "      <th>retweet_count</th>\n",
              "      <th>hashtags</th>\n",
              "      <th>disorder</th>\n",
              "      <th>Unnamed: 0.1</th>\n",
              "    </tr>\n",
              "  </thead>\n",
              "  <tbody>\n",
              "    <tr>\n",
              "      <th>0</th>\n",
              "      <td>0</td>\n",
              "      <td>LabanMbunya</td>\n",
              "      <td>@CarolRadull Caroll I love Manchester United, ...</td>\n",
              "      <td>Kisii ,Kenya</td>\n",
              "      <td>A Father,A teacher at Nyakoe Highway Primary S...</td>\n",
              "      <td>451</td>\n",
              "      <td>465</td>\n",
              "      <td>2076</td>\n",
              "      <td>2016-02-16 16:23:49</td>\n",
              "      <td>0</td>\n",
              "      <td>[{'text': 'TheGamePlan', 'indices': [90, 102]}]</td>\n",
              "      <td>depression</td>\n",
              "      <td>NaN</td>\n",
              "    </tr>\n",
              "    <tr>\n",
              "      <th>1</th>\n",
              "      <td>1</td>\n",
              "      <td>KhanRiak</td>\n",
              "      <td>@realmadriden Come and rescue from depression ...</td>\n",
              "      <td>Nairobi, Kenya</td>\n",
              "      <td>Founder of Non-violence peace Ambassador. Bsc(...</td>\n",
              "      <td>692</td>\n",
              "      <td>51</td>\n",
              "      <td>118</td>\n",
              "      <td>2018-12-06 19:50:08</td>\n",
              "      <td>0</td>\n",
              "      <td>[]</td>\n",
              "      <td>depression</td>\n",
              "      <td>NaN</td>\n",
              "    </tr>\n",
              "    <tr>\n",
              "      <th>2</th>\n",
              "      <td>2</td>\n",
              "      <td>Joekiash</td>\n",
              "      <td>In USA you see names like Bush, Stone yet they...</td>\n",
              "      <td>Nairobi, Kenya,</td>\n",
              "      <td>#INSURANCE &amp; Risk Management|Traveller |Rotari...</td>\n",
              "      <td>7232</td>\n",
              "      <td>9822</td>\n",
              "      <td>51742</td>\n",
              "      <td>2011-02-16 10:04:33</td>\n",
              "      <td>1</td>\n",
              "      <td>[]</td>\n",
              "      <td>depression</td>\n",
              "      <td>NaN</td>\n",
              "    </tr>\n",
              "    <tr>\n",
              "      <th>3</th>\n",
              "      <td>3</td>\n",
              "      <td>OloloirushaK</td>\n",
              "      <td>\"Cool head\" aftermath, what a hell is wrong wi...</td>\n",
              "      <td>Narok, Kenya</td>\n",
              "      <td>doing what I like most</td>\n",
              "      <td>227</td>\n",
              "      <td>23</td>\n",
              "      <td>16</td>\n",
              "      <td>2021-05-01 09:23:34</td>\n",
              "      <td>0</td>\n",
              "      <td>[]</td>\n",
              "      <td>depression</td>\n",
              "      <td>NaN</td>\n",
              "    </tr>\n",
              "    <tr>\n",
              "      <th>4</th>\n",
              "      <td>4</td>\n",
              "      <td>iankemboi1</td>\n",
              "      <td>@Arsenal just imagining 9 months of this and d...</td>\n",
              "      <td>Nairobi</td>\n",
              "      <td>Hardcore|Angerfist|Hardwell| Software Develope...</td>\n",
              "      <td>6699</td>\n",
              "      <td>6092</td>\n",
              "      <td>13229</td>\n",
              "      <td>2015-02-15 15:18:45</td>\n",
              "      <td>0</td>\n",
              "      <td>[]</td>\n",
              "      <td>depression</td>\n",
              "      <td>NaN</td>\n",
              "    </tr>\n",
              "  </tbody>\n",
              "</table>\n",
              "</div>"
            ],
            "text/plain": [
              "   Unnamed: 0          user  ...    disorder Unnamed: 0.1\n",
              "0           0   LabanMbunya  ...  depression          NaN\n",
              "1           1      KhanRiak  ...  depression          NaN\n",
              "2           2      Joekiash  ...  depression          NaN\n",
              "3           3  OloloirushaK  ...  depression          NaN\n",
              "4           4    iankemboi1  ...  depression          NaN\n",
              "\n",
              "[5 rows x 13 columns]"
            ]
          },
          "metadata": {
            "tags": []
          },
          "execution_count": 75
        }
      ]
    },
    {
      "cell_type": "markdown",
      "metadata": {
        "id": "RxAzmwfaIHpj"
      },
      "source": [
        "# DATA CLEANING"
      ]
    },
    {
      "cell_type": "code",
      "metadata": {
        "colab": {
          "base_uri": "https://localhost:8080/"
        },
        "id": "xP881eSuM5ra",
        "outputId": "03d684b4-71bc-4cb5-9cc1-bb3b480c3778"
      },
      "source": [
        "# Exploring the data \n",
        "df.shape"
      ],
      "execution_count": null,
      "outputs": [
        {
          "output_type": "execute_result",
          "data": {
            "text/plain": [
              "(749, 13)"
            ]
          },
          "metadata": {
            "tags": []
          },
          "execution_count": 76
        }
      ]
    },
    {
      "cell_type": "code",
      "metadata": {
        "colab": {
          "base_uri": "https://localhost:8080/"
        },
        "id": "hmZmdMJkIEag",
        "outputId": "98ab11e2-9ab6-42de-9233-be13d17ae190"
      },
      "source": [
        "# loooking for duplicates ?\n",
        "df.duplicated().sum()"
      ],
      "execution_count": null,
      "outputs": [
        {
          "output_type": "execute_result",
          "data": {
            "text/plain": [
              "0"
            ]
          },
          "metadata": {
            "tags": []
          },
          "execution_count": 77
        }
      ]
    },
    {
      "cell_type": "markdown",
      "metadata": {
        "id": "SwHh4WN4Ikat"
      },
      "source": [
        "There are no duplicates in the Tweets. "
      ]
    },
    {
      "cell_type": "code",
      "metadata": {
        "colab": {
          "base_uri": "https://localhost:8080/"
        },
        "id": "lhcdTBqvIkKC",
        "outputId": "b254b1e0-ce6c-4ef4-d0a3-e1f9caa5e24b"
      },
      "source": [
        "# Checking for null values\n",
        "df.isna().sum()"
      ],
      "execution_count": null,
      "outputs": [
        {
          "output_type": "execute_result",
          "data": {
            "text/plain": [
              "Unnamed: 0           0\n",
              "user                 0\n",
              "tweet                0\n",
              "location             1\n",
              "description         23\n",
              "friends_count        0\n",
              "followers_count      0\n",
              "statuses_count       0\n",
              "created_at           0\n",
              "retweet_count        0\n",
              "hashtags             0\n",
              "disorder             0\n",
              "Unnamed: 0.1       687\n",
              "dtype: int64"
            ]
          },
          "metadata": {
            "tags": []
          },
          "execution_count": 78
        }
      ]
    },
    {
      "cell_type": "code",
      "metadata": {
        "id": "geEdAJ0EIizl"
      },
      "source": [
        "# dealing with missing data.\n",
        "df.drop(['description', 'Unnamed: 0.1'], 1 , inplace= True)"
      ],
      "execution_count": null,
      "outputs": []
    },
    {
      "cell_type": "code",
      "metadata": {
        "colab": {
          "base_uri": "https://localhost:8080/"
        },
        "id": "H8kUPRFiI_HX",
        "outputId": "31f8055e-d61d-43f8-b5f7-0012e0cbd521"
      },
      "source": [
        "# Droping all irrelevant collumns\n",
        "droplist = ['Unnamed: 0', 'location', 'friends_count', 'user',\n",
        "       'followers_count', 'statuses_count', 'retweet_count',\n",
        "       'hashtags']\n",
        "df.drop(droplist, axis=1, inplace=True)\n",
        "df.columns"
      ],
      "execution_count": null,
      "outputs": [
        {
          "output_type": "execute_result",
          "data": {
            "text/plain": [
              "Index(['tweet', 'created_at', 'disorder'], dtype='object')"
            ]
          },
          "metadata": {
            "tags": []
          },
          "execution_count": 80
        }
      ]
    },
    {
      "cell_type": "code",
      "metadata": {
        "colab": {
          "base_uri": "https://localhost:8080/"
        },
        "id": "62P5uMPZJhNu",
        "outputId": "2178ae54-24cf-4919-c0b5-da824bd01906"
      },
      "source": [
        "# Checking the data types of the columns\n",
        "\n",
        "df.dtypes"
      ],
      "execution_count": null,
      "outputs": [
        {
          "output_type": "execute_result",
          "data": {
            "text/plain": [
              "tweet         object\n",
              "created_at    object\n",
              "disorder      object\n",
              "dtype: object"
            ]
          },
          "metadata": {
            "tags": []
          },
          "execution_count": 81
        }
      ]
    },
    {
      "cell_type": "code",
      "metadata": {
        "colab": {
          "base_uri": "https://localhost:8080/"
        },
        "id": "d5_JHXXwKRr4",
        "outputId": "1737dcfd-fbc1-4904-de4f-726d62c3ea5d"
      },
      "source": [
        "# Changing the created_at column into time and date\n",
        "df.created_at = pd.to_datetime(df.created_at)\n",
        "df.dtypes"
      ],
      "execution_count": null,
      "outputs": [
        {
          "output_type": "execute_result",
          "data": {
            "text/plain": [
              "tweet                 object\n",
              "created_at    datetime64[ns]\n",
              "disorder              object\n",
              "dtype: object"
            ]
          },
          "metadata": {
            "tags": []
          },
          "execution_count": 82
        }
      ]
    },
    {
      "cell_type": "markdown",
      "metadata": {
        "id": "Xy7hVDTzNR1r"
      },
      "source": [
        "# Data Preprocessing"
      ]
    },
    {
      "cell_type": "code",
      "metadata": {
        "colab": {
          "base_uri": "https://localhost:8080/",
          "height": 578
        },
        "id": "AH2yqAUOMVb0",
        "outputId": "e1b83249-e85e-4522-91a1-df61f73bd368"
      },
      "source": [
        "x=df['disorder'].value_counts()\n",
        "print(x)\n",
        "plt.figure(figsize = (8,6))\n",
        "plt.title('Mental Health Disorders by Popularity ')\n",
        "# plt.xlabel( rotate = 45)\n",
        "sns.barplot(x.index, x);\n"
      ],
      "execution_count": null,
      "outputs": [
        {
          "output_type": "stream",
          "text": [
            "depression       373\n",
            "anxiety          250\n",
            "suicidal          64\n",
            "bipolar           20\n",
            "paranoia          17\n",
            "schizophrenia     13\n",
            "dementia          12\n",
            "Name: disorder, dtype: int64\n"
          ],
          "name": "stdout"
        },
        {
          "output_type": "stream",
          "text": [
            "/usr/local/lib/python3.7/dist-packages/seaborn/_decorators.py:43: FutureWarning: Pass the following variables as keyword args: x, y. From version 0.12, the only valid positional argument will be `data`, and passing other arguments without an explicit keyword will result in an error or misinterpretation.\n",
            "  FutureWarning\n"
          ],
          "name": "stderr"
        },
        {
          "output_type": "display_data",
          "data": {
            "image/png": "[encoded data removed]",
            "text/plain": [
              "<Figure size 576x432 with 1 Axes>"
            ]
          },
          "metadata": {
            "tags": [],
            "needs_background": "light"
          }
        }
      ]
    },
    {
      "cell_type": "markdown",
      "metadata": {
        "id": "CWTA2pHjN5AN"
      },
      "source": [
        "According to the hashtags the main mental health issues that kenyans are tweeting about are \n",
        "- Depression - \n",
        "Anxiety \n",
        "- Suicidal ideation \n",
        "- Bipolar and, \n",
        "- Paranoia "
      ]
    },
    {
      "cell_type": "code",
      "metadata": {
        "colab": {
          "base_uri": "https://localhost:8080/",
          "height": 203
        },
        "id": "AXgTtsM6PvQa",
        "outputId": "8a26c357-e5f2-496c-e92b-190bf7dba4c0"
      },
      "source": [
        "df['year'] = df['created_at'].dt.year\n",
        "df['month'] = df['created_at'].dt.month\n",
        "df.head()"
      ],
      "execution_count": null,
      "outputs": [
        {
          "output_type": "execute_result",
          "data": {
            "text/html": [
              "<div>\n",
              "<style scoped>\n",
              "    .dataframe tbody tr th:only-of-type {\n",
              "        vertical-align: middle;\n",
              "    }\n",
              "\n",
              "    .dataframe tbody tr th {\n",
              "        vertical-align: top;\n",
              "    }\n",
              "\n",
              "    .dataframe thead th {\n",
              "        text-align: right;\n",
              "    }\n",
              "</style>\n",
              "<table border=\"1\" class=\"dataframe\">\n",
              "  <thead>\n",
              "    <tr style=\"text-align: right;\">\n",
              "      <th></th>\n",
              "      <th>tweet</th>\n",
              "      <th>created_at</th>\n",
              "      <th>disorder</th>\n",
              "      <th>year</th>\n",
              "      <th>month</th>\n",
              "    </tr>\n",
              "  </thead>\n",
              "  <tbody>\n",
              "    <tr>\n",
              "      <th>0</th>\n",
              "      <td>@CarolRadull Caroll I love Manchester United, ...</td>\n",
              "      <td>2016-02-16 16:23:49</td>\n",
              "      <td>depression</td>\n",
              "      <td>2016</td>\n",
              "      <td>2</td>\n",
              "    </tr>\n",
              "    <tr>\n",
              "      <th>1</th>\n",
              "      <td>@realmadriden Come and rescue from depression ...</td>\n",
              "      <td>2018-12-06 19:50:08</td>\n",
              "      <td>depression</td>\n",
              "      <td>2018</td>\n",
              "      <td>12</td>\n",
              "    </tr>\n",
              "    <tr>\n",
              "      <th>2</th>\n",
              "      <td>In USA you see names like Bush, Stone yet they...</td>\n",
              "      <td>2011-02-16 10:04:33</td>\n",
              "      <td>depression</td>\n",
              "      <td>2011</td>\n",
              "      <td>2</td>\n",
              "    </tr>\n",
              "    <tr>\n",
              "      <th>3</th>\n",
              "      <td>\"Cool head\" aftermath, what a hell is wrong wi...</td>\n",
              "      <td>2021-05-01 09:23:34</td>\n",
              "      <td>depression</td>\n",
              "      <td>2021</td>\n",
              "      <td>5</td>\n",
              "    </tr>\n",
              "    <tr>\n",
              "      <th>4</th>\n",
              "      <td>@Arsenal just imagining 9 months of this and d...</td>\n",
              "      <td>2015-02-15 15:18:45</td>\n",
              "      <td>depression</td>\n",
              "      <td>2015</td>\n",
              "      <td>2</td>\n",
              "    </tr>\n",
              "  </tbody>\n",
              "</table>\n",
              "</div>"
            ],
            "text/plain": [
              "                                               tweet  ... month\n",
              "0  @CarolRadull Caroll I love Manchester United, ...  ...     2\n",
              "1  @realmadriden Come and rescue from depression ...  ...    12\n",
              "2  In USA you see names like Bush, Stone yet they...  ...     2\n",
              "3  \"Cool head\" aftermath, what a hell is wrong wi...  ...     5\n",
              "4  @Arsenal just imagining 9 months of this and d...  ...     2\n",
              "\n",
              "[5 rows x 5 columns]"
            ]
          },
          "metadata": {
            "tags": []
          },
          "execution_count": 84
        }
      ]
    },
    {
      "cell_type": "code",
      "metadata": {
        "colab": {
          "base_uri": "https://localhost:8080/"
        },
        "id": "IX6Hfmb2agIl",
        "outputId": "f3797c06-bbc5-48a1-8f35-61cf2e6a2adc"
      },
      "source": [
        "# Checking the number of disorders per year\n",
        "df.year.astype('category').value_counts()\n"
      ],
      "execution_count": null,
      "outputs": [
        {
          "output_type": "execute_result",
          "data": {
            "text/plain": [
              "2020    81\n",
              "2019    72\n",
              "2011    68\n",
              "2013    65\n",
              "2016    62\n",
              "2017    59\n",
              "2015    59\n",
              "2012    56\n",
              "2018    53\n",
              "2021    50\n",
              "2009    48\n",
              "2014    40\n",
              "2010    36\n",
              "Name: year, dtype: int64"
            ]
          },
          "metadata": {
            "tags": []
          },
          "execution_count": 85
        }
      ]
    },
    {
      "cell_type": "code",
      "metadata": {
        "colab": {
          "base_uri": "https://localhost:8080/",
          "height": 530
        },
        "id": "16-lcGZlMt8k",
        "outputId": "b03e2b77-70b4-48e2-fa08-cd538a358f97"
      },
      "source": [
        "plt.figure(figsize = (20,9))\n",
        "plt.title('Time analysis of Tweet by Year')\n",
        "x = df.year\n",
        "\n",
        "sns.countplot(df.year.astype('category'), hue = df.disorder )\n",
        "plt.show()"
      ],
      "execution_count": null,
      "outputs": [
        {
          "output_type": "stream",
          "text": [
            "/usr/local/lib/python3.7/dist-packages/seaborn/_decorators.py:43: FutureWarning: Pass the following variable as a keyword arg: x. From version 0.12, the only valid positional argument will be `data`, and passing other arguments without an explicit keyword will result in an error or misinterpretation.\n",
            "  FutureWarning\n"
          ],
          "name": "stderr"
        },
        {
          "output_type": "display_data",
          "data": {
            "image/png": "[encoded data removed]",
            "text/plain": [
              "<Figure size 1440x648 with 1 Axes>"
            ]
          },
          "metadata": {
            "tags": [],
            "needs_background": "light"
          }
        }
      ]
    },
    {
      "cell_type": "code",
      "metadata": {
        "colab": {
          "base_uri": "https://localhost:8080/",
          "height": 404
        },
        "id": "011-zSp5RgCC",
        "outputId": "4edf238a-fc63-4df3-c6cf-d8cbeae2723a"
      },
      "source": [
        "plt.figure(figsize=(8,6))\n",
        "sns.countplot(x = df.month)\n",
        "plt.title('Timeseries Analysis of Tweets by Month')\n",
        "plt.show()\n"
      ],
      "execution_count": null,
      "outputs": [
        {
          "output_type": "display_data",
          "data": {
            "image/png": "[encoded data removed]",
            "text/plain": [
              "<Figure size 576x432 with 1 Axes>"
            ]
          },
          "metadata": {
            "tags": [],
            "needs_background": "light"
          }
        }
      ]
    },
    {
      "cell_type": "code",
      "metadata": {
        "colab": {
          "base_uri": "https://localhost:8080/",
          "height": 203
        },
        "id": "UqfQejaHRsYq",
        "outputId": "f0164c71-ffd1-4f1e-9528-2a19e642aa7d"
      },
      "source": [
        "# We need to remove some unnecessary column that will not help with classification. \n",
        "unnecessary = ['created_at', 'year', 'month']\n",
        "df.drop(unnecessary, axis=1, inplace=True)\n",
        "df.head()"
      ],
      "execution_count": null,
      "outputs": [
        {
          "output_type": "execute_result",
          "data": {
            "text/html": [
              "<div>\n",
              "<style scoped>\n",
              "    .dataframe tbody tr th:only-of-type {\n",
              "        vertical-align: middle;\n",
              "    }\n",
              "\n",
              "    .dataframe tbody tr th {\n",
              "        vertical-align: top;\n",
              "    }\n",
              "\n",
              "    .dataframe thead th {\n",
              "        text-align: right;\n",
              "    }\n",
              "</style>\n",
              "<table border=\"1\" class=\"dataframe\">\n",
              "  <thead>\n",
              "    <tr style=\"text-align: right;\">\n",
              "      <th></th>\n",
              "      <th>tweet</th>\n",
              "      <th>disorder</th>\n",
              "    </tr>\n",
              "  </thead>\n",
              "  <tbody>\n",
              "    <tr>\n",
              "      <th>0</th>\n",
              "      <td>@CarolRadull Caroll I love Manchester United, ...</td>\n",
              "      <td>depression</td>\n",
              "    </tr>\n",
              "    <tr>\n",
              "      <th>1</th>\n",
              "      <td>@realmadriden Come and rescue from depression ...</td>\n",
              "      <td>depression</td>\n",
              "    </tr>\n",
              "    <tr>\n",
              "      <th>2</th>\n",
              "      <td>In USA you see names like Bush, Stone yet they...</td>\n",
              "      <td>depression</td>\n",
              "    </tr>\n",
              "    <tr>\n",
              "      <th>3</th>\n",
              "      <td>\"Cool head\" aftermath, what a hell is wrong wi...</td>\n",
              "      <td>depression</td>\n",
              "    </tr>\n",
              "    <tr>\n",
              "      <th>4</th>\n",
              "      <td>@Arsenal just imagining 9 months of this and d...</td>\n",
              "      <td>depression</td>\n",
              "    </tr>\n",
              "  </tbody>\n",
              "</table>\n",
              "</div>"
            ],
            "text/plain": [
              "                                               tweet    disorder\n",
              "0  @CarolRadull Caroll I love Manchester United, ...  depression\n",
              "1  @realmadriden Come and rescue from depression ...  depression\n",
              "2  In USA you see names like Bush, Stone yet they...  depression\n",
              "3  \"Cool head\" aftermath, what a hell is wrong wi...  depression\n",
              "4  @Arsenal just imagining 9 months of this and d...  depression"
            ]
          },
          "metadata": {
            "tags": []
          },
          "execution_count": 88
        }
      ]
    },
    {
      "cell_type": "code",
      "metadata": {
        "colab": {
          "base_uri": "https://localhost:8080/"
        },
        "id": "WZ796JT1Tbax",
        "outputId": "ed4077ea-1ece-41d4-c4d6-78b7693ce623"
      },
      "source": [
        "df.disorder.value_counts()"
      ],
      "execution_count": null,
      "outputs": [
        {
          "output_type": "execute_result",
          "data": {
            "text/plain": [
              "depression       373\n",
              "anxiety          250\n",
              "suicidal          64\n",
              "bipolar           20\n",
              "paranoia          17\n",
              "schizophrenia     13\n",
              "dementia          12\n",
              "Name: disorder, dtype: int64"
            ]
          },
          "metadata": {
            "tags": []
          },
          "execution_count": 89
        }
      ]
    },
    {
      "cell_type": "code",
      "metadata": {
        "colab": {
          "base_uri": "https://localhost:8080/",
          "height": 203
        },
        "id": "hIcklSetSVZY",
        "outputId": "0fddb454-5a68-416b-9a13-536df45dc07a"
      },
      "source": [
        "# We need to labelEncode the data. \n",
        "from sklearn.preprocessing import LabelEncoder\n",
        "le = LabelEncoder()\n",
        "df['disorder'] = le.fit_transform(df.disorder)\n",
        "df.sample (5)"
      ],
      "execution_count": null,
      "outputs": [
        {
          "output_type": "execute_result",
          "data": {
            "text/html": [
              "<div>\n",
              "<style scoped>\n",
              "    .dataframe tbody tr th:only-of-type {\n",
              "        vertical-align: middle;\n",
              "    }\n",
              "\n",
              "    .dataframe tbody tr th {\n",
              "        vertical-align: top;\n",
              "    }\n",
              "\n",
              "    .dataframe thead th {\n",
              "        text-align: right;\n",
              "    }\n",
              "</style>\n",
              "<table border=\"1\" class=\"dataframe\">\n",
              "  <thead>\n",
              "    <tr style=\"text-align: right;\">\n",
              "      <th></th>\n",
              "      <th>tweet</th>\n",
              "      <th>disorder</th>\n",
              "    </tr>\n",
              "  </thead>\n",
              "  <tbody>\n",
              "    <tr>\n",
              "      <th>490</th>\n",
              "      <td>I know it’s hard to sleep when you can’t find ...</td>\n",
              "      <td>0</td>\n",
              "    </tr>\n",
              "    <tr>\n",
              "      <th>134</th>\n",
              "      <td>Depression is not always obvious,  depression ...</td>\n",
              "      <td>3</td>\n",
              "    </tr>\n",
              "    <tr>\n",
              "      <th>445</th>\n",
              "      <td>Emotions like anxiety and fear have their root...</td>\n",
              "      <td>0</td>\n",
              "    </tr>\n",
              "    <tr>\n",
              "      <th>37</th>\n",
              "      <td>My boy will go into depression haha</td>\n",
              "      <td>3</td>\n",
              "    </tr>\n",
              "    <tr>\n",
              "      <th>512</th>\n",
              "      <td>True and Authentic Bible Faith has no Room for...</td>\n",
              "      <td>0</td>\n",
              "    </tr>\n",
              "  </tbody>\n",
              "</table>\n",
              "</div>"
            ],
            "text/plain": [
              "                                                 tweet  disorder\n",
              "490  I know it’s hard to sleep when you can’t find ...         0\n",
              "134  Depression is not always obvious,  depression ...         3\n",
              "445  Emotions like anxiety and fear have their root...         0\n",
              "37                 My boy will go into depression haha         3\n",
              "512  True and Authentic Bible Faith has no Room for...         0"
            ]
          },
          "metadata": {
            "tags": []
          },
          "execution_count": 90
        }
      ]
    },
    {
      "cell_type": "markdown",
      "metadata": {
        "id": "gJQm4X9NdTu_"
      },
      "source": [
        "- depression = 3\n",
        "- anxiety     0\n",
        "- suicidal    6\n",
        "- bipolar     1\n",
        "- paranoia    4\n",
        "- schizophrenia 5 \n",
        "- dementia      2"
      ]
    },
    {
      "cell_type": "code",
      "metadata": {
        "colab": {
          "base_uri": "https://localhost:8080/"
        },
        "id": "khU6XALlTVtu",
        "outputId": "eda79041-0b1d-4c97-c898-1497536a4f83"
      },
      "source": [
        "#1. WORD-COUNT\n",
        "df['word_count'] = df['tweet'].apply(lambda x: len(str(x).split()))\n",
        "print(df[df['disorder']==0]['word_count'].mean()) \n",
        "print(df[df['disorder']==1]['word_count'].mean()) \n",
        "print(df[df['disorder']==2]['word_count'].mean()) \n",
        "print(df[df['disorder']==3]['word_count'].mean()) \n",
        "print(df[df['disorder']==4]['word_count'].mean()) \n",
        "print(df[df['disorder']==5]['word_count'].mean()) \n",
        "print(df[df['disorder']==6]['word_count'].mean()) \n",
        "print('***'*30)\n",
        "#tweets on depression are more wordy than the othermental health-categories tweets\n",
        "\n",
        "#2. CHARACTER-COUNT\n",
        "df['char_count'] = df['tweet'].apply(lambda x: len(str(x)))\n",
        "print(df[df['disorder']==0]['char_count'].mean()) #Depression tweets\n",
        "print(df[df['disorder']==1]['char_count'].mean())\n",
        "print(df[df['disorder']==2]['char_count'].mean())\n",
        "print(df[df['disorder']==3]['char_count'].mean())\n",
        "print(df[df['disorder']==4]['char_count'].mean())\n",
        "print(df[df['disorder']==5]['char_count'].mean())\n",
        "print(df[df['disorder']==6]['char_count'].mean())\n",
        "print('***'*30) \n",
        "#Depression tweets are longer than the other tweets\n",
        "\n",
        "#3. UNIQUE WORD-COUNT\n",
        "df['unique_word_count'] = df['tweet'].apply(lambda x: len(set(str(x).split())))\n",
        "print(df[df['disorder']==0]['unique_word_count'].mean()) #Depression tweets\n",
        "print(df[df['disorder']==1]['unique_word_count'].mean()) #other tweets\n",
        "print(df[df['disorder']==2]['unique_word_count'].mean())\n",
        "print(df[df['disorder']==3]['unique_word_count'].mean())\n",
        "print(df[df['disorder']==4]['unique_word_count'].mean())\n",
        "print(df[df['disorder']==5]['unique_word_count'].mean())\n",
        "print(df[df['disorder']==6]['unique_word_count'].mean())"
      ],
      "execution_count": null,
      "outputs": [
        {
          "output_type": "stream",
          "text": [
            "16.372\n",
            "14.85\n",
            "16.916666666666668\n",
            "15.715817694369973\n",
            "16.823529411764707\n",
            "13.923076923076923\n",
            "15.171875\n",
            "******************************************************************************************\n",
            "108.796\n",
            "107.55\n",
            "119.08333333333333\n",
            "110.00268096514745\n",
            "114.76470588235294\n",
            "110.3076923076923\n",
            "103.0625\n",
            "******************************************************************************************\n",
            "15.668\n",
            "14.2\n",
            "15.916666666666666\n",
            "15.09651474530831\n",
            "16.0\n",
            "13.76923076923077\n",
            "14.515625\n"
          ],
          "name": "stdout"
        }
      ]
    },
    {
      "cell_type": "code",
      "metadata": {
        "colab": {
          "base_uri": "https://localhost:8080/"
        },
        "id": "s4V438G3dj3k",
        "outputId": "e79c229c-112f-4e7c-d9e7-02da3cbb00b7"
      },
      "source": [
        "from nltk.corpus import stopwords\n",
        "nltk.download('stopwords')"
      ],
      "execution_count": null,
      "outputs": [
        {
          "output_type": "stream",
          "text": [
            "[nltk_data] Downloading package stopwords to /root/nltk_data...\n",
            "[nltk_data]   Package stopwords is already up-to-date!\n"
          ],
          "name": "stdout"
        },
        {
          "output_type": "execute_result",
          "data": {
            "text/plain": [
              "True"
            ]
          },
          "metadata": {
            "tags": []
          },
          "execution_count": 92
        }
      ]
    },
    {
      "cell_type": "code",
      "metadata": {
        "id": "TzTPUTNhe_DX"
      },
      "source": [
        "#convert to lowercase, strip and remove punctuations\n",
        "def preprocess(text):\n",
        "    text = text.lower() \n",
        "    text=text.strip()  \n",
        "    text=re.compile('<.*?>').sub('', text) \n",
        "    text = re.compile('[%s]' % re.escape(string.punctuation)).sub(' ', text)  \n",
        "    text = re.sub('\\s+', ' ', text)  \n",
        "    text = re.sub(r'\\[[0-9]*\\]',' ',text) \n",
        "    text=re.sub(r'[^\\w\\s]', '', str(text).lower().strip())\n",
        "    text = re.sub(r'\\d',' ',text) \n",
        "    text = re.sub(r'\\s+',' ',text) \n",
        "    return text\n",
        "\n",
        " \n",
        "# STOPWORD REMOVAL\n",
        "def stopword(string):\n",
        "    a= [i for i in string.split() if i not in stopwords.words('english')]\n",
        "    return ' '.join(a)\n",
        "#LEMMATIZATION\n",
        "# Initialize the lemmatizer\n",
        "wl = WordNetLemmatizer()\n",
        " \n",
        "# This is a helper function to map NTLK position tags\n",
        "def get_wordnet_pos(tag):\n",
        "    if tag.startswith('J'):\n",
        "        return wordnet.ADJ\n",
        "    elif tag.startswith('V'):\n",
        "        return wordnet.VERB\n",
        "    elif tag.startswith('N'):\n",
        "        return wordnet.NOUN\n",
        "    elif tag.startswith('R'):\n",
        "        return wordnet.ADV\n",
        "    else:\n",
        "        return wordnet.NOUN\n",
        "# Tokenize the sentence\n",
        "def lemmatizer(string):\n",
        "    word_pos_tags = nltk.pos_tag(word_tokenize(string)) # Get position tags\n",
        "    a=[wl.lemmatize(tag[0], get_wordnet_pos(tag[1])) for idx, tag in enumerate(word_pos_tags)] # Map the position tag and lemmatize the word/token\n",
        "    return \" \".join(a)"
      ],
      "execution_count": null,
      "outputs": []
    },
    {
      "cell_type": "code",
      "metadata": {
        "colab": {
          "base_uri": "https://localhost:8080/",
          "height": 287
        },
        "id": "BLgasTgtdtzO",
        "outputId": "cccac19a-9e0d-4a3e-cc63-0a34b5ded9ea"
      },
      "source": [
        "def remove_stopwords(string):\n",
        "    return lemmatizer(stopword(preprocess(string)))\n",
        "df['clean_tweet'] = df['tweet'].apply(lambda x: remove_stopwords(x))\n",
        "df.head()"
      ],
      "execution_count": null,
      "outputs": [
        {
          "output_type": "execute_result",
          "data": {
            "text/html": [
              "<div>\n",
              "<style scoped>\n",
              "    .dataframe tbody tr th:only-of-type {\n",
              "        vertical-align: middle;\n",
              "    }\n",
              "\n",
              "    .dataframe tbody tr th {\n",
              "        vertical-align: top;\n",
              "    }\n",
              "\n",
              "    .dataframe thead th {\n",
              "        text-align: right;\n",
              "    }\n",
              "</style>\n",
              "<table border=\"1\" class=\"dataframe\">\n",
              "  <thead>\n",
              "    <tr style=\"text-align: right;\">\n",
              "      <th></th>\n",
              "      <th>tweet</th>\n",
              "      <th>disorder</th>\n",
              "      <th>word_count</th>\n",
              "      <th>char_count</th>\n",
              "      <th>unique_word_count</th>\n",
              "      <th>clean_tweet</th>\n",
              "    </tr>\n",
              "  </thead>\n",
              "  <tbody>\n",
              "    <tr>\n",
              "      <th>0</th>\n",
              "      <td>@CarolRadull Caroll I love Manchester United, ...</td>\n",
              "      <td>3</td>\n",
              "      <td>15</td>\n",
              "      <td>102</td>\n",
              "      <td>15</td>\n",
              "      <td>carolradull caroll love manchester united arse...</td>\n",
              "    </tr>\n",
              "    <tr>\n",
              "      <th>1</th>\n",
              "      <td>@realmadriden Come and rescue from depression ...</td>\n",
              "      <td>3</td>\n",
              "      <td>9</td>\n",
              "      <td>60</td>\n",
              "      <td>9</td>\n",
              "      <td>realmadriden come rescue depression arsenal</td>\n",
              "    </tr>\n",
              "    <tr>\n",
              "      <th>2</th>\n",
              "      <td>In USA you see names like Bush, Stone yet they...</td>\n",
              "      <td>3</td>\n",
              "      <td>23</td>\n",
              "      <td>140</td>\n",
              "      <td>23</td>\n",
              "      <td>usa see name like bush stone yet progress afri...</td>\n",
              "    </tr>\n",
              "    <tr>\n",
              "      <th>3</th>\n",
              "      <td>\"Cool head\" aftermath, what a hell is wrong wi...</td>\n",
              "      <td>3</td>\n",
              "      <td>21</td>\n",
              "      <td>140</td>\n",
              "      <td>21</td>\n",
              "      <td>cool head aftermath hell wrong arteta ready de...</td>\n",
              "    </tr>\n",
              "    <tr>\n",
              "      <th>4</th>\n",
              "      <td>@Arsenal just imagining 9 months of this and d...</td>\n",
              "      <td>3</td>\n",
              "      <td>10</td>\n",
              "      <td>62</td>\n",
              "      <td>10</td>\n",
              "      <td>arsenal imagining month damn depression</td>\n",
              "    </tr>\n",
              "  </tbody>\n",
              "</table>\n",
              "</div>"
            ],
            "text/plain": [
              "                                               tweet  ...                                        clean_tweet\n",
              "0  @CarolRadull Caroll I love Manchester United, ...  ...  carolradull caroll love manchester united arse...\n",
              "1  @realmadriden Come and rescue from depression ...  ...        realmadriden come rescue depression arsenal\n",
              "2  In USA you see names like Bush, Stone yet they...  ...  usa see name like bush stone yet progress afri...\n",
              "3  \"Cool head\" aftermath, what a hell is wrong wi...  ...  cool head aftermath hell wrong arteta ready de...\n",
              "4  @Arsenal just imagining 9 months of this and d...  ...            arsenal imagining month damn depression\n",
              "\n",
              "[5 rows x 6 columns]"
            ]
          },
          "metadata": {
            "tags": []
          },
          "execution_count": 94
        }
      ]
    },
    {
      "cell_type": "code",
      "metadata": {
        "colab": {
          "base_uri": "https://localhost:8080/"
        },
        "id": "K6qoJvaJeVB5",
        "outputId": "5ad0b060-d2a6-46bf-bbc7-a8ca5c072d19"
      },
      "source": [
        "df.info()\n",
        "# df_train['clean_text'] = df_train['clean_text'].astype(str)"
      ],
      "execution_count": null,
      "outputs": [
        {
          "output_type": "stream",
          "text": [
            "<class 'pandas.core.frame.DataFrame'>\n",
            "RangeIndex: 749 entries, 0 to 748\n",
            "Data columns (total 6 columns):\n",
            " #   Column             Non-Null Count  Dtype \n",
            "---  ------             --------------  ----- \n",
            " 0   tweet              749 non-null    object\n",
            " 1   disorder           749 non-null    int64 \n",
            " 2   word_count         749 non-null    int64 \n",
            " 3   char_count         749 non-null    int64 \n",
            " 4   unique_word_count  749 non-null    int64 \n",
            " 5   clean_tweet        749 non-null    object\n",
            "dtypes: int64(4), object(2)\n",
            "memory usage: 35.2+ KB\n"
          ],
          "name": "stdout"
        }
      ]
    },
    {
      "cell_type": "code",
      "metadata": {
        "colab": {
          "base_uri": "https://localhost:8080/",
          "height": 585
        },
        "id": "-ZkaabmGmUGQ",
        "outputId": "1fb1184f-631b-40ee-ed50-d7582b5d7784"
      },
      "source": [
        "df"
      ],
      "execution_count": null,
      "outputs": [
        {
          "output_type": "execute_result",
          "data": {
            "text/html": [
              "<div>\n",
              "<style scoped>\n",
              "    .dataframe tbody tr th:only-of-type {\n",
              "        vertical-align: middle;\n",
              "    }\n",
              "\n",
              "    .dataframe tbody tr th {\n",
              "        vertical-align: top;\n",
              "    }\n",
              "\n",
              "    .dataframe thead th {\n",
              "        text-align: right;\n",
              "    }\n",
              "</style>\n",
              "<table border=\"1\" class=\"dataframe\">\n",
              "  <thead>\n",
              "    <tr style=\"text-align: right;\">\n",
              "      <th></th>\n",
              "      <th>tweet</th>\n",
              "      <th>disorder</th>\n",
              "      <th>word_count</th>\n",
              "      <th>char_count</th>\n",
              "      <th>unique_word_count</th>\n",
              "      <th>clean_tweet</th>\n",
              "    </tr>\n",
              "  </thead>\n",
              "  <tbody>\n",
              "    <tr>\n",
              "      <th>0</th>\n",
              "      <td>@CarolRadull Caroll I love Manchester United, ...</td>\n",
              "      <td>3</td>\n",
              "      <td>15</td>\n",
              "      <td>102</td>\n",
              "      <td>15</td>\n",
              "      <td>carolradull caroll love manchester united arse...</td>\n",
              "    </tr>\n",
              "    <tr>\n",
              "      <th>1</th>\n",
              "      <td>@realmadriden Come and rescue from depression ...</td>\n",
              "      <td>3</td>\n",
              "      <td>9</td>\n",
              "      <td>60</td>\n",
              "      <td>9</td>\n",
              "      <td>realmadriden come rescue depression arsenal</td>\n",
              "    </tr>\n",
              "    <tr>\n",
              "      <th>2</th>\n",
              "      <td>In USA you see names like Bush, Stone yet they...</td>\n",
              "      <td>3</td>\n",
              "      <td>23</td>\n",
              "      <td>140</td>\n",
              "      <td>23</td>\n",
              "      <td>usa see name like bush stone yet progress afri...</td>\n",
              "    </tr>\n",
              "    <tr>\n",
              "      <th>3</th>\n",
              "      <td>\"Cool head\" aftermath, what a hell is wrong wi...</td>\n",
              "      <td>3</td>\n",
              "      <td>21</td>\n",
              "      <td>140</td>\n",
              "      <td>21</td>\n",
              "      <td>cool head aftermath hell wrong arteta ready de...</td>\n",
              "    </tr>\n",
              "    <tr>\n",
              "      <th>4</th>\n",
              "      <td>@Arsenal just imagining 9 months of this and d...</td>\n",
              "      <td>3</td>\n",
              "      <td>10</td>\n",
              "      <td>62</td>\n",
              "      <td>10</td>\n",
              "      <td>arsenal imagining month damn depression</td>\n",
              "    </tr>\n",
              "    <tr>\n",
              "      <th>...</th>\n",
              "      <td>...</td>\n",
              "      <td>...</td>\n",
              "      <td>...</td>\n",
              "      <td>...</td>\n",
              "      <td>...</td>\n",
              "      <td>...</td>\n",
              "    </tr>\n",
              "    <tr>\n",
              "      <th>744</th>\n",
              "      <td>the anne hathaway episode is so sad and trigge...</td>\n",
              "      <td>1</td>\n",
              "      <td>26</td>\n",
              "      <td>139</td>\n",
              "      <td>25</td>\n",
              "      <td>anne hathaway episode sad trigger dont bipolar...</td>\n",
              "    </tr>\n",
              "    <tr>\n",
              "      <th>745</th>\n",
              "      <td>\"My mom was diagnosed with bipolar schizophren...</td>\n",
              "      <td>1</td>\n",
              "      <td>20</td>\n",
              "      <td>140</td>\n",
              "      <td>20</td>\n",
              "      <td>mom diagnose bipolar schizophrenia didnt talk ...</td>\n",
              "    </tr>\n",
              "    <tr>\n",
              "      <th>746</th>\n",
              "      <td>@ChiromoHospGrp @Kasungwa_ @WillisRaburu @Auth...</td>\n",
              "      <td>1</td>\n",
              "      <td>10</td>\n",
              "      <td>136</td>\n",
              "      <td>10</td>\n",
              "      <td>chiromohospgrp kasungwa willisraburu authorque...</td>\n",
              "    </tr>\n",
              "    <tr>\n",
              "      <th>747</th>\n",
              "      <td>@shackyll @_fels1 Wtf? I tell you I'm avoiding...</td>\n",
              "      <td>1</td>\n",
              "      <td>23</td>\n",
              "      <td>140</td>\n",
              "      <td>21</td>\n",
              "      <td>shackyll fels wtf tell avoid bipolar nature re...</td>\n",
              "    </tr>\n",
              "    <tr>\n",
              "      <th>748</th>\n",
              "      <td>@shackyll @_fels1 I assumed you were being sar...</td>\n",
              "      <td>1</td>\n",
              "      <td>21</td>\n",
              "      <td>140</td>\n",
              "      <td>20</td>\n",
              "      <td>shackyll fels assume sarcastic try hard avoid ...</td>\n",
              "    </tr>\n",
              "  </tbody>\n",
              "</table>\n",
              "<p>749 rows × 6 columns</p>\n",
              "</div>"
            ],
            "text/plain": [
              "                                                 tweet  ...                                        clean_tweet\n",
              "0    @CarolRadull Caroll I love Manchester United, ...  ...  carolradull caroll love manchester united arse...\n",
              "1    @realmadriden Come and rescue from depression ...  ...        realmadriden come rescue depression arsenal\n",
              "2    In USA you see names like Bush, Stone yet they...  ...  usa see name like bush stone yet progress afri...\n",
              "3    \"Cool head\" aftermath, what a hell is wrong wi...  ...  cool head aftermath hell wrong arteta ready de...\n",
              "4    @Arsenal just imagining 9 months of this and d...  ...            arsenal imagining month damn depression\n",
              "..                                                 ...  ...                                                ...\n",
              "744  the anne hathaway episode is so sad and trigge...  ...  anne hathaway episode sad trigger dont bipolar...\n",
              "745  \"My mom was diagnosed with bipolar schizophren...  ...  mom diagnose bipolar schizophrenia didnt talk ...\n",
              "746  @ChiromoHospGrp @Kasungwa_ @WillisRaburu @Auth...  ...  chiromohospgrp kasungwa willisraburu authorque...\n",
              "747  @shackyll @_fels1 Wtf? I tell you I'm avoiding...  ...  shackyll fels wtf tell avoid bipolar nature re...\n",
              "748  @shackyll @_fels1 I assumed you were being sar...  ...  shackyll fels assume sarcastic try hard avoid ...\n",
              "\n",
              "[749 rows x 6 columns]"
            ]
          },
          "metadata": {
            "tags": []
          },
          "execution_count": 96
        }
      ]
    },
    {
      "cell_type": "markdown",
      "metadata": {
        "id": "-xbVzc0nmTg4"
      },
      "source": [
        ""
      ]
    },
    {
      "cell_type": "code",
      "metadata": {
        "colab": {
          "base_uri": "https://localhost:8080/",
          "height": 287
        },
        "id": "juNupzXnnN-M",
        "outputId": "e8f66c04-0914-4a3c-f048-e8ea52bfda12"
      },
      "source": [
        "df1 = df.copy(deep=True)\n",
        "df1.head()"
      ],
      "execution_count": null,
      "outputs": [
        {
          "output_type": "execute_result",
          "data": {
            "text/html": [
              "<div>\n",
              "<style scoped>\n",
              "    .dataframe tbody tr th:only-of-type {\n",
              "        vertical-align: middle;\n",
              "    }\n",
              "\n",
              "    .dataframe tbody tr th {\n",
              "        vertical-align: top;\n",
              "    }\n",
              "\n",
              "    .dataframe thead th {\n",
              "        text-align: right;\n",
              "    }\n",
              "</style>\n",
              "<table border=\"1\" class=\"dataframe\">\n",
              "  <thead>\n",
              "    <tr style=\"text-align: right;\">\n",
              "      <th></th>\n",
              "      <th>tweet</th>\n",
              "      <th>disorder</th>\n",
              "      <th>word_count</th>\n",
              "      <th>char_count</th>\n",
              "      <th>unique_word_count</th>\n",
              "      <th>clean_tweet</th>\n",
              "    </tr>\n",
              "  </thead>\n",
              "  <tbody>\n",
              "    <tr>\n",
              "      <th>0</th>\n",
              "      <td>@CarolRadull Caroll I love Manchester United, ...</td>\n",
              "      <td>3</td>\n",
              "      <td>15</td>\n",
              "      <td>102</td>\n",
              "      <td>15</td>\n",
              "      <td>carolradull caroll love manchester united arse...</td>\n",
              "    </tr>\n",
              "    <tr>\n",
              "      <th>1</th>\n",
              "      <td>@realmadriden Come and rescue from depression ...</td>\n",
              "      <td>3</td>\n",
              "      <td>9</td>\n",
              "      <td>60</td>\n",
              "      <td>9</td>\n",
              "      <td>realmadriden come rescue depression arsenal</td>\n",
              "    </tr>\n",
              "    <tr>\n",
              "      <th>2</th>\n",
              "      <td>In USA you see names like Bush, Stone yet they...</td>\n",
              "      <td>3</td>\n",
              "      <td>23</td>\n",
              "      <td>140</td>\n",
              "      <td>23</td>\n",
              "      <td>usa see name like bush stone yet progress afri...</td>\n",
              "    </tr>\n",
              "    <tr>\n",
              "      <th>3</th>\n",
              "      <td>\"Cool head\" aftermath, what a hell is wrong wi...</td>\n",
              "      <td>3</td>\n",
              "      <td>21</td>\n",
              "      <td>140</td>\n",
              "      <td>21</td>\n",
              "      <td>cool head aftermath hell wrong arteta ready de...</td>\n",
              "    </tr>\n",
              "    <tr>\n",
              "      <th>4</th>\n",
              "      <td>@Arsenal just imagining 9 months of this and d...</td>\n",
              "      <td>3</td>\n",
              "      <td>10</td>\n",
              "      <td>62</td>\n",
              "      <td>10</td>\n",
              "      <td>arsenal imagining month damn depression</td>\n",
              "    </tr>\n",
              "  </tbody>\n",
              "</table>\n",
              "</div>"
            ],
            "text/plain": [
              "                                               tweet  ...                                        clean_tweet\n",
              "0  @CarolRadull Caroll I love Manchester United, ...  ...  carolradull caroll love manchester united arse...\n",
              "1  @realmadriden Come and rescue from depression ...  ...        realmadriden come rescue depression arsenal\n",
              "2  In USA you see names like Bush, Stone yet they...  ...  usa see name like bush stone yet progress afri...\n",
              "3  \"Cool head\" aftermath, what a hell is wrong wi...  ...  cool head aftermath hell wrong arteta ready de...\n",
              "4  @Arsenal just imagining 9 months of this and d...  ...            arsenal imagining month damn depression\n",
              "\n",
              "[5 rows x 6 columns]"
            ]
          },
          "metadata": {
            "tags": []
          },
          "execution_count": 97
        }
      ]
    },
    {
      "cell_type": "code",
      "metadata": {
        "colab": {
          "base_uri": "https://localhost:8080/",
          "height": 585
        },
        "id": "hl5xP4DymsLs",
        "outputId": "a995b637-7b0a-49a9-8c8f-99faaaeb23c5"
      },
      "source": [
        "import random\n",
        "\n",
        "random.seed(100)\n",
        "\n",
        "df_test = df1.sample(100, random_state = 42)\n",
        "df_test"
      ],
      "execution_count": null,
      "outputs": [
        {
          "output_type": "execute_result",
          "data": {
            "text/html": [
              "<div>\n",
              "<style scoped>\n",
              "    .dataframe tbody tr th:only-of-type {\n",
              "        vertical-align: middle;\n",
              "    }\n",
              "\n",
              "    .dataframe tbody tr th {\n",
              "        vertical-align: top;\n",
              "    }\n",
              "\n",
              "    .dataframe thead th {\n",
              "        text-align: right;\n",
              "    }\n",
              "</style>\n",
              "<table border=\"1\" class=\"dataframe\">\n",
              "  <thead>\n",
              "    <tr style=\"text-align: right;\">\n",
              "      <th></th>\n",
              "      <th>tweet</th>\n",
              "      <th>disorder</th>\n",
              "      <th>word_count</th>\n",
              "      <th>char_count</th>\n",
              "      <th>unique_word_count</th>\n",
              "      <th>clean_tweet</th>\n",
              "    </tr>\n",
              "  </thead>\n",
              "  <tbody>\n",
              "    <tr>\n",
              "      <th>581</th>\n",
              "      <td>All the fears and anxiety of Tigrayans living ...</td>\n",
              "      <td>0</td>\n",
              "      <td>22</td>\n",
              "      <td>140</td>\n",
              "      <td>20</td>\n",
              "      <td>fear anxiety tigrayans live eth state sadly co...</td>\n",
              "    </tr>\n",
              "    <tr>\n",
              "      <th>356</th>\n",
              "      <td>@sav_bmancman @3dLooks Haaa...Depression spend...</td>\n",
              "      <td>3</td>\n",
              "      <td>5</td>\n",
              "      <td>75</td>\n",
              "      <td>5</td>\n",
              "      <td>sav bmancman dlooks haaa depression spending h...</td>\n",
              "    </tr>\n",
              "    <tr>\n",
              "      <th>133</th>\n",
              "      <td>Depression is a mood disorder. It is the feeli...</td>\n",
              "      <td>3</td>\n",
              "      <td>21</td>\n",
              "      <td>139</td>\n",
              "      <td>18</td>\n",
              "      <td>depression mood disorder feel sadness nothing ...</td>\n",
              "    </tr>\n",
              "    <tr>\n",
              "      <th>250</th>\n",
              "      <td>We ask God to take away all the things not mea...</td>\n",
              "      <td>3</td>\n",
              "      <td>22</td>\n",
              "      <td>140</td>\n",
              "      <td>22</td>\n",
              "      <td>ask god take away thing mean u get angry surpr...</td>\n",
              "    </tr>\n",
              "    <tr>\n",
              "      <th>299</th>\n",
              "      <td>@Ngendo87 This is what I think of everytime am...</td>\n",
              "      <td>3</td>\n",
              "      <td>12</td>\n",
              "      <td>71</td>\n",
              "      <td>11</td>\n",
              "      <td>ngendo think everytime alone depression real</td>\n",
              "    </tr>\n",
              "    <tr>\n",
              "      <th>...</th>\n",
              "      <td>...</td>\n",
              "      <td>...</td>\n",
              "      <td>...</td>\n",
              "      <td>...</td>\n",
              "      <td>...</td>\n",
              "      <td>...</td>\n",
              "    </tr>\n",
              "    <tr>\n",
              "      <th>333</th>\n",
              "      <td>@amerix 🙄🙄🙄 I suffer from depression and your ...</td>\n",
              "      <td>3</td>\n",
              "      <td>11</td>\n",
              "      <td>67</td>\n",
              "      <td>11</td>\n",
              "      <td>amerix suffer depression tweet unhelpful</td>\n",
              "    </tr>\n",
              "    <tr>\n",
              "      <th>660</th>\n",
              "      <td>How can Uhuru support a person who didn't supp...</td>\n",
              "      <td>6</td>\n",
              "      <td>23</td>\n",
              "      <td>140</td>\n",
              "      <td>20</td>\n",
              "      <td>uhuru support person support dump deputy willi...</td>\n",
              "    </tr>\n",
              "    <tr>\n",
              "      <th>286</th>\n",
              "      <td>@kevoprince_ Drugs , depression , death ...the...</td>\n",
              "      <td>3</td>\n",
              "      <td>22</td>\n",
              "      <td>126</td>\n",
              "      <td>21</td>\n",
              "      <td>kevoprince drug depression death first two may...</td>\n",
              "    </tr>\n",
              "    <tr>\n",
              "      <th>118</th>\n",
              "      <td>employment the result is brilliant minds will ...</td>\n",
              "      <td>3</td>\n",
              "      <td>21</td>\n",
              "      <td>140</td>\n",
              "      <td>20</td>\n",
              "      <td>employment result brilliant mind end hacker th...</td>\n",
              "    </tr>\n",
              "    <tr>\n",
              "      <th>174</th>\n",
              "      <td>Yup.. stronger even though I'm overwhelmed con...</td>\n",
              "      <td>3</td>\n",
              "      <td>18</td>\n",
              "      <td>140</td>\n",
              "      <td>17</td>\n",
              "      <td>yup strong even though overwhelm constantly fe...</td>\n",
              "    </tr>\n",
              "  </tbody>\n",
              "</table>\n",
              "<p>100 rows × 6 columns</p>\n",
              "</div>"
            ],
            "text/plain": [
              "                                                 tweet  ...                                        clean_tweet\n",
              "581  All the fears and anxiety of Tigrayans living ...  ...  fear anxiety tigrayans live eth state sadly co...\n",
              "356  @sav_bmancman @3dLooks Haaa...Depression spend...  ...  sav bmancman dlooks haaa depression spending h...\n",
              "133  Depression is a mood disorder. It is the feeli...  ...  depression mood disorder feel sadness nothing ...\n",
              "250  We ask God to take away all the things not mea...  ...  ask god take away thing mean u get angry surpr...\n",
              "299  @Ngendo87 This is what I think of everytime am...  ...       ngendo think everytime alone depression real\n",
              "..                                                 ...  ...                                                ...\n",
              "333  @amerix 🙄🙄🙄 I suffer from depression and your ...  ...           amerix suffer depression tweet unhelpful\n",
              "660  How can Uhuru support a person who didn't supp...  ...  uhuru support person support dump deputy willi...\n",
              "286  @kevoprince_ Drugs , depression , death ...the...  ...  kevoprince drug depression death first two may...\n",
              "118  employment the result is brilliant minds will ...  ...  employment result brilliant mind end hacker th...\n",
              "174  Yup.. stronger even though I'm overwhelmed con...  ...  yup strong even though overwhelm constantly fe...\n",
              "\n",
              "[100 rows x 6 columns]"
            ]
          },
          "metadata": {
            "tags": []
          },
          "execution_count": 98
        }
      ]
    },
    {
      "cell_type": "code",
      "metadata": {
        "id": "lKU8Jl_Mol8I"
      },
      "source": [
        "drop_idx = df_test.index\n",
        "df1.drop(drop_idx, axis = 0, inplace=True)\n"
      ],
      "execution_count": null,
      "outputs": []
    },
    {
      "cell_type": "code",
      "metadata": {
        "colab": {
          "base_uri": "https://localhost:8080/"
        },
        "id": "PI7Ixvgfsvqj",
        "outputId": "28e8b82f-d6d9-4dd8-d1b3-a6ee3907f7b5"
      },
      "source": [
        "df1.shape"
      ],
      "execution_count": null,
      "outputs": [
        {
          "output_type": "execute_result",
          "data": {
            "text/plain": [
              "(649, 6)"
            ]
          },
          "metadata": {
            "tags": []
          },
          "execution_count": 100
        }
      ]
    },
    {
      "cell_type": "code",
      "metadata": {
        "colab": {
          "base_uri": "https://localhost:8080/"
        },
        "id": "14dE31t5tTNn",
        "outputId": "c009f4d3-930f-45da-8982-9f0a9850b12f"
      },
      "source": [
        "\n",
        "# create Word2vec model\n",
        "#here words_f should be a list containing words from each document. say 1st row of the list is words from the 1st document/sentence\n",
        "#length of words_f is number of documents/sentences in your dataset\n",
        "df1['clean_tweet_tok']=[nltk.word_tokenize(i) for i in df1['clean_tweet']] #convert preprocessed sentence to tokenized sentence\n",
        "model = Word2Vec(df1['clean_tweet_tok'],min_count=1)  #min_count=1 means word should be present at least across all documents,\n",
        "#if min_count=2 means if the word is present less than 2 times across all the documents then we shouldn't consider it\n",
        "\n",
        "\n",
        "w2v = dict(zip(model.wv.index2word, model.wv.syn0))  #combination of word and its vector\n",
        "\n",
        "#for converting sentence to vectors/numbers from word vectors result by Word2Vec\n",
        "class MeanEmbeddingVectorizer(object):\n",
        "    def __init__(self, word2vec):\n",
        "        self.word2vec = word2vec\n",
        "        # if a text is empty we should return a vector of zeros\n",
        "        # with the same dimensionality as all the other vectors\n",
        "        self.dim = len(next(iter(word2vec.values())))\n",
        "\n",
        "    def fit(self, X, y):\n",
        "        return self\n",
        "\n",
        "    def transform(self, X):\n",
        "        return np.array([\n",
        "            np.mean([self.word2vec[w] for w in words if w in self.word2vec]\n",
        "                    or [np.zeros(self.dim)], axis=0)\n",
        "            for words in X\n",
        "        ])"
      ],
      "execution_count": null,
      "outputs": [
        {
          "output_type": "stream",
          "text": [
            "/usr/local/lib/python3.7/dist-packages/ipykernel_launcher.py:10: DeprecationWarning: Call to deprecated `syn0` (Attribute will be removed in 4.0.0, use self.wv.vectors instead).\n",
            "  # Remove the CWD from sys.path while we load stuff.\n"
          ],
          "name": "stderr"
        }
      ]
    },
    {
      "cell_type": "code",
      "metadata": {
        "id": "hXEpGZ8Gfzwa"
      },
      "source": [
        "#SPLITTING THE TRAINING DATASET INTO TRAINING AND VALIDATION\n",
        "# We first split the data into training and testing set. \n",
        "\n",
        "\n",
        "X_train, X_val, y_train, y_val = train_test_split(df1[\"clean_tweet\"], \n",
        "                                                  df1[\"disorder\"],\n",
        "                                                  test_size=0.33,\n",
        "                                                  shuffle=True)\n",
        "\n",
        "X_train_tok= [nltk.word_tokenize(i) for i in X_train]  #for word2vec # X_train\n",
        "\n",
        "X_val_tok= [nltk.word_tokenize(i) for i in X_val]      #for word2vec # X_test\n",
        "\n",
        "#TF-IDF\n",
        "# Convert x_train to vector since model can only run on numbers and not words- Fit and transform\n",
        "#\n",
        "tfidf_vectorizer = TfidfVectorizer(use_idf=True)\n",
        "X_train_vectors_tfidf = tfidf_vectorizer.fit_transform(X_train) #tfidf runs on non-tokenized sentences unlike word2vec\n",
        "#\n",
        "\n",
        "# Only transform x_test (not fit and transform)\n",
        "X_val_vectors_tfidf = tfidf_vectorizer.transform(X_val) #Don't fit() your TfidfVectorizer to your test data: it will \n",
        "#\n",
        "#change the word-indexes & weights to match test data. Rather, fit on the training data, then use the same train-data-\n",
        "#fit model on the test data, to reflect the fact you're analyzing the test data only based on what was learned without \n",
        "#it, and the have compatible\n",
        "\n",
        "\n",
        "#Word2vec\n",
        "# Fit and transform\n",
        "#\n",
        "modelw = MeanEmbeddingVectorizer(w2v)\n",
        "X_train_vectors_w2v = modelw.transform(X_train_tok)\n",
        "X_val_vectors_w2v = modelw.transform(X_val_tok)"
      ],
      "execution_count": null,
      "outputs": []
    },
    {
      "cell_type": "code",
      "metadata": {
        "colab": {
          "base_uri": "https://localhost:8080/"
        },
        "id": "Mei4Bhx9h6yW",
        "outputId": "45569f17-e9d5-4862-c397-1e9c99ce545a"
      },
      "source": [
        "X_train.shape"
      ],
      "execution_count": null,
      "outputs": [
        {
          "output_type": "execute_result",
          "data": {
            "text/plain": [
              "(434,)"
            ]
          },
          "metadata": {
            "tags": []
          },
          "execution_count": 103
        }
      ]
    },
    {
      "cell_type": "code",
      "metadata": {
        "id": "G6C9xLptt9Nh",
        "colab": {
          "base_uri": "https://localhost:8080/"
        },
        "outputId": "bc8bb5b3-409e-466a-86ed-5461adcfa537"
      },
      "source": [
        "#FITTING THE CLASSIFICATION MODEL using Logistic Regression(tf-idf)\n",
        "\n",
        "lr_tfidf=LogisticRegression(solver = 'liblinear', C=10, penalty = 'l2')\n",
        "lr_tfidf.fit(X_train_vectors_tfidf, y_train)  #model\n",
        "\n",
        "#Predict y value for test dataset\n",
        "y_predict = lr_tfidf.predict(X_val_vectors_tfidf)\n",
        "y_prob = lr_tfidf.predict_proba(X_val_vectors_tfidf)[:,1]\n",
        " \n",
        "\n",
        "print(classification_report(y_val,y_predict))\n",
        "print('Confusion Matrix:',confusion_matrix(y_val, y_predict))\n",
        " "
      ],
      "execution_count": null,
      "outputs": [
        {
          "output_type": "stream",
          "text": [
            "              precision    recall  f1-score   support\n",
            "\n",
            "           0       0.89      0.66      0.76        73\n",
            "           1       1.00      0.29      0.44         7\n",
            "           2       1.00      0.33      0.50         3\n",
            "           3       0.64      0.92      0.75        99\n",
            "           4       1.00      0.14      0.25         7\n",
            "           5       0.00      0.00      0.00         5\n",
            "           6       0.86      0.57      0.69        21\n",
            "\n",
            "    accuracy                           0.72       215\n",
            "   macro avg       0.77      0.42      0.48       215\n",
            "weighted avg       0.76      0.72      0.70       215\n",
            "\n",
            "Confusion Matrix: [[48  0  0 25  0  0  0]\n",
            " [ 0  2  0  5  0  0  0]\n",
            " [ 0  0  1  2  0  0  0]\n",
            " [ 6  0  0 91  0  0  2]\n",
            " [ 0  0  0  6  1  0  0]\n",
            " [ 0  0  0  5  0  0  0]\n",
            " [ 0  0  0  9  0  0 12]]\n"
          ],
          "name": "stdout"
        },
        {
          "output_type": "stream",
          "text": [
            "/usr/local/lib/python3.7/dist-packages/sklearn/metrics/_classification.py:1272: UndefinedMetricWarning: Precision and F-score are ill-defined and being set to 0.0 in labels with no predicted samples. Use `zero_division` parameter to control this behavior.\n",
            "  _warn_prf(average, modifier, msg_start, len(result))\n"
          ],
          "name": "stderr"
        }
      ]
    },
    {
      "cell_type": "markdown",
      "metadata": {
        "id": "eWwEIF1-DeP8"
      },
      "source": [
        "depression = 3\n",
        "anxiety 0\n",
        "suicidal 6\n",
        "bipolar 1\n",
        "paranoia 4\n",
        "schizophrenia 5\n",
        "dementia 2"
      ]
    },
    {
      "cell_type": "code",
      "metadata": {
        "colab": {
          "base_uri": "https://localhost:8080/"
        },
        "id": "bOXGVBA2_Gh7",
        "outputId": "75aaa25a-30af-4585-a6b1-69c7b3a3bae2"
      },
      "source": [
        "df_test.columns"
      ],
      "execution_count": null,
      "outputs": [
        {
          "output_type": "execute_result",
          "data": {
            "text/plain": [
              "Index(['tweet', 'disorder', 'word_count', 'char_count', 'unique_word_count',\n",
              "       'clean_tweet'],\n",
              "      dtype='object')"
            ]
          },
          "metadata": {
            "tags": []
          },
          "execution_count": 105
        }
      ]
    },
    {
      "cell_type": "code",
      "metadata": {
        "colab": {
          "base_uri": "https://localhost:8080/"
        },
        "id": "PI8PEWcb_LsK",
        "outputId": "258ceb44-0ecb-4b44-98e2-006caed7ec9b"
      },
      "source": [
        "# Perform prediction on the test dataset by first setting it to X_test\n",
        "X_test=df_test['clean_tweet'] \n",
        "\n",
        "# Text to vector\n",
        "X_vector=tfidf_vectorizer.transform(X_test) #converting X_test to vector\n",
        "y_predict = lr_tfidf.predict(X_vector)      #use the trained model on X_vector\n",
        "y_prob = lr_tfidf.predict_proba(X_vector)[:,1]\n",
        "\n",
        "# Create a probability column on the test dataframe\n",
        "df_test['predict_prob']= y_prob\n",
        "\n",
        "# Create a target column on the test dataframe which will include the predicted mental health categories \n",
        "df_test['target']= y_predict\n",
        "print(df_test.head())\n"
      ],
      "execution_count": null,
      "outputs": [
        {
          "output_type": "stream",
          "text": [
            "                                                 tweet  ...  target\n",
            "581  All the fears and anxiety of Tigrayans living ...  ...       0\n",
            "356  @sav_bmancman @3dLooks Haaa...Depression spend...  ...       3\n",
            "133  Depression is a mood disorder. It is the feeli...  ...       3\n",
            "250  We ask God to take away all the things not mea...  ...       3\n",
            "299  @Ngendo87 This is what I think of everytime am...  ...       3\n",
            "\n",
            "[5 rows x 8 columns]\n"
          ],
          "name": "stdout"
        }
      ]
    },
    {
      "cell_type": "code",
      "metadata": {
        "colab": {
          "base_uri": "https://localhost:8080/"
        },
        "id": "2U6ggcPf_TiG",
        "outputId": "ef56987c-0a47-4e55-a2eb-dcda97b508b7"
      },
      "source": [
        "# preview columns for the test dataframe\n",
        "df_test.columns"
      ],
      "execution_count": null,
      "outputs": [
        {
          "output_type": "execute_result",
          "data": {
            "text/plain": [
              "Index(['tweet', 'disorder', 'word_count', 'char_count', 'unique_word_count',\n",
              "       'clean_tweet', 'predict_prob', 'target'],\n",
              "      dtype='object')"
            ]
          },
          "metadata": {
            "tags": []
          },
          "execution_count": 107
        }
      ]
    },
    {
      "cell_type": "code",
      "metadata": {
        "colab": {
          "base_uri": "https://localhost:8080/",
          "height": 417
        },
        "id": "n9eVCd6a_XLm",
        "outputId": "7b130662-6338-48d5-b5de-d369b3fcdc24"
      },
      "source": [
        "# Create a copy of the test dataframe then drop unnecessary columns\n",
        "df_test_copy = df_test.copy(deep=True)\n",
        "\n",
        "# columns to drop\n",
        "drop_columns = ['tweet', 'word_count', 'char_count', 'unique_word_count']\n",
        "\n",
        "# Drop the unnecessary columns\n",
        "df_test_copy.drop(drop_columns, axis=1, inplace=True)\n",
        "\n",
        "# Preview the predicted model\n",
        "df_test_copy"
      ],
      "execution_count": null,
      "outputs": [
        {
          "output_type": "execute_result",
          "data": {
            "text/html": [
              "<div>\n",
              "<style scoped>\n",
              "    .dataframe tbody tr th:only-of-type {\n",
              "        vertical-align: middle;\n",
              "    }\n",
              "\n",
              "    .dataframe tbody tr th {\n",
              "        vertical-align: top;\n",
              "    }\n",
              "\n",
              "    .dataframe thead th {\n",
              "        text-align: right;\n",
              "    }\n",
              "</style>\n",
              "<table border=\"1\" class=\"dataframe\">\n",
              "  <thead>\n",
              "    <tr style=\"text-align: right;\">\n",
              "      <th></th>\n",
              "      <th>disorder</th>\n",
              "      <th>clean_tweet</th>\n",
              "      <th>predict_prob</th>\n",
              "      <th>target</th>\n",
              "    </tr>\n",
              "  </thead>\n",
              "  <tbody>\n",
              "    <tr>\n",
              "      <th>581</th>\n",
              "      <td>0</td>\n",
              "      <td>fear anxiety tigrayans live eth state sadly co...</td>\n",
              "      <td>0.010400</td>\n",
              "      <td>0</td>\n",
              "    </tr>\n",
              "    <tr>\n",
              "      <th>356</th>\n",
              "      <td>3</td>\n",
              "      <td>sav bmancman dlooks haaa depression spending h...</td>\n",
              "      <td>0.003850</td>\n",
              "      <td>3</td>\n",
              "    </tr>\n",
              "    <tr>\n",
              "      <th>133</th>\n",
              "      <td>3</td>\n",
              "      <td>depression mood disorder feel sadness nothing ...</td>\n",
              "      <td>0.014298</td>\n",
              "      <td>3</td>\n",
              "    </tr>\n",
              "    <tr>\n",
              "      <th>250</th>\n",
              "      <td>3</td>\n",
              "      <td>ask god take away thing mean u get angry surpr...</td>\n",
              "      <td>0.008400</td>\n",
              "      <td>3</td>\n",
              "    </tr>\n",
              "    <tr>\n",
              "      <th>299</th>\n",
              "      <td>3</td>\n",
              "      <td>ngendo think everytime alone depression real</td>\n",
              "      <td>0.005197</td>\n",
              "      <td>3</td>\n",
              "    </tr>\n",
              "    <tr>\n",
              "      <th>...</th>\n",
              "      <td>...</td>\n",
              "      <td>...</td>\n",
              "      <td>...</td>\n",
              "      <td>...</td>\n",
              "    </tr>\n",
              "    <tr>\n",
              "      <th>333</th>\n",
              "      <td>3</td>\n",
              "      <td>amerix suffer depression tweet unhelpful</td>\n",
              "      <td>0.005110</td>\n",
              "      <td>3</td>\n",
              "    </tr>\n",
              "    <tr>\n",
              "      <th>660</th>\n",
              "      <td>6</td>\n",
              "      <td>uhuru support person support dump deputy willi...</td>\n",
              "      <td>0.007214</td>\n",
              "      <td>6</td>\n",
              "    </tr>\n",
              "    <tr>\n",
              "      <th>286</th>\n",
              "      <td>3</td>\n",
              "      <td>kevoprince drug depression death first two may...</td>\n",
              "      <td>0.006080</td>\n",
              "      <td>3</td>\n",
              "    </tr>\n",
              "    <tr>\n",
              "      <th>118</th>\n",
              "      <td>3</td>\n",
              "      <td>employment result brilliant mind end hacker th...</td>\n",
              "      <td>0.008843</td>\n",
              "      <td>3</td>\n",
              "    </tr>\n",
              "    <tr>\n",
              "      <th>174</th>\n",
              "      <td>3</td>\n",
              "      <td>yup strong even though overwhelm constantly fe...</td>\n",
              "      <td>0.007870</td>\n",
              "      <td>3</td>\n",
              "    </tr>\n",
              "  </tbody>\n",
              "</table>\n",
              "<p>100 rows × 4 columns</p>\n",
              "</div>"
            ],
            "text/plain": [
              "     disorder  ... target\n",
              "581         0  ...      0\n",
              "356         3  ...      3\n",
              "133         3  ...      3\n",
              "250         3  ...      3\n",
              "299         3  ...      3\n",
              "..        ...  ...    ...\n",
              "333         3  ...      3\n",
              "660         6  ...      6\n",
              "286         3  ...      3\n",
              "118         3  ...      3\n",
              "174         3  ...      3\n",
              "\n",
              "[100 rows x 4 columns]"
            ]
          },
          "metadata": {
            "tags": []
          },
          "execution_count": 108
        }
      ]
    },
    {
      "cell_type": "markdown",
      "metadata": {
        "id": "m7smyylT_uKc"
      },
      "source": [
        "We will now use Neural Networks to create a predictive model for the mental health categories"
      ]
    }
  ]
}