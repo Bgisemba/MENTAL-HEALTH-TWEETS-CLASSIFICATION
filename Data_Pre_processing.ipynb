{
  "nbformat": 4,
  "nbformat_minor": 0,
  "metadata": {
    "colab": {
      "name": "Data Pre-processing.ipynb",
      "provenance": [],
      "authorship_tag": "ABX9TyPyPDXTmnkbFpmwmel/kwqE",
      "include_colab_link": true
    },
    "kernelspec": {
      "name": "python3",
      "display_name": "Python 3"
    },
    "language_info": {
      "name": "python"
    }
  },
  "cells": [
    {
      "cell_type": "markdown",
      "metadata": {
        "id": "view-in-github",
        "colab_type": "text"
      },
      "source": [
        "<a href=\"https://colab.research.google.com/github/BrianGisemba/MENTAL-HEALTH-TWEETS-CLASSIFICATION/blob/data_preprocessing/Data_Pre_processing.ipynb\" target=\"_parent\"><img src=\"https://colab.research.google.com/assets/colab-badge.svg\" alt=\"Open In Colab\"/></a>"
      ]
    },
    {
      "cell_type": "code",
      "metadata": {
        "colab": {
          "base_uri": "https://localhost:8080/"
        },
        "id": "y0p_GlpRC4NV",
        "outputId": "9297374a-8ccf-4cf7-cfaa-a6a563aa8e88"
      },
      "source": [
        "# Load the libraries needed \n",
        "import pandas as pd\n",
        "import numpy as np\n",
        "import matplotlib.pyplot as plt\n",
        "import seaborn as sns\n",
        "#for text pre-processing\n",
        "import re, string\n",
        "import nltk\n",
        "from nltk.tokenize import word_tokenize\n",
        "from nltk.corpus import stopwords\n",
        "from nltk.tokenize import word_tokenize\n",
        "from nltk.stem import SnowballStemmer\n",
        "from nltk.corpus import wordnet\n",
        "from nltk.stem import WordNetLemmatizer\n",
        "nltk.download('punkt')\n",
        "nltk.download('averaged_perceptron_tagger')\n",
        "nltk.download('wordnet')\n",
        "#for model-building\n",
        "from sklearn.model_selection import train_test_split\n",
        "from sklearn.linear_model import LogisticRegression\n",
        "from sklearn.naive_bayes import MultinomialNB\n",
        "from sklearn.metrics import classification_report, f1_score, accuracy_score, confusion_matrix\n",
        "from sklearn.metrics import roc_curve, auc, roc_auc_score\n",
        "# bag of words\n",
        "from sklearn.feature_extraction.text import TfidfVectorizer\n",
        "from sklearn.feature_extraction.text import CountVectorizer\n",
        "#for word embedding\n",
        "import gensim\n",
        "from gensim.models import Word2Vec"
      ],
      "execution_count": null,
      "outputs": [
        {
          "output_type": "stream",
          "text": [
            "[nltk_data] Downloading package punkt to /root/nltk_data...\n",
            "[nltk_data]   Package punkt is already up-to-date!\n",
            "[nltk_data] Downloading package averaged_perceptron_tagger to\n",
            "[nltk_data]     /root/nltk_data...\n",
            "[nltk_data]   Package averaged_perceptron_tagger is already up-to-\n",
            "[nltk_data]       date!\n",
            "[nltk_data] Downloading package wordnet to /root/nltk_data...\n",
            "[nltk_data]   Package wordnet is already up-to-date!\n"
          ],
          "name": "stdout"
        }
      ]
    },
    {
      "cell_type": "code",
      "metadata": {
        "colab": {
          "base_uri": "https://localhost:8080/",
          "height": 485
        },
        "id": "YYceaFpeDqyB",
        "outputId": "ac285830-8e47-45db-fd88-c6e0df0debbf"
      },
      "source": [
        "#reading the dataset\n",
        "df=pd.read_csv(\"/content/MentalHealth (2).csv\")\n",
        "df.head()"
      ],
      "execution_count": null,
      "outputs": [
        {
          "output_type": "execute_result",
          "data": {
            "text/html": [
              "<div>\n",
              "<style scoped>\n",
              "    .dataframe tbody tr th:only-of-type {\n",
              "        vertical-align: middle;\n",
              "    }\n",
              "\n",
              "    .dataframe tbody tr th {\n",
              "        vertical-align: top;\n",
              "    }\n",
              "\n",
              "    .dataframe thead th {\n",
              "        text-align: right;\n",
              "    }\n",
              "</style>\n",
              "<table border=\"1\" class=\"dataframe\">\n",
              "  <thead>\n",
              "    <tr style=\"text-align: right;\">\n",
              "      <th></th>\n",
              "      <th>Unnamed: 0</th>\n",
              "      <th>Unnamed: 0.1</th>\n",
              "      <th>user</th>\n",
              "      <th>tweet</th>\n",
              "      <th>location</th>\n",
              "      <th>description</th>\n",
              "      <th>friends_count</th>\n",
              "      <th>followers_count</th>\n",
              "      <th>statuses_count</th>\n",
              "      <th>created_at</th>\n",
              "      <th>retweet_count</th>\n",
              "      <th>hashtags</th>\n",
              "      <th>disorder</th>\n",
              "    </tr>\n",
              "  </thead>\n",
              "  <tbody>\n",
              "    <tr>\n",
              "      <th>0</th>\n",
              "      <td>0</td>\n",
              "      <td>0</td>\n",
              "      <td>TheKenyanPost</td>\n",
              "      <td>SHOCK as a young man climbs on top of a hospit...</td>\n",
              "      <td>Nairobi, Kenya</td>\n",
              "      <td>News, Politics, Entertainment, Gossip, Feature...</td>\n",
              "      <td>434</td>\n",
              "      <td>52951</td>\n",
              "      <td>356584</td>\n",
              "      <td>2021-08-17 10:33:55</td>\n",
              "      <td>0</td>\n",
              "      <td>[]</td>\n",
              "      <td>depression</td>\n",
              "    </tr>\n",
              "    <tr>\n",
              "      <th>1</th>\n",
              "      <td>1</td>\n",
              "      <td>1</td>\n",
              "      <td>Goodguy_254</td>\n",
              "      <td>People tend to hide depression under drinking ...</td>\n",
              "      <td>Nairobi, Kenya</td>\n",
              "      <td>poet\\n writer🧾\\nsoftware developer🖥️\\n program...</td>\n",
              "      <td>2074</td>\n",
              "      <td>2257</td>\n",
              "      <td>1284</td>\n",
              "      <td>2021-08-17 10:20:30</td>\n",
              "      <td>0</td>\n",
              "      <td>[]</td>\n",
              "      <td>depression</td>\n",
              "    </tr>\n",
              "    <tr>\n",
              "      <th>2</th>\n",
              "      <td>2</td>\n",
              "      <td>2</td>\n",
              "      <td>AlfredLete</td>\n",
              "      <td>@Lily_nganga Depression</td>\n",
              "      <td>Nairobi</td>\n",
              "      <td>do what is right,not what is easy</td>\n",
              "      <td>8515</td>\n",
              "      <td>13075</td>\n",
              "      <td>37974</td>\n",
              "      <td>2021-08-17 09:32:49</td>\n",
              "      <td>0</td>\n",
              "      <td>[]</td>\n",
              "      <td>depression</td>\n",
              "    </tr>\n",
              "    <tr>\n",
              "      <th>3</th>\n",
              "      <td>3</td>\n",
              "      <td>3</td>\n",
              "      <td>GeraldNgaoPk7</td>\n",
              "      <td>Itumbi has subjected bloggers in to depression...</td>\n",
              "      <td>Nairobi, Kenya</td>\n",
              "      <td>Pan-Africanist||NeoMarxistRevolutionary||Inter...</td>\n",
              "      <td>21503</td>\n",
              "      <td>20437</td>\n",
              "      <td>164694</td>\n",
              "      <td>2021-08-17 08:56:26</td>\n",
              "      <td>2</td>\n",
              "      <td>[{'text': 'ItumbiGhostWorkers', 'indices': [77...</td>\n",
              "      <td>depression</td>\n",
              "    </tr>\n",
              "    <tr>\n",
              "      <th>4</th>\n",
              "      <td>4</td>\n",
              "      <td>4</td>\n",
              "      <td>swyma304</td>\n",
              "      <td>Mental health isn’t just anxiety &amp;amp; depress...</td>\n",
              "      <td>Nairobi, Kenya</td>\n",
              "      <td>Psychiatry Resident. Certified Cognitive Behav...</td>\n",
              "      <td>93</td>\n",
              "      <td>206</td>\n",
              "      <td>594</td>\n",
              "      <td>2021-08-17 08:18:20</td>\n",
              "      <td>1</td>\n",
              "      <td>[]</td>\n",
              "      <td>depression</td>\n",
              "    </tr>\n",
              "  </tbody>\n",
              "</table>\n",
              "</div>"
            ],
            "text/plain": [
              "   Unnamed: 0  ...    disorder\n",
              "0           0  ...  depression\n",
              "1           1  ...  depression\n",
              "2           2  ...  depression\n",
              "3           3  ...  depression\n",
              "4           4  ...  depression\n",
              "\n",
              "[5 rows x 13 columns]"
            ]
          },
          "metadata": {
            "tags": []
          },
          "execution_count": 49
        }
      ]
    },
    {
      "cell_type": "markdown",
      "metadata": {
        "id": "N1yvaHWUEUdc"
      },
      "source": [
        "#Data Cleaning"
      ]
    },
    {
      "cell_type": "markdown",
      "metadata": {
        "id": "Tb53gaqTEhrC"
      },
      "source": [
        "Validity"
      ]
    },
    {
      "cell_type": "code",
      "metadata": {
        "colab": {
          "base_uri": "https://localhost:8080/"
        },
        "id": "bwak7xsLEjTI",
        "outputId": "d402a847-afe0-46d8-aa35-8dbcee9f96f3"
      },
      "source": [
        "# Droping all irrelevant collumns\n",
        "droplist = ['Unnamed: 0','Unnamed: 0.1','description','friends_count', 'user',\n",
        "       'followers_count', 'statuses_count', 'retweet_count',\n",
        "       'hashtags']\n",
        "df.drop(droplist, axis=1, inplace=True)\n",
        "df.columns"
      ],
      "execution_count": null,
      "outputs": [
        {
          "output_type": "execute_result",
          "data": {
            "text/plain": [
              "Index(['tweet', 'location', 'created_at', 'disorder'], dtype='object')"
            ]
          },
          "metadata": {
            "tags": []
          },
          "execution_count": 50
        }
      ]
    },
    {
      "cell_type": "markdown",
      "metadata": {
        "id": "lzISBhZ_F8kT"
      },
      "source": [
        "Consistency"
      ]
    },
    {
      "cell_type": "code",
      "metadata": {
        "colab": {
          "base_uri": "https://localhost:8080/"
        },
        "id": "I7m3UVYkF_j8",
        "outputId": "b844099f-559e-48df-ff09-9e07060cda05"
      },
      "source": [
        "#we will look for the number of rows with duplicate records\n",
        "print('Number of rows with duplicated values',df.duplicated().sum())"
      ],
      "execution_count": null,
      "outputs": [
        {
          "output_type": "stream",
          "text": [
            "Number of rows with duplicated values 0\n"
          ],
          "name": "stdout"
        }
      ]
    },
    {
      "cell_type": "markdown",
      "metadata": {
        "id": "oi7Bv7n5HV44"
      },
      "source": [
        "Completness"
      ]
    },
    {
      "cell_type": "code",
      "metadata": {
        "colab": {
          "base_uri": "https://localhost:8080/"
        },
        "id": "6xmm_DIoHNxx",
        "outputId": "22808e11-2405-4cc5-8a8b-cd4a1dca2080"
      },
      "source": [
        "#Checking for null values\n",
        "df.isnull().sum()"
      ],
      "execution_count": null,
      "outputs": [
        {
          "output_type": "execute_result",
          "data": {
            "text/plain": [
              "tweet         0\n",
              "location      3\n",
              "created_at    0\n",
              "disorder      0\n",
              "dtype: int64"
            ]
          },
          "metadata": {
            "tags": []
          },
          "execution_count": 52
        }
      ]
    },
    {
      "cell_type": "markdown",
      "metadata": {
        "id": "hKu20l6eHs2z"
      },
      "source": [
        "Uniformity"
      ]
    },
    {
      "cell_type": "code",
      "metadata": {
        "colab": {
          "base_uri": "https://localhost:8080/"
        },
        "id": "hA87CfB2HsHd",
        "outputId": "6a22d234-f77b-4fe7-80bd-1c8a988f4a24"
      },
      "source": [
        "df.columns=df.columns.str.strip().str.lower().str.replace(' ','_').str.replace('(','').str.replace(')','')\n",
        "df.columns"
      ],
      "execution_count": null,
      "outputs": [
        {
          "output_type": "execute_result",
          "data": {
            "text/plain": [
              "Index(['tweet', 'location', 'created_at', 'disorder'], dtype='object')"
            ]
          },
          "metadata": {
            "tags": []
          },
          "execution_count": 53
        }
      ]
    },
    {
      "cell_type": "code",
      "metadata": {
        "colab": {
          "base_uri": "https://localhost:8080/"
        },
        "id": "MCXtIsIAI1FZ",
        "outputId": "46c75402-a09e-46eb-9f8e-278a0ad1787f"
      },
      "source": [
        "# Checking the data types of the columns\n",
        "df.dtypes"
      ],
      "execution_count": null,
      "outputs": [
        {
          "output_type": "execute_result",
          "data": {
            "text/plain": [
              "tweet         object\n",
              "location      object\n",
              "created_at    object\n",
              "disorder      object\n",
              "dtype: object"
            ]
          },
          "metadata": {
            "tags": []
          },
          "execution_count": 54
        }
      ]
    },
    {
      "cell_type": "code",
      "metadata": {
        "colab": {
          "base_uri": "https://localhost:8080/"
        },
        "id": "XBs9UwTOJCar",
        "outputId": "8c028270-9dbf-4cfa-a2e4-f7c6ab42e0c1"
      },
      "source": [
        "# Changing the created_at column into time and date\n",
        "df.created_at = pd.to_datetime(df.created_at)\n",
        "df.dtypes"
      ],
      "execution_count": null,
      "outputs": [
        {
          "output_type": "execute_result",
          "data": {
            "text/plain": [
              "tweet                 object\n",
              "location              object\n",
              "created_at    datetime64[ns]\n",
              "disorder              object\n",
              "dtype: object"
            ]
          },
          "metadata": {
            "tags": []
          },
          "execution_count": 55
        }
      ]
    },
    {
      "cell_type": "markdown",
      "metadata": {
        "id": "Unt5pyYmJJ6e"
      },
      "source": [
        "#Data Preprocessing"
      ]
    },
    {
      "cell_type": "code",
      "metadata": {
        "colab": {
          "base_uri": "https://localhost:8080/"
        },
        "id": "bjjrR2S5Q683",
        "outputId": "68c99409-141e-4280-b704-e929d49b9f82"
      },
      "source": [
        "from nltk.corpus import stopwords\n",
        "nltk.download('stopwords')"
      ],
      "execution_count": null,
      "outputs": [
        {
          "output_type": "stream",
          "text": [
            "[nltk_data] Downloading package stopwords to /root/nltk_data...\n",
            "[nltk_data]   Unzipping corpora/stopwords.zip.\n"
          ],
          "name": "stdout"
        },
        {
          "output_type": "execute_result",
          "data": {
            "text/plain": [
              "True"
            ]
          },
          "metadata": {
            "tags": []
          },
          "execution_count": 56
        }
      ]
    },
    {
      "cell_type": "code",
      "metadata": {
        "id": "7RnHGDCPQ6sq"
      },
      "source": [
        "#convert to lowercase, strip and remove punctuations\n",
        "def preprocess(text):\n",
        "    text = text.lower() \n",
        "    text=text.strip()  \n",
        "    text=re.compile('<.*?>').sub('', text) \n",
        "    text = re.compile('[%s]' % re.escape(string.punctuation)).sub(' ', text)  \n",
        "    text = re.sub('\\s+', ' ', text)  \n",
        "    text = re.sub(r'\\[[0-9]*\\]',' ',text) \n",
        "    text=re.sub(r'[^\\w\\s]', '', str(text).lower().strip())\n",
        "    text = re.sub(r'\\d',' ',text) \n",
        "    text = re.sub(r'\\s+',' ',text) \n",
        "    return text\n",
        "\n",
        " \n",
        "# STOPWORD REMOVAL\n",
        "def stopword(string):\n",
        "    a= [i for i in string.split() if i not in stopwords.words('english')]\n",
        "    return ' '.join(a)\n",
        "#LEMMATIZATION\n",
        "# Initialize the lemmatizer\n",
        "wl = WordNetLemmatizer()\n",
        " \n",
        "# This is a helper function to map NTLK position tags\n",
        "def get_wordnet_pos(tag):\n",
        "    if tag.startswith('J'):\n",
        "        return wordnet.ADJ\n",
        "    elif tag.startswith('V'):\n",
        "        return wordnet.VERB\n",
        "    elif tag.startswith('N'):\n",
        "        return wordnet.NOUN\n",
        "    elif tag.startswith('R'):\n",
        "        return wordnet.ADV\n",
        "    else:\n",
        "        return wordnet.NOUN\n",
        "# Tokenize the sentence\n",
        "def lemmatizer(string):\n",
        "    word_pos_tags = nltk.pos_tag(word_tokenize(string)) # Get position tags\n",
        "    a=[wl.lemmatize(tag[0], get_wordnet_pos(tag[1])) for idx, tag in enumerate(word_pos_tags)] # Map the position tag and lemmatize the word/token\n",
        "    return \" \".join(a)"
      ],
      "execution_count": null,
      "outputs": []
    },
    {
      "cell_type": "code",
      "metadata": {
        "colab": {
          "base_uri": "https://localhost:8080/",
          "height": 292
        },
        "id": "6Acp8KMaQ6mo",
        "outputId": "52f44b75-348b-459d-a6cb-1ce45cbed204"
      },
      "source": [
        "def remove_stopwords(string):\n",
        "    return lemmatizer(stopword(preprocess(string)))\n",
        "df['clean_tweet'] = df['tweet'].apply(lambda x: remove_stopwords(x))\n",
        "df.head()"
      ],
      "execution_count": null,
      "outputs": [
        {
          "output_type": "execute_result",
          "data": {
            "text/html": [
              "<div>\n",
              "<style scoped>\n",
              "    .dataframe tbody tr th:only-of-type {\n",
              "        vertical-align: middle;\n",
              "    }\n",
              "\n",
              "    .dataframe tbody tr th {\n",
              "        vertical-align: top;\n",
              "    }\n",
              "\n",
              "    .dataframe thead th {\n",
              "        text-align: right;\n",
              "    }\n",
              "</style>\n",
              "<table border=\"1\" class=\"dataframe\">\n",
              "  <thead>\n",
              "    <tr style=\"text-align: right;\">\n",
              "      <th></th>\n",
              "      <th>tweet</th>\n",
              "      <th>location</th>\n",
              "      <th>created_at</th>\n",
              "      <th>disorder</th>\n",
              "      <th>clean_tweet</th>\n",
              "    </tr>\n",
              "  </thead>\n",
              "  <tbody>\n",
              "    <tr>\n",
              "      <th>0</th>\n",
              "      <td>SHOCK as a young man climbs on top of a hospit...</td>\n",
              "      <td>Nairobi, Kenya</td>\n",
              "      <td>2021-08-17 10:33:55</td>\n",
              "      <td>depression</td>\n",
              "      <td>shock young man climb top hospital building ka...</td>\n",
              "    </tr>\n",
              "    <tr>\n",
              "      <th>1</th>\n",
              "      <td>People tend to hide depression under drinking ...</td>\n",
              "      <td>Nairobi, Kenya</td>\n",
              "      <td>2021-08-17 10:20:30</td>\n",
              "      <td>depression</td>\n",
              "      <td>people tend hide depression drinking drug take...</td>\n",
              "    </tr>\n",
              "    <tr>\n",
              "      <th>2</th>\n",
              "      <td>@Lily_nganga Depression</td>\n",
              "      <td>Nairobi</td>\n",
              "      <td>2021-08-17 09:32:49</td>\n",
              "      <td>depression</td>\n",
              "      <td>lily nganga depression</td>\n",
              "    </tr>\n",
              "    <tr>\n",
              "      <th>3</th>\n",
              "      <td>Itumbi has subjected bloggers in to depression...</td>\n",
              "      <td>Nairobi, Kenya</td>\n",
              "      <td>2021-08-17 08:56:26</td>\n",
              "      <td>depression</td>\n",
              "      <td>itumbi subject blogger depression ought behind...</td>\n",
              "    </tr>\n",
              "    <tr>\n",
              "      <th>4</th>\n",
              "      <td>Mental health isn’t just anxiety &amp;amp; depress...</td>\n",
              "      <td>Nairobi, Kenya</td>\n",
              "      <td>2021-08-17 08:18:20</td>\n",
              "      <td>depression</td>\n",
              "      <td>mental health isnt anxiety amp depression nag ...</td>\n",
              "    </tr>\n",
              "  </tbody>\n",
              "</table>\n",
              "</div>"
            ],
            "text/plain": [
              "                                               tweet  ...                                        clean_tweet\n",
              "0  SHOCK as a young man climbs on top of a hospit...  ...  shock young man climb top hospital building ka...\n",
              "1  People tend to hide depression under drinking ...  ...  people tend hide depression drinking drug take...\n",
              "2                            @Lily_nganga Depression  ...                             lily nganga depression\n",
              "3  Itumbi has subjected bloggers in to depression...  ...  itumbi subject blogger depression ought behind...\n",
              "4  Mental health isn’t just anxiety &amp; depress...  ...  mental health isnt anxiety amp depression nag ...\n",
              "\n",
              "[5 rows x 5 columns]"
            ]
          },
          "metadata": {
            "tags": []
          },
          "execution_count": 58
        }
      ]
    },
    {
      "cell_type": "code",
      "metadata": {
        "colab": {
          "base_uri": "https://localhost:8080/",
          "height": 292
        },
        "id": "F73gRRlRPLub",
        "outputId": "606df877-3252-44a0-f497-86f92b7bcf7f"
      },
      "source": [
        "df1 = df.copy(deep=True)\n",
        "df1.head()"
      ],
      "execution_count": null,
      "outputs": [
        {
          "output_type": "execute_result",
          "data": {
            "text/html": [
              "<div>\n",
              "<style scoped>\n",
              "    .dataframe tbody tr th:only-of-type {\n",
              "        vertical-align: middle;\n",
              "    }\n",
              "\n",
              "    .dataframe tbody tr th {\n",
              "        vertical-align: top;\n",
              "    }\n",
              "\n",
              "    .dataframe thead th {\n",
              "        text-align: right;\n",
              "    }\n",
              "</style>\n",
              "<table border=\"1\" class=\"dataframe\">\n",
              "  <thead>\n",
              "    <tr style=\"text-align: right;\">\n",
              "      <th></th>\n",
              "      <th>tweet</th>\n",
              "      <th>location</th>\n",
              "      <th>created_at</th>\n",
              "      <th>disorder</th>\n",
              "      <th>clean_tweet</th>\n",
              "    </tr>\n",
              "  </thead>\n",
              "  <tbody>\n",
              "    <tr>\n",
              "      <th>0</th>\n",
              "      <td>SHOCK as a young man climbs on top of a hospit...</td>\n",
              "      <td>Nairobi, Kenya</td>\n",
              "      <td>2021-08-17 10:33:55</td>\n",
              "      <td>depression</td>\n",
              "      <td>shock young man climb top hospital building ka...</td>\n",
              "    </tr>\n",
              "    <tr>\n",
              "      <th>1</th>\n",
              "      <td>People tend to hide depression under drinking ...</td>\n",
              "      <td>Nairobi, Kenya</td>\n",
              "      <td>2021-08-17 10:20:30</td>\n",
              "      <td>depression</td>\n",
              "      <td>people tend hide depression drinking drug take...</td>\n",
              "    </tr>\n",
              "    <tr>\n",
              "      <th>2</th>\n",
              "      <td>@Lily_nganga Depression</td>\n",
              "      <td>Nairobi</td>\n",
              "      <td>2021-08-17 09:32:49</td>\n",
              "      <td>depression</td>\n",
              "      <td>lily nganga depression</td>\n",
              "    </tr>\n",
              "    <tr>\n",
              "      <th>3</th>\n",
              "      <td>Itumbi has subjected bloggers in to depression...</td>\n",
              "      <td>Nairobi, Kenya</td>\n",
              "      <td>2021-08-17 08:56:26</td>\n",
              "      <td>depression</td>\n",
              "      <td>itumbi subject blogger depression ought behind...</td>\n",
              "    </tr>\n",
              "    <tr>\n",
              "      <th>4</th>\n",
              "      <td>Mental health isn’t just anxiety &amp;amp; depress...</td>\n",
              "      <td>Nairobi, Kenya</td>\n",
              "      <td>2021-08-17 08:18:20</td>\n",
              "      <td>depression</td>\n",
              "      <td>mental health isnt anxiety amp depression nag ...</td>\n",
              "    </tr>\n",
              "  </tbody>\n",
              "</table>\n",
              "</div>"
            ],
            "text/plain": [
              "                                               tweet  ...                                        clean_tweet\n",
              "0  SHOCK as a young man climbs on top of a hospit...  ...  shock young man climb top hospital building ka...\n",
              "1  People tend to hide depression under drinking ...  ...  people tend hide depression drinking drug take...\n",
              "2                            @Lily_nganga Depression  ...                             lily nganga depression\n",
              "3  Itumbi has subjected bloggers in to depression...  ...  itumbi subject blogger depression ought behind...\n",
              "4  Mental health isn’t just anxiety &amp; depress...  ...  mental health isnt anxiety amp depression nag ...\n",
              "\n",
              "[5 rows x 5 columns]"
            ]
          },
          "metadata": {
            "tags": []
          },
          "execution_count": 59
        }
      ]
    },
    {
      "cell_type": "code",
      "metadata": {
        "colab": {
          "base_uri": "https://localhost:8080/",
          "height": 595
        },
        "id": "sj0ddr50PMxG",
        "outputId": "4d4d6426-6830-4bdb-f52d-9590e043828c"
      },
      "source": [
        "import random\n",
        "\n",
        "random.seed(100)\n",
        "\n",
        "df_test = df1.sample(100, random_state = 42)\n",
        "df_test"
      ],
      "execution_count": null,
      "outputs": [
        {
          "output_type": "execute_result",
          "data": {
            "text/html": [
              "<div>\n",
              "<style scoped>\n",
              "    .dataframe tbody tr th:only-of-type {\n",
              "        vertical-align: middle;\n",
              "    }\n",
              "\n",
              "    .dataframe tbody tr th {\n",
              "        vertical-align: top;\n",
              "    }\n",
              "\n",
              "    .dataframe thead th {\n",
              "        text-align: right;\n",
              "    }\n",
              "</style>\n",
              "<table border=\"1\" class=\"dataframe\">\n",
              "  <thead>\n",
              "    <tr style=\"text-align: right;\">\n",
              "      <th></th>\n",
              "      <th>tweet</th>\n",
              "      <th>location</th>\n",
              "      <th>created_at</th>\n",
              "      <th>disorder</th>\n",
              "      <th>clean_tweet</th>\n",
              "    </tr>\n",
              "  </thead>\n",
              "  <tbody>\n",
              "    <tr>\n",
              "      <th>408</th>\n",
              "      <td>Your feelings about climate are justified -- i...</td>\n",
              "      <td>Nairobi, Kenya</td>\n",
              "      <td>2021-08-15 17:05:00</td>\n",
              "      <td>anxiety</td>\n",
              "      <td>feeling climate justified extremely worried ca...</td>\n",
              "    </tr>\n",
              "    <tr>\n",
              "      <th>97</th>\n",
              "      <td>Dear HR and recruiters, \\nPlease stop worrying...</td>\n",
              "      <td>Nairobi, Kenya</td>\n",
              "      <td>2021-08-14 16:34:30</td>\n",
              "      <td>depression</td>\n",
              "      <td>dear hr recruiter please stop worry font size ...</td>\n",
              "    </tr>\n",
              "    <tr>\n",
              "      <th>424</th>\n",
              "      <td>You are released from anxiety   When you know ...</td>\n",
              "      <td>Nairobi, Kenya</td>\n",
              "      <td>2021-08-15 07:52:00</td>\n",
              "      <td>anxiety</td>\n",
              "      <td>release anxiety know however little may seem t...</td>\n",
              "    </tr>\n",
              "    <tr>\n",
              "      <th>584</th>\n",
              "      <td>@Note_OKay Thank you &amp;amp; you are welcome. If...</td>\n",
              "      <td>Nairobi, Kenya</td>\n",
              "      <td>2021-08-10 10:03:09</td>\n",
              "      <td>anxiety</td>\n",
              "      <td>note okay thank amp welcome anxiety try osteoc...</td>\n",
              "    </tr>\n",
              "    <tr>\n",
              "      <th>603</th>\n",
              "      <td>Anxiety does not empty tomorrow of its sorrows...</td>\n",
              "      <td>Nakuru, Kenya</td>\n",
              "      <td>2021-08-09 19:04:06</td>\n",
              "      <td>anxiety</td>\n",
              "      <td>anxiety empty tomorrow sorrow empty today stre...</td>\n",
              "    </tr>\n",
              "    <tr>\n",
              "      <th>...</th>\n",
              "      <td>...</td>\n",
              "      <td>...</td>\n",
              "      <td>...</td>\n",
              "      <td>...</td>\n",
              "      <td>...</td>\n",
              "    </tr>\n",
              "    <tr>\n",
              "      <th>7</th>\n",
              "      <td>@HisiaPsychology @Kinyah_Y @Kabiru_Nancy @kani...</td>\n",
              "      <td>Nairobi, Kenya</td>\n",
              "      <td>2021-08-17 07:50:49</td>\n",
              "      <td>depression</td>\n",
              "      <td>hisiapsychology kinyah kabiru nancy kaniu ndun...</td>\n",
              "    </tr>\n",
              "    <tr>\n",
              "      <th>369</th>\n",
              "      <td>People with Anxiety understand why ghosting is...</td>\n",
              "      <td>Nairobi, Kenya</td>\n",
              "      <td>2021-08-16 19:42:18</td>\n",
              "      <td>anxiety</td>\n",
              "      <td>people anxiety understand ghost mental abuse</td>\n",
              "    </tr>\n",
              "    <tr>\n",
              "      <th>23</th>\n",
              "      <td>Your profile says you have depression, so we d...</td>\n",
              "      <td>Nairobi, Kenya</td>\n",
              "      <td>2021-08-16 22:15:06</td>\n",
              "      <td>depression</td>\n",
              "      <td>profile say depression blame bbnaija http co a...</td>\n",
              "    </tr>\n",
              "    <tr>\n",
              "      <th>404</th>\n",
              "      <td>@BecomeAManAgain Public speaking anxiety. How ...</td>\n",
              "      <td>Nairobi, Kenya</td>\n",
              "      <td>2021-08-15 18:59:18</td>\n",
              "      <td>anxiety</td>\n",
              "      <td>becomeamanagain public speaking anxiety deal</td>\n",
              "    </tr>\n",
              "    <tr>\n",
              "      <th>751</th>\n",
              "      <td>The Good Doctor is a Very great series for Men...</td>\n",
              "      <td>Nairobi, Kenya</td>\n",
              "      <td>2021-08-12 14:14:33</td>\n",
              "      <td>autism</td>\n",
              "      <td>good doctor great series mental health especia...</td>\n",
              "    </tr>\n",
              "  </tbody>\n",
              "</table>\n",
              "<p>100 rows × 5 columns</p>\n",
              "</div>"
            ],
            "text/plain": [
              "                                                 tweet  ...                                        clean_tweet\n",
              "408  Your feelings about climate are justified -- i...  ...  feeling climate justified extremely worried ca...\n",
              "97   Dear HR and recruiters, \\nPlease stop worrying...  ...  dear hr recruiter please stop worry font size ...\n",
              "424  You are released from anxiety   When you know ...  ...  release anxiety know however little may seem t...\n",
              "584  @Note_OKay Thank you &amp; you are welcome. If...  ...  note okay thank amp welcome anxiety try osteoc...\n",
              "603  Anxiety does not empty tomorrow of its sorrows...  ...  anxiety empty tomorrow sorrow empty today stre...\n",
              "..                                                 ...  ...                                                ...\n",
              "7    @HisiaPsychology @Kinyah_Y @Kabiru_Nancy @kani...  ...  hisiapsychology kinyah kabiru nancy kaniu ndun...\n",
              "369  People with Anxiety understand why ghosting is...  ...       people anxiety understand ghost mental abuse\n",
              "23   Your profile says you have depression, so we d...  ...  profile say depression blame bbnaija http co a...\n",
              "404  @BecomeAManAgain Public speaking anxiety. How ...  ...       becomeamanagain public speaking anxiety deal\n",
              "751  The Good Doctor is a Very great series for Men...  ...  good doctor great series mental health especia...\n",
              "\n",
              "[100 rows x 5 columns]"
            ]
          },
          "metadata": {
            "tags": []
          },
          "execution_count": 60
        }
      ]
    },
    {
      "cell_type": "code",
      "metadata": {
        "id": "XXgkPzJXPfhC"
      },
      "source": [
        "drop_idx = df_test.index\n"
      ],
      "execution_count": null,
      "outputs": []
    },
    {
      "cell_type": "code",
      "metadata": {
        "colab": {
          "base_uri": "https://localhost:8080/"
        },
        "id": "REk1PqyKPg78",
        "outputId": "8315fc93-1034-4203-dc69-0a99e8f9f968"
      },
      "source": [
        "df1.shape"
      ],
      "execution_count": null,
      "outputs": [
        {
          "output_type": "execute_result",
          "data": {
            "text/plain": [
              "(756, 5)"
            ]
          },
          "metadata": {
            "tags": []
          },
          "execution_count": 62
        }
      ]
    },
    {
      "cell_type": "code",
      "metadata": {
        "colab": {
          "base_uri": "https://localhost:8080/"
        },
        "id": "psIzSn_5N3iF",
        "outputId": "8c372604-f352-41bc-d557-695fe0b46705"
      },
      "source": [
        "# create Word2vec model\n",
        "#here words_f should be a list containing words from each document. say 1st row of the list is words from the 1st document/sentence\n",
        "#length of words_f is number of documents/sentences in your dataset\n",
        "df1['clean_tweet_tok']=[nltk.word_tokenize(i) for i in df1['clean_tweet']] #convert preprocessed sentence to tokenized sentence\n",
        "model = Word2Vec(df1['clean_tweet_tok'],min_count=1)  #min_count=1 means word should be present at least across all documents,\n",
        "#if min_count=2 means if the word is present less than 2 times across all the documents then we shouldn't consider it\n",
        "\n",
        "\n",
        "w2v = dict(zip(model.wv.index2word, model.wv.syn0))  #combination of word and its vector\n",
        "\n",
        "#for converting sentence to vectors/numbers from word vectors result by Word2Vec\n",
        "class MeanEmbeddingVectorizer(object):\n",
        "    def __init__(self, word2vec):\n",
        "        self.word2vec = word2vec\n",
        "        # if a text is empty we should return a vector of zeros\n",
        "        # with the same dimensionality as all the other vectors\n",
        "        self.dim = len(next(iter(word2vec.values())))\n",
        "\n",
        "    def fit(self, X, y):\n",
        "        return self\n",
        "\n",
        "    def transform(self, X):\n",
        "        return np.array([\n",
        "            np.mean([self.word2vec[w] for w in words if w in self.word2vec]\n",
        "                    or [np.zeros(self.dim)], axis=0)\n",
        "            for words in X\n",
        "        ])"
      ],
      "execution_count": null,
      "outputs": [
        {
          "output_type": "stream",
          "text": [
            "/usr/local/lib/python3.7/dist-packages/ipykernel_launcher.py:9: DeprecationWarning: Call to deprecated `syn0` (Attribute will be removed in 4.0.0, use self.wv.vectors instead).\n",
            "  if __name__ == '__main__':\n"
          ],
          "name": "stderr"
        }
      ]
    }
  ]
}