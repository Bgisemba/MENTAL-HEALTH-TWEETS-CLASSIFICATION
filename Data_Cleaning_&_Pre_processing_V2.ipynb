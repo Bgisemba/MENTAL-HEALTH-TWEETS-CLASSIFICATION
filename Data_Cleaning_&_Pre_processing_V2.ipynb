{
  "nbformat": 4,
  "nbformat_minor": 0,
  "metadata": {
    "colab": {
      "name": "Data Cleaning & Pre-processing V2.ipynb",
      "provenance": [],
      "collapsed_sections": [],
      "include_colab_link": true
    },
    "kernelspec": {
      "name": "python3",
      "display_name": "Python 3"
    },
    "language_info": {
      "name": "python"
    }
  },
  "cells": [
    {
      "cell_type": "markdown",
      "metadata": {
        "id": "view-in-github",
        "colab_type": "text"
      },
      "source": [
        "<a href=\"https://colab.research.google.com/github/BrianGisemba/MENTAL-HEALTH-TWEETS-CLASSIFICATION/blob/data_cleaning/Data_Cleaning_%26_Pre_processing_V2.ipynb\" target=\"_parent\"><img src=\"https://colab.research.google.com/assets/colab-badge.svg\" alt=\"Open In Colab\"/></a>"
      ]
    },
    {
      "cell_type": "markdown",
      "metadata": {
        "id": "xVmDr9B9Dopj"
      },
      "source": [
        "# Data Understanding"
      ]
    },
    {
      "cell_type": "markdown",
      "metadata": {
        "id": "1mp_HXuHDo1P"
      },
      "source": [
        "## a) Define the question"
      ]
    },
    {
      "cell_type": "markdown",
      "metadata": {
        "id": "zJCRzObRD4TH"
      },
      "source": [
        "Using data scrapped from twitter on the different Mental Health disorders to check the main mental health disorders Kenyans tweet about."
      ]
    },
    {
      "cell_type": "markdown",
      "metadata": {
        "id": "rMq9mSrmEK5Q"
      },
      "source": [
        "## b) Metrics for success"
      ]
    },
    {
      "cell_type": "markdown",
      "metadata": {
        "id": "EfL4s_zyEPs1"
      },
      "source": [
        "Building models using SVM, Multinomial Naive Bayes & BERT. Deploying models on WandB and using Streamlit for our deployment strategy."
      ]
    },
    {
      "cell_type": "markdown",
      "metadata": {
        "id": "cnDW09WrE08A"
      },
      "source": [
        "## c) Understanding the context"
      ]
    },
    {
      "cell_type": "markdown",
      "metadata": {
        "id": "dGnHb7gPFQcG"
      },
      "source": [
        "On June 12th 2021, Dr. Lydia Wahura committed suicide in her car after leaving an ongoing class at University of Nairobi. This shed a light on the ongoing mental health crisis in the country.  A World Health Organization report released recently ranked Kenya position five among African countries with the highest number of depression cases. \n",
        "\n",
        "Kenya has a culture of denial in mental health issues, which only serves to make things worse. The pandemic has had a substantial negative impact on mental health. However, there is still no formal mental health response plan, with the state only declaring its commitment to mental health. The lack of a formal mental health response plan is largely influenced by the assumption that other diseases make up the biggest threats in the country, which is increasingly becoming a fallacy, if the statistics on the causes of death in the nation are anything to go by.\n",
        "\n",
        "We would like to find out the main disorders that Kenyans are currently struggling with, based on their conversations on twitter. We will scrape data from Kenyan twitter users and do classification between the different mental health disorders.\n"
      ]
    },
    {
      "cell_type": "markdown",
      "metadata": {
        "id": "2NrwV86SFaGF"
      },
      "source": [
        "## d) Recording the experimental design"
      ]
    },
    {
      "cell_type": "markdown",
      "metadata": {
        "id": "MAHV3H-hFor0"
      },
      "source": [
        "The following steps will be followed during this exercise:\n",
        "- Data Understanding\n",
        "- Data Preparation\n",
        "- Data Cleaning \n",
        "- Perform EDA\n",
        "- Data Pre-processing\n",
        "- Modelling\n",
        "- Evaluation\n",
        "- Challenging the solution"
      ]
    },
    {
      "cell_type": "markdown",
      "metadata": {
        "id": "3Ldk2tUnGLQI"
      },
      "source": [
        "# Data Preparation"
      ]
    },
    {
      "cell_type": "markdown",
      "metadata": {
        "id": "eD5Zg_TZGcGP"
      },
      "source": [
        "## Importing the libraries"
      ]
    },
    {
      "cell_type": "code",
      "metadata": {
        "colab": {
          "base_uri": "https://localhost:8080/"
        },
        "id": "PdEol8k2INmT",
        "outputId": "209ed49c-5235-4682-953a-64cb67eb6569"
      },
      "source": [
        "# Load the libraries needed \n",
        "import pandas as pd\n",
        "import numpy as np\n",
        "import matplotlib.pyplot as plt\n",
        "import seaborn as sns\n",
        "# for text pre-processing\n",
        "import re, string\n",
        "import nltk\n",
        "from nltk.tokenize import word_tokenize\n",
        "from nltk.corpus import stopwords\n",
        "from nltk.tokenize import word_tokenize\n",
        "from nltk.stem import SnowballStemmer\n",
        "from nltk.corpus import wordnet\n",
        "from nltk.stem import WordNetLemmatizer\n",
        "nltk.download('punkt')\n",
        "nltk.download('averaged_perceptron_tagger')\n",
        "nltk.download('wordnet')\n",
        "# for model-building\n",
        "from sklearn.model_selection import train_test_split\n",
        "from sklearn.linear_model import LogisticRegression\n",
        "from sklearn.naive_bayes import MultinomialNB\n",
        "from sklearn.metrics import classification_report, f1_score, accuracy_score, confusion_matrix\n",
        "from sklearn.metrics import roc_curve, auc, roc_auc_score\n",
        "# bag of words\n",
        "from sklearn.feature_extraction.text import TfidfVectorizer\n",
        "from sklearn.feature_extraction.text import CountVectorizer\n",
        "# for word embedding\n",
        "import gensim\n",
        "from gensim.models import Word2Vec"
      ],
      "execution_count": null,
      "outputs": [
        {
          "output_type": "stream",
          "text": [
            "[nltk_data] Downloading package punkt to /root/nltk_data...\n",
            "[nltk_data]   Package punkt is already up-to-date!\n",
            "[nltk_data] Downloading package averaged_perceptron_tagger to\n",
            "[nltk_data]     /root/nltk_data...\n",
            "[nltk_data]   Package averaged_perceptron_tagger is already up-to-\n",
            "[nltk_data]       date!\n",
            "[nltk_data] Downloading package wordnet to /root/nltk_data...\n",
            "[nltk_data]   Package wordnet is already up-to-date!\n"
          ],
          "name": "stdout"
        }
      ]
    },
    {
      "cell_type": "markdown",
      "metadata": {
        "id": "8-g4SUPxroc1"
      },
      "source": [
        "## Loading data"
      ]
    },
    {
      "cell_type": "code",
      "metadata": {
        "id": "4Rmact08rztP",
        "colab": {
          "base_uri": "https://localhost:8080/",
          "height": 472
        },
        "outputId": "6f639e05-21d0-4600-fcee-97807881c02b"
      },
      "source": [
        "# Loading 'depression' dataset into our notebook\n",
        "depression = pd.read_csv('/content/depression.csv')\n",
        "depression['disorder'] = 'depression'\n",
        "depression.head(5)"
      ],
      "execution_count": null,
      "outputs": [
        {
          "output_type": "execute_result",
          "data": {
            "text/html": [
              "<div>\n",
              "<style scoped>\n",
              "    .dataframe tbody tr th:only-of-type {\n",
              "        vertical-align: middle;\n",
              "    }\n",
              "\n",
              "    .dataframe tbody tr th {\n",
              "        vertical-align: top;\n",
              "    }\n",
              "\n",
              "    .dataframe thead th {\n",
              "        text-align: right;\n",
              "    }\n",
              "</style>\n",
              "<table border=\"1\" class=\"dataframe\">\n",
              "  <thead>\n",
              "    <tr style=\"text-align: right;\">\n",
              "      <th></th>\n",
              "      <th>Unnamed: 0</th>\n",
              "      <th>user</th>\n",
              "      <th>tweet</th>\n",
              "      <th>location</th>\n",
              "      <th>description</th>\n",
              "      <th>friends_count</th>\n",
              "      <th>followers_count</th>\n",
              "      <th>statuses_count</th>\n",
              "      <th>created_at</th>\n",
              "      <th>retweet_count</th>\n",
              "      <th>hashtags</th>\n",
              "      <th>disorder</th>\n",
              "    </tr>\n",
              "  </thead>\n",
              "  <tbody>\n",
              "    <tr>\n",
              "      <th>0</th>\n",
              "      <td>0</td>\n",
              "      <td>TheKenyanPost</td>\n",
              "      <td>SHOCK as a young man climbs on top of a hospit...</td>\n",
              "      <td>Nairobi, Kenya</td>\n",
              "      <td>News, Politics, Entertainment, Gossip, Feature...</td>\n",
              "      <td>434</td>\n",
              "      <td>52951</td>\n",
              "      <td>356584</td>\n",
              "      <td>2021-08-17 10:33:55</td>\n",
              "      <td>0</td>\n",
              "      <td>[]</td>\n",
              "      <td>depression</td>\n",
              "    </tr>\n",
              "    <tr>\n",
              "      <th>1</th>\n",
              "      <td>1</td>\n",
              "      <td>Goodguy_254</td>\n",
              "      <td>People tend to hide depression under drinking ...</td>\n",
              "      <td>Nairobi, Kenya</td>\n",
              "      <td>poet\\n writer🧾\\nsoftware developer🖥️\\n program...</td>\n",
              "      <td>2074</td>\n",
              "      <td>2257</td>\n",
              "      <td>1284</td>\n",
              "      <td>2021-08-17 10:20:30</td>\n",
              "      <td>0</td>\n",
              "      <td>[]</td>\n",
              "      <td>depression</td>\n",
              "    </tr>\n",
              "    <tr>\n",
              "      <th>2</th>\n",
              "      <td>2</td>\n",
              "      <td>AlfredLete</td>\n",
              "      <td>@Lily_nganga Depression</td>\n",
              "      <td>Nairobi</td>\n",
              "      <td>do what is right,not what is easy</td>\n",
              "      <td>8515</td>\n",
              "      <td>13075</td>\n",
              "      <td>37974</td>\n",
              "      <td>2021-08-17 09:32:49</td>\n",
              "      <td>0</td>\n",
              "      <td>[]</td>\n",
              "      <td>depression</td>\n",
              "    </tr>\n",
              "    <tr>\n",
              "      <th>3</th>\n",
              "      <td>3</td>\n",
              "      <td>GeraldNgaoPk7</td>\n",
              "      <td>Itumbi has subjected bloggers in to depression...</td>\n",
              "      <td>Nairobi, Kenya</td>\n",
              "      <td>Pan-Africanist||NeoMarxistRevolutionary||Inter...</td>\n",
              "      <td>21503</td>\n",
              "      <td>20437</td>\n",
              "      <td>164694</td>\n",
              "      <td>2021-08-17 08:56:26</td>\n",
              "      <td>2</td>\n",
              "      <td>[{'text': 'ItumbiGhostWorkers', 'indices': [77...</td>\n",
              "      <td>depression</td>\n",
              "    </tr>\n",
              "    <tr>\n",
              "      <th>4</th>\n",
              "      <td>4</td>\n",
              "      <td>swyma304</td>\n",
              "      <td>Mental health isn’t just anxiety &amp;amp; depress...</td>\n",
              "      <td>Nairobi, Kenya</td>\n",
              "      <td>Psychiatry Resident. Certified Cognitive Behav...</td>\n",
              "      <td>93</td>\n",
              "      <td>206</td>\n",
              "      <td>594</td>\n",
              "      <td>2021-08-17 08:18:20</td>\n",
              "      <td>1</td>\n",
              "      <td>[]</td>\n",
              "      <td>depression</td>\n",
              "    </tr>\n",
              "  </tbody>\n",
              "</table>\n",
              "</div>"
            ],
            "text/plain": [
              "   Unnamed: 0  ...    disorder\n",
              "0           0  ...  depression\n",
              "1           1  ...  depression\n",
              "2           2  ...  depression\n",
              "3           3  ...  depression\n",
              "4           4  ...  depression\n",
              "\n",
              "[5 rows x 12 columns]"
            ]
          },
          "metadata": {
            "tags": []
          },
          "execution_count": 79
        }
      ]
    },
    {
      "cell_type": "code",
      "metadata": {
        "id": "xKRX5B0-sO9W",
        "colab": {
          "base_uri": "https://localhost:8080/",
          "height": 405
        },
        "outputId": "bb07305e-c55b-4d3a-f333-0b811f590b2d"
      },
      "source": [
        "# Loading 'anxiety' dataset into our notebook\n",
        "anxiety = pd.read_csv('/content/anxiety.csv')\n",
        "anxiety['disorder'] = 'anxiety'\n",
        "anxiety.head(5)"
      ],
      "execution_count": null,
      "outputs": [
        {
          "output_type": "execute_result",
          "data": {
            "text/html": [
              "<div>\n",
              "<style scoped>\n",
              "    .dataframe tbody tr th:only-of-type {\n",
              "        vertical-align: middle;\n",
              "    }\n",
              "\n",
              "    .dataframe tbody tr th {\n",
              "        vertical-align: top;\n",
              "    }\n",
              "\n",
              "    .dataframe thead th {\n",
              "        text-align: right;\n",
              "    }\n",
              "</style>\n",
              "<table border=\"1\" class=\"dataframe\">\n",
              "  <thead>\n",
              "    <tr style=\"text-align: right;\">\n",
              "      <th></th>\n",
              "      <th>Unnamed: 0</th>\n",
              "      <th>user</th>\n",
              "      <th>tweet</th>\n",
              "      <th>location</th>\n",
              "      <th>description</th>\n",
              "      <th>friends_count</th>\n",
              "      <th>followers_count</th>\n",
              "      <th>statuses_count</th>\n",
              "      <th>created_at</th>\n",
              "      <th>retweet_count</th>\n",
              "      <th>hashtags</th>\n",
              "      <th>disorder</th>\n",
              "    </tr>\n",
              "  </thead>\n",
              "  <tbody>\n",
              "    <tr>\n",
              "      <th>0</th>\n",
              "      <td>0</td>\n",
              "      <td>wamvii</td>\n",
              "      <td>Today anxiety has decided I am le bich.</td>\n",
              "      <td>Nairobi, Kenya</td>\n",
              "      <td>arteest</td>\n",
              "      <td>43</td>\n",
              "      <td>333</td>\n",
              "      <td>3397</td>\n",
              "      <td>2021-08-17 10:09:22</td>\n",
              "      <td>0</td>\n",
              "      <td>[]</td>\n",
              "      <td>anxiety</td>\n",
              "    </tr>\n",
              "    <tr>\n",
              "      <th>1</th>\n",
              "      <td>1</td>\n",
              "      <td>joy_flo</td>\n",
              "      <td>@mikewachira Oh I'd be a whole different perso...</td>\n",
              "      <td>Kenya, Nairobi</td>\n",
              "      <td>Wish I had the gumption to tweet recklessly :/</td>\n",
              "      <td>297</td>\n",
              "      <td>304</td>\n",
              "      <td>16849</td>\n",
              "      <td>2021-08-17 09:06:52</td>\n",
              "      <td>0</td>\n",
              "      <td>[]</td>\n",
              "      <td>anxiety</td>\n",
              "    </tr>\n",
              "    <tr>\n",
              "      <th>2</th>\n",
              "      <td>2</td>\n",
              "      <td>swyma304</td>\n",
              "      <td>Mental health isn’t just anxiety &amp;amp; depress...</td>\n",
              "      <td>Nairobi, Kenya</td>\n",
              "      <td>Psychiatry Resident. Certified Cognitive Behav...</td>\n",
              "      <td>93</td>\n",
              "      <td>206</td>\n",
              "      <td>594</td>\n",
              "      <td>2021-08-17 08:18:20</td>\n",
              "      <td>1</td>\n",
              "      <td>[]</td>\n",
              "      <td>anxiety</td>\n",
              "    </tr>\n",
              "    <tr>\n",
              "      <th>3</th>\n",
              "      <td>3</td>\n",
              "      <td>giluih</td>\n",
              "      <td>@MishBosslady__ I have been there, I relied in...</td>\n",
              "      <td>Nairobi, Kenya</td>\n",
              "      <td>A fit mom,a designer,sanguine,a freelancer,a V...</td>\n",
              "      <td>4703</td>\n",
              "      <td>2968</td>\n",
              "      <td>3539</td>\n",
              "      <td>2021-08-17 08:11:42</td>\n",
              "      <td>0</td>\n",
              "      <td>[]</td>\n",
              "      <td>anxiety</td>\n",
              "    </tr>\n",
              "    <tr>\n",
              "      <th>4</th>\n",
              "      <td>4</td>\n",
              "      <td>progirlsnation</td>\n",
              "      <td>* Learn your triggers.\\n* Talk about your expe...</td>\n",
              "      <td>Nairobi, Kenya</td>\n",
              "      <td>Impact • Empower • Educate | Help us raise awa...</td>\n",
              "      <td>12</td>\n",
              "      <td>37</td>\n",
              "      <td>306</td>\n",
              "      <td>2021-08-17 08:00:04</td>\n",
              "      <td>0</td>\n",
              "      <td>[]</td>\n",
              "      <td>anxiety</td>\n",
              "    </tr>\n",
              "  </tbody>\n",
              "</table>\n",
              "</div>"
            ],
            "text/plain": [
              "   Unnamed: 0            user  ... hashtags disorder\n",
              "0           0          wamvii  ...       []  anxiety\n",
              "1           1         joy_flo  ...       []  anxiety\n",
              "2           2        swyma304  ...       []  anxiety\n",
              "3           3          giluih  ...       []  anxiety\n",
              "4           4  progirlsnation  ...       []  anxiety\n",
              "\n",
              "[5 rows x 12 columns]"
            ]
          },
          "metadata": {
            "tags": []
          },
          "execution_count": 80
        }
      ]
    },
    {
      "cell_type": "code",
      "metadata": {
        "id": "zz7_BOMFsWGh",
        "colab": {
          "base_uri": "https://localhost:8080/",
          "height": 555
        },
        "outputId": "834d915c-9ad7-4ce6-f933-99a4102b1014"
      },
      "source": [
        "# Loading 'paranoia' dataset into our notebook\n",
        "paranoia = pd.read_csv('/content/paranoia.csv')\n",
        "paranoia['disorder'] = 'paranoia'\n",
        "paranoia.head(5)"
      ],
      "execution_count": null,
      "outputs": [
        {
          "output_type": "execute_result",
          "data": {
            "text/html": [
              "<div>\n",
              "<style scoped>\n",
              "    .dataframe tbody tr th:only-of-type {\n",
              "        vertical-align: middle;\n",
              "    }\n",
              "\n",
              "    .dataframe tbody tr th {\n",
              "        vertical-align: top;\n",
              "    }\n",
              "\n",
              "    .dataframe thead th {\n",
              "        text-align: right;\n",
              "    }\n",
              "</style>\n",
              "<table border=\"1\" class=\"dataframe\">\n",
              "  <thead>\n",
              "    <tr style=\"text-align: right;\">\n",
              "      <th></th>\n",
              "      <th>Unnamed: 0</th>\n",
              "      <th>user</th>\n",
              "      <th>tweet</th>\n",
              "      <th>location</th>\n",
              "      <th>description</th>\n",
              "      <th>friends_count</th>\n",
              "      <th>followers_count</th>\n",
              "      <th>statuses_count</th>\n",
              "      <th>created_at</th>\n",
              "      <th>retweet_count</th>\n",
              "      <th>hashtags</th>\n",
              "      <th>disorder</th>\n",
              "    </tr>\n",
              "  </thead>\n",
              "  <tbody>\n",
              "    <tr>\n",
              "      <th>0</th>\n",
              "      <td>0</td>\n",
              "      <td>_Wachagah</td>\n",
              "      <td>I lost a friend to abuse, paranoia hit until h...</td>\n",
              "      <td>Nairobi, Kenya</td>\n",
              "      <td>*||SBNR||*</td>\n",
              "      <td>1933</td>\n",
              "      <td>1947</td>\n",
              "      <td>2250</td>\n",
              "      <td>2021-08-15 16:09:09</td>\n",
              "      <td>2</td>\n",
              "      <td>[]</td>\n",
              "      <td>paranoia</td>\n",
              "    </tr>\n",
              "    <tr>\n",
              "      <th>1</th>\n",
              "      <td>1</td>\n",
              "      <td>comradefyat</td>\n",
              "      <td>Weed paranoia is real. Anybody who has ever go...</td>\n",
              "      <td>Nairobi, Kenya</td>\n",
              "      <td>Funnier than most😂✌️...posting random thoughts...</td>\n",
              "      <td>2671</td>\n",
              "      <td>78884</td>\n",
              "      <td>97606</td>\n",
              "      <td>2021-08-15 15:58:38</td>\n",
              "      <td>23</td>\n",
              "      <td>[]</td>\n",
              "      <td>paranoia</td>\n",
              "    </tr>\n",
              "    <tr>\n",
              "      <th>2</th>\n",
              "      <td>2</td>\n",
              "      <td>mozdic65</td>\n",
              "      <td>Nuclear Power Generation-\\n#NextGen -Modularit...</td>\n",
              "      <td>Nairobi, Kenya</td>\n",
              "      <td>Avid reader,Polymath.Patriotic Kenyan,Liberal ...</td>\n",
              "      <td>4724</td>\n",
              "      <td>2869</td>\n",
              "      <td>16801</td>\n",
              "      <td>2021-08-15 12:55:33</td>\n",
              "      <td>2</td>\n",
              "      <td>[{'text': 'NextGen', 'indices': [26, 34]}]</td>\n",
              "      <td>paranoia</td>\n",
              "    </tr>\n",
              "    <tr>\n",
              "      <th>3</th>\n",
              "      <td>3</td>\n",
              "      <td>realRIZE_254</td>\n",
              "      <td>Regardless of the cash payoff, I can't ever gl...</td>\n",
              "      <td>Nairobi, Kenya</td>\n",
              "      <td>P. Kariûki Thande\\n Recording Artist; Songwrit...</td>\n",
              "      <td>263</td>\n",
              "      <td>445</td>\n",
              "      <td>4878</td>\n",
              "      <td>2021-08-15 08:48:17</td>\n",
              "      <td>0</td>\n",
              "      <td>[]</td>\n",
              "      <td>paranoia</td>\n",
              "    </tr>\n",
              "    <tr>\n",
              "      <th>4</th>\n",
              "      <td>4</td>\n",
              "      <td>Mwendi254</td>\n",
              "      <td>@NimuKiarie Imagine having anxiety issues then...</td>\n",
              "      <td>Nairobi, Kenya</td>\n",
              "      <td>Economist / Sociologist /  Political Analyst.\\...</td>\n",
              "      <td>1408</td>\n",
              "      <td>534</td>\n",
              "      <td>5240</td>\n",
              "      <td>2021-08-14 21:00:46</td>\n",
              "      <td>0</td>\n",
              "      <td>[]</td>\n",
              "      <td>paranoia</td>\n",
              "    </tr>\n",
              "  </tbody>\n",
              "</table>\n",
              "</div>"
            ],
            "text/plain": [
              "   Unnamed: 0  ...  disorder\n",
              "0           0  ...  paranoia\n",
              "1           1  ...  paranoia\n",
              "2           2  ...  paranoia\n",
              "3           3  ...  paranoia\n",
              "4           4  ...  paranoia\n",
              "\n",
              "[5 rows x 12 columns]"
            ]
          },
          "metadata": {
            "tags": []
          },
          "execution_count": 81
        }
      ]
    },
    {
      "cell_type": "code",
      "metadata": {
        "id": "3QUls5TjsZIR",
        "colab": {
          "base_uri": "https://localhost:8080/",
          "height": 505
        },
        "outputId": "6314a49b-f61d-43a2-ba04-362749e53af3"
      },
      "source": [
        "# Loading 'schizophrenia' dataset into our notebook\n",
        "schizophrenia = pd.read_csv('/content/schizophrenia.csv')\n",
        "schizophrenia['disorder'] = 'schizophrenia'\n",
        "schizophrenia.head(5)"
      ],
      "execution_count": null,
      "outputs": [
        {
          "output_type": "execute_result",
          "data": {
            "text/html": [
              "<div>\n",
              "<style scoped>\n",
              "    .dataframe tbody tr th:only-of-type {\n",
              "        vertical-align: middle;\n",
              "    }\n",
              "\n",
              "    .dataframe tbody tr th {\n",
              "        vertical-align: top;\n",
              "    }\n",
              "\n",
              "    .dataframe thead th {\n",
              "        text-align: right;\n",
              "    }\n",
              "</style>\n",
              "<table border=\"1\" class=\"dataframe\">\n",
              "  <thead>\n",
              "    <tr style=\"text-align: right;\">\n",
              "      <th></th>\n",
              "      <th>Unnamed: 0</th>\n",
              "      <th>user</th>\n",
              "      <th>tweet</th>\n",
              "      <th>location</th>\n",
              "      <th>description</th>\n",
              "      <th>friends_count</th>\n",
              "      <th>followers_count</th>\n",
              "      <th>statuses_count</th>\n",
              "      <th>created_at</th>\n",
              "      <th>retweet_count</th>\n",
              "      <th>hashtags</th>\n",
              "      <th>disorder</th>\n",
              "    </tr>\n",
              "  </thead>\n",
              "  <tbody>\n",
              "    <tr>\n",
              "      <th>0</th>\n",
              "      <td>0</td>\n",
              "      <td>FlorentineWama4</td>\n",
              "      <td>@CaxstonePKigata The mandazi fuhrer is afflict...</td>\n",
              "      <td>Nairobi, Kenya</td>\n",
              "      <td>Haki iwe ngao na mlinzi</td>\n",
              "      <td>128</td>\n",
              "      <td>119</td>\n",
              "      <td>1265</td>\n",
              "      <td>2021-08-17 03:17:58</td>\n",
              "      <td>0</td>\n",
              "      <td>[]</td>\n",
              "      <td>schizophrenia</td>\n",
              "    </tr>\n",
              "    <tr>\n",
              "      <th>1</th>\n",
              "      <td>1</td>\n",
              "      <td>realeconomistKE</td>\n",
              "      <td>@Psalm_II @ShambaLaNyama @Lomayani_ @LadenKip ...</td>\n",
              "      <td>Nairobi, Kenya</td>\n",
              "      <td>Writer, father, economist, and peace loving Ke...</td>\n",
              "      <td>3136</td>\n",
              "      <td>1414</td>\n",
              "      <td>717</td>\n",
              "      <td>2021-08-16 15:03:03</td>\n",
              "      <td>0</td>\n",
              "      <td>[]</td>\n",
              "      <td>schizophrenia</td>\n",
              "    </tr>\n",
              "    <tr>\n",
              "      <th>2</th>\n",
              "      <td>2</td>\n",
              "      <td>iankiplangat4</td>\n",
              "      <td>@ChiromoHospGrp @HawahKone @leujonson @benson_...</td>\n",
              "      <td>Nairobi</td>\n",
              "      <td>NaN</td>\n",
              "      <td>173</td>\n",
              "      <td>65</td>\n",
              "      <td>206</td>\n",
              "      <td>2021-08-16 07:52:59</td>\n",
              "      <td>3</td>\n",
              "      <td>[]</td>\n",
              "      <td>schizophrenia</td>\n",
              "    </tr>\n",
              "    <tr>\n",
              "      <th>3</th>\n",
              "      <td>3</td>\n",
              "      <td>MsJ73363625</td>\n",
              "      <td>schizophrenia is a mental disorder where a pat...</td>\n",
              "      <td>Nairobi, Kenya</td>\n",
              "      <td>Counseling Psychologist and a pasionate writer</td>\n",
              "      <td>12</td>\n",
              "      <td>9</td>\n",
              "      <td>55</td>\n",
              "      <td>2021-08-16 04:51:12</td>\n",
              "      <td>0</td>\n",
              "      <td>[]</td>\n",
              "      <td>schizophrenia</td>\n",
              "    </tr>\n",
              "    <tr>\n",
              "      <th>4</th>\n",
              "      <td>4</td>\n",
              "      <td>_BelleSamira</td>\n",
              "      <td>If you're genetically predisposed to schizophr...</td>\n",
              "      <td>Nairobi, Kenya</td>\n",
              "      <td>Committed Hedonist. Girl and the World. \\n\\nSk...</td>\n",
              "      <td>304</td>\n",
              "      <td>2296</td>\n",
              "      <td>57665</td>\n",
              "      <td>2021-08-15 23:23:41</td>\n",
              "      <td>0</td>\n",
              "      <td>[]</td>\n",
              "      <td>schizophrenia</td>\n",
              "    </tr>\n",
              "  </tbody>\n",
              "</table>\n",
              "</div>"
            ],
            "text/plain": [
              "   Unnamed: 0             user  ... hashtags       disorder\n",
              "0           0  FlorentineWama4  ...       []  schizophrenia\n",
              "1           1  realeconomistKE  ...       []  schizophrenia\n",
              "2           2    iankiplangat4  ...       []  schizophrenia\n",
              "3           3      MsJ73363625  ...       []  schizophrenia\n",
              "4           4     _BelleSamira  ...       []  schizophrenia\n",
              "\n",
              "[5 rows x 12 columns]"
            ]
          },
          "metadata": {
            "tags": []
          },
          "execution_count": 82
        }
      ]
    },
    {
      "cell_type": "code",
      "metadata": {
        "id": "0T9mmzRwscq_",
        "colab": {
          "base_uri": "https://localhost:8080/",
          "height": 572
        },
        "outputId": "2172b3d8-cc23-4d07-90ab-6e4faceb9cf1"
      },
      "source": [
        "# Loading 'dementia' dataset into our notebook\n",
        "dementia = pd.read_csv('/content/dementia.csv')\n",
        "dementia['disorder'] = 'dementia'\n",
        "dementia.head(5)"
      ],
      "execution_count": null,
      "outputs": [
        {
          "output_type": "execute_result",
          "data": {
            "text/html": [
              "<div>\n",
              "<style scoped>\n",
              "    .dataframe tbody tr th:only-of-type {\n",
              "        vertical-align: middle;\n",
              "    }\n",
              "\n",
              "    .dataframe tbody tr th {\n",
              "        vertical-align: top;\n",
              "    }\n",
              "\n",
              "    .dataframe thead th {\n",
              "        text-align: right;\n",
              "    }\n",
              "</style>\n",
              "<table border=\"1\" class=\"dataframe\">\n",
              "  <thead>\n",
              "    <tr style=\"text-align: right;\">\n",
              "      <th></th>\n",
              "      <th>Unnamed: 0</th>\n",
              "      <th>user</th>\n",
              "      <th>tweet</th>\n",
              "      <th>location</th>\n",
              "      <th>description</th>\n",
              "      <th>friends_count</th>\n",
              "      <th>followers_count</th>\n",
              "      <th>statuses_count</th>\n",
              "      <th>created_at</th>\n",
              "      <th>retweet_count</th>\n",
              "      <th>hashtags</th>\n",
              "      <th>disorder</th>\n",
              "    </tr>\n",
              "  </thead>\n",
              "  <tbody>\n",
              "    <tr>\n",
              "      <th>0</th>\n",
              "      <td>0</td>\n",
              "      <td>rajivshori</td>\n",
              "      <td>Dementia: The ‘single most important’ food to ...</td>\n",
              "      <td>Nairobi, Kenya</td>\n",
              "      <td>Medic, Mental health professional and Mediator...</td>\n",
              "      <td>155</td>\n",
              "      <td>114</td>\n",
              "      <td>8043</td>\n",
              "      <td>2021-08-16 02:09:15</td>\n",
              "      <td>0</td>\n",
              "      <td>[]</td>\n",
              "      <td>dementia</td>\n",
              "    </tr>\n",
              "    <tr>\n",
              "      <th>1</th>\n",
              "      <td>1</td>\n",
              "      <td>Mjames55652812</td>\n",
              "      <td>The slow walking dementia patient is just doin...</td>\n",
              "      <td>Naivasha.</td>\n",
              "      <td>Entrepreneur.\\nSic Transit Gloria Mundi.</td>\n",
              "      <td>134</td>\n",
              "      <td>107</td>\n",
              "      <td>5172</td>\n",
              "      <td>2021-08-15 16:32:33</td>\n",
              "      <td>0</td>\n",
              "      <td>[]</td>\n",
              "      <td>dementia</td>\n",
              "    </tr>\n",
              "    <tr>\n",
              "      <th>2</th>\n",
              "      <td>2</td>\n",
              "      <td>linevadventure</td>\n",
              "      <td>Adrenaline is wonderful. It covers pain. It co...</td>\n",
              "      <td>Nairobi, Kenya</td>\n",
              "      <td>Linev Adventures is a full service ground and ...</td>\n",
              "      <td>1</td>\n",
              "      <td>1</td>\n",
              "      <td>3</td>\n",
              "      <td>2021-08-15 15:10:03</td>\n",
              "      <td>0</td>\n",
              "      <td>[]</td>\n",
              "      <td>dementia</td>\n",
              "    </tr>\n",
              "    <tr>\n",
              "      <th>3</th>\n",
              "      <td>3</td>\n",
              "      <td>EnziPascal</td>\n",
              "      <td>Problems of being OBESE\\n\\n- Brain injury: Mem...</td>\n",
              "      <td>Nairobi,Kenya</td>\n",
              "      <td>Create⏩Explore⏩Expand⏩Conquer</td>\n",
              "      <td>493</td>\n",
              "      <td>157</td>\n",
              "      <td>99</td>\n",
              "      <td>2021-08-15 10:03:45</td>\n",
              "      <td>0</td>\n",
              "      <td>[]</td>\n",
              "      <td>dementia</td>\n",
              "    </tr>\n",
              "    <tr>\n",
              "      <th>4</th>\n",
              "      <td>4</td>\n",
              "      <td>Beverlyne__</td>\n",
              "      <td>Why do I have the sex drive of an 80 year old ...</td>\n",
              "      <td>Nairobi, Kenya</td>\n",
              "      <td>Spread love and kindness 💕.\\nIntern @wakenyaaw...</td>\n",
              "      <td>1061</td>\n",
              "      <td>1775</td>\n",
              "      <td>19213</td>\n",
              "      <td>2021-08-15 06:56:15</td>\n",
              "      <td>0</td>\n",
              "      <td>[]</td>\n",
              "      <td>dementia</td>\n",
              "    </tr>\n",
              "  </tbody>\n",
              "</table>\n",
              "</div>"
            ],
            "text/plain": [
              "   Unnamed: 0            user  ... hashtags  disorder\n",
              "0           0      rajivshori  ...       []  dementia\n",
              "1           1  Mjames55652812  ...       []  dementia\n",
              "2           2  linevadventure  ...       []  dementia\n",
              "3           3      EnziPascal  ...       []  dementia\n",
              "4           4     Beverlyne__  ...       []  dementia\n",
              "\n",
              "[5 rows x 12 columns]"
            ]
          },
          "metadata": {
            "tags": []
          },
          "execution_count": 83
        }
      ]
    },
    {
      "cell_type": "code",
      "metadata": {
        "id": "oQmjzlzZshf6",
        "colab": {
          "base_uri": "https://localhost:8080/",
          "height": 488
        },
        "outputId": "93bc864f-fc64-4203-ac61-a9b7b685cad4"
      },
      "source": [
        "# Loading 'bipolar' dataset into our notebook\n",
        "bipolar = pd.read_csv('/content/bipolar.csv')\n",
        "bipolar['disorder'] = 'bipolar'\n",
        "bipolar.head(5)"
      ],
      "execution_count": null,
      "outputs": [
        {
          "output_type": "execute_result",
          "data": {
            "text/html": [
              "<div>\n",
              "<style scoped>\n",
              "    .dataframe tbody tr th:only-of-type {\n",
              "        vertical-align: middle;\n",
              "    }\n",
              "\n",
              "    .dataframe tbody tr th {\n",
              "        vertical-align: top;\n",
              "    }\n",
              "\n",
              "    .dataframe thead th {\n",
              "        text-align: right;\n",
              "    }\n",
              "</style>\n",
              "<table border=\"1\" class=\"dataframe\">\n",
              "  <thead>\n",
              "    <tr style=\"text-align: right;\">\n",
              "      <th></th>\n",
              "      <th>Unnamed: 0</th>\n",
              "      <th>user</th>\n",
              "      <th>tweet</th>\n",
              "      <th>location</th>\n",
              "      <th>description</th>\n",
              "      <th>friends_count</th>\n",
              "      <th>followers_count</th>\n",
              "      <th>statuses_count</th>\n",
              "      <th>created_at</th>\n",
              "      <th>retweet_count</th>\n",
              "      <th>hashtags</th>\n",
              "      <th>disorder</th>\n",
              "    </tr>\n",
              "  </thead>\n",
              "  <tbody>\n",
              "    <tr>\n",
              "      <th>0</th>\n",
              "      <td>0</td>\n",
              "      <td>haofuwei</td>\n",
              "      <td>@ke_skimpyy @allak_weda @patchyplacing @Ration...</td>\n",
              "      <td>Nairobi</td>\n",
              "      <td>Cultural critic.</td>\n",
              "      <td>1086</td>\n",
              "      <td>1619</td>\n",
              "      <td>2185</td>\n",
              "      <td>2021-08-16 17:06:29</td>\n",
              "      <td>0</td>\n",
              "      <td>[]</td>\n",
              "      <td>bipolar</td>\n",
              "    </tr>\n",
              "    <tr>\n",
              "      <th>1</th>\n",
              "      <td>1</td>\n",
              "      <td>jos_zena</td>\n",
              "      <td>This bipolar weather is quite annoying. Yaani ...</td>\n",
              "      <td>Nairobi ,Kenya.</td>\n",
              "      <td>IG @zena_jos</td>\n",
              "      <td>741</td>\n",
              "      <td>141</td>\n",
              "      <td>1357</td>\n",
              "      <td>2021-08-16 10:12:38</td>\n",
              "      <td>0</td>\n",
              "      <td>[]</td>\n",
              "      <td>bipolar</td>\n",
              "    </tr>\n",
              "    <tr>\n",
              "      <th>2</th>\n",
              "      <td>2</td>\n",
              "      <td>iankiplangat4</td>\n",
              "      <td>@ChiromoHospGrp @HawahKone @leujonson @benson_...</td>\n",
              "      <td>Nairobi</td>\n",
              "      <td>NaN</td>\n",
              "      <td>173</td>\n",
              "      <td>65</td>\n",
              "      <td>206</td>\n",
              "      <td>2021-08-16 07:52:59</td>\n",
              "      <td>3</td>\n",
              "      <td>[]</td>\n",
              "      <td>bipolar</td>\n",
              "    </tr>\n",
              "    <tr>\n",
              "      <th>3</th>\n",
              "      <td>3</td>\n",
              "      <td>WanjiruMajor</td>\n",
              "      <td>@MwalimChurchill @ntvkenya @Rachelshebesh Ment...</td>\n",
              "      <td>Nairobi, Kenya</td>\n",
              "      <td>I know the Secret!! My Thoughts, My World.</td>\n",
              "      <td>474</td>\n",
              "      <td>310</td>\n",
              "      <td>1780</td>\n",
              "      <td>2021-08-15 18:07:05</td>\n",
              "      <td>0</td>\n",
              "      <td>[]</td>\n",
              "      <td>bipolar</td>\n",
              "    </tr>\n",
              "    <tr>\n",
              "      <th>4</th>\n",
              "      <td>4</td>\n",
              "      <td>chegewagithinji</td>\n",
              "      <td>Bruh this  weather bipolar af😩</td>\n",
              "      <td>Kabete, Kenya</td>\n",
              "      <td>Car Hire services || Aviation Geek #A380 #A350...</td>\n",
              "      <td>805</td>\n",
              "      <td>2220</td>\n",
              "      <td>63612</td>\n",
              "      <td>2021-08-15 06:13:42</td>\n",
              "      <td>0</td>\n",
              "      <td>[]</td>\n",
              "      <td>bipolar</td>\n",
              "    </tr>\n",
              "  </tbody>\n",
              "</table>\n",
              "</div>"
            ],
            "text/plain": [
              "   Unnamed: 0             user  ... hashtags disorder\n",
              "0           0         haofuwei  ...       []  bipolar\n",
              "1           1         jos_zena  ...       []  bipolar\n",
              "2           2    iankiplangat4  ...       []  bipolar\n",
              "3           3     WanjiruMajor  ...       []  bipolar\n",
              "4           4  chegewagithinji  ...       []  bipolar\n",
              "\n",
              "[5 rows x 12 columns]"
            ]
          },
          "metadata": {
            "tags": []
          },
          "execution_count": 84
        }
      ]
    },
    {
      "cell_type": "code",
      "metadata": {
        "id": "guwXn7ctpCnt",
        "colab": {
          "base_uri": "https://localhost:8080/",
          "height": 488
        },
        "outputId": "d65d70b2-c60d-4e8f-86ec-aa0da6717829"
      },
      "source": [
        "# Loading 'suicidal' dataset into our notebook\n",
        "suicidal = pd.read_csv('/content/suicidal.csv')\n",
        "suicidal['disorder'] = 'suicidal'\n",
        "suicidal.head(5)"
      ],
      "execution_count": null,
      "outputs": [
        {
          "output_type": "execute_result",
          "data": {
            "text/html": [
              "<div>\n",
              "<style scoped>\n",
              "    .dataframe tbody tr th:only-of-type {\n",
              "        vertical-align: middle;\n",
              "    }\n",
              "\n",
              "    .dataframe tbody tr th {\n",
              "        vertical-align: top;\n",
              "    }\n",
              "\n",
              "    .dataframe thead th {\n",
              "        text-align: right;\n",
              "    }\n",
              "</style>\n",
              "<table border=\"1\" class=\"dataframe\">\n",
              "  <thead>\n",
              "    <tr style=\"text-align: right;\">\n",
              "      <th></th>\n",
              "      <th>Unnamed: 0</th>\n",
              "      <th>user</th>\n",
              "      <th>tweet</th>\n",
              "      <th>location</th>\n",
              "      <th>description</th>\n",
              "      <th>friends_count</th>\n",
              "      <th>followers_count</th>\n",
              "      <th>statuses_count</th>\n",
              "      <th>created_at</th>\n",
              "      <th>retweet_count</th>\n",
              "      <th>hashtags</th>\n",
              "      <th>disorder</th>\n",
              "    </tr>\n",
              "  </thead>\n",
              "  <tbody>\n",
              "    <tr>\n",
              "      <th>0</th>\n",
              "      <td>0</td>\n",
              "      <td>BaleMpya</td>\n",
              "      <td>Daring a suicidal person to jump is the lowest...</td>\n",
              "      <td>Kajiado, Kenya</td>\n",
              "      <td>Interior Design | Finance Assistant | Top Tier...</td>\n",
              "      <td>517</td>\n",
              "      <td>1026</td>\n",
              "      <td>29857</td>\n",
              "      <td>2021-08-17 05:39:57</td>\n",
              "      <td>1</td>\n",
              "      <td>[]</td>\n",
              "      <td>suicidal</td>\n",
              "    </tr>\n",
              "    <tr>\n",
              "      <th>1</th>\n",
              "      <td>1</td>\n",
              "      <td>Queen_Maureen1</td>\n",
              "      <td>@AchiengBlack It's because they know what it f...</td>\n",
              "      <td>Nairobi, Kenya</td>\n",
              "      <td>It's Never that Serious 😍• Youth Ambassador• I...</td>\n",
              "      <td>3915</td>\n",
              "      <td>43038</td>\n",
              "      <td>35355</td>\n",
              "      <td>2021-08-17 05:20:39</td>\n",
              "      <td>0</td>\n",
              "      <td>[]</td>\n",
              "      <td>suicidal</td>\n",
              "    </tr>\n",
              "    <tr>\n",
              "      <th>2</th>\n",
              "      <td>2</td>\n",
              "      <td>iamlegitdaily</td>\n",
              "      <td>How do you tell a suicidal person on the roof ...</td>\n",
              "      <td>Kenya 🇰🇪</td>\n",
              "      <td>Digital Media | Lifestyle | Showbiz | Conversa...</td>\n",
              "      <td>665</td>\n",
              "      <td>51339</td>\n",
              "      <td>100948</td>\n",
              "      <td>2021-08-17 05:17:23</td>\n",
              "      <td>0</td>\n",
              "      <td>[]</td>\n",
              "      <td>suicidal</td>\n",
              "    </tr>\n",
              "    <tr>\n",
              "      <th>3</th>\n",
              "      <td>3</td>\n",
              "      <td>dankiptoo7</td>\n",
              "      <td>@ken_rende I'm watching probable suicides here...</td>\n",
              "      <td>Nakuru, Kenya</td>\n",
              "      <td>Lover of whats great,spicy,unique and full of ...</td>\n",
              "      <td>682</td>\n",
              "      <td>683</td>\n",
              "      <td>886</td>\n",
              "      <td>2021-08-16 17:17:20</td>\n",
              "      <td>0</td>\n",
              "      <td>[]</td>\n",
              "      <td>suicidal</td>\n",
              "    </tr>\n",
              "    <tr>\n",
              "      <th>4</th>\n",
              "      <td>4</td>\n",
              "      <td>whizcomp</td>\n",
              "      <td>@khilanii I was suicidal , the day I healed I ...</td>\n",
              "      <td>Bomet kenya</td>\n",
              "      <td>javascript</td>\n",
              "      <td>359</td>\n",
              "      <td>69</td>\n",
              "      <td>712</td>\n",
              "      <td>2021-08-16 16:01:08</td>\n",
              "      <td>0</td>\n",
              "      <td>[]</td>\n",
              "      <td>suicidal</td>\n",
              "    </tr>\n",
              "  </tbody>\n",
              "</table>\n",
              "</div>"
            ],
            "text/plain": [
              "   Unnamed: 0            user  ... hashtags  disorder\n",
              "0           0        BaleMpya  ...       []  suicidal\n",
              "1           1  Queen_Maureen1  ...       []  suicidal\n",
              "2           2   iamlegitdaily  ...       []  suicidal\n",
              "3           3      dankiptoo7  ...       []  suicidal\n",
              "4           4        whizcomp  ...       []  suicidal\n",
              "\n",
              "[5 rows x 12 columns]"
            ]
          },
          "metadata": {
            "tags": []
          },
          "execution_count": 85
        }
      ]
    },
    {
      "cell_type": "code",
      "metadata": {
        "colab": {
          "base_uri": "https://localhost:8080/",
          "height": 522
        },
        "id": "yABkZ7V6zq89",
        "outputId": "23b827c2-66d2-4700-f097-6f8187b65494"
      },
      "source": [
        "# Loading 'autism' dataset into our notebook\n",
        "autism = pd.read_csv('/content/autism.csv')\n",
        "autism['disorder'] = 'autism'\n",
        "autism.head(5)"
      ],
      "execution_count": null,
      "outputs": [
        {
          "output_type": "execute_result",
          "data": {
            "text/html": [
              "<div>\n",
              "<style scoped>\n",
              "    .dataframe tbody tr th:only-of-type {\n",
              "        vertical-align: middle;\n",
              "    }\n",
              "\n",
              "    .dataframe tbody tr th {\n",
              "        vertical-align: top;\n",
              "    }\n",
              "\n",
              "    .dataframe thead th {\n",
              "        text-align: right;\n",
              "    }\n",
              "</style>\n",
              "<table border=\"1\" class=\"dataframe\">\n",
              "  <thead>\n",
              "    <tr style=\"text-align: right;\">\n",
              "      <th></th>\n",
              "      <th>Unnamed: 0</th>\n",
              "      <th>user</th>\n",
              "      <th>tweet</th>\n",
              "      <th>location</th>\n",
              "      <th>description</th>\n",
              "      <th>friends_count</th>\n",
              "      <th>followers_count</th>\n",
              "      <th>statuses_count</th>\n",
              "      <th>created_at</th>\n",
              "      <th>retweet_count</th>\n",
              "      <th>hashtags</th>\n",
              "      <th>disorder</th>\n",
              "    </tr>\n",
              "  </thead>\n",
              "  <tbody>\n",
              "    <tr>\n",
              "      <th>0</th>\n",
              "      <td>0</td>\n",
              "      <td>viru5detected</td>\n",
              "      <td>I have autism and ADHD. I can't pay attention ...</td>\n",
              "      <td>Nairobi, Kenya</td>\n",
              "      <td>That fattie on a bicycle | Petticoated Swashbu...</td>\n",
              "      <td>1270</td>\n",
              "      <td>5509</td>\n",
              "      <td>158117</td>\n",
              "      <td>2021-08-16 12:31:37</td>\n",
              "      <td>0</td>\n",
              "      <td>[]</td>\n",
              "      <td>autism</td>\n",
              "    </tr>\n",
              "    <tr>\n",
              "      <th>1</th>\n",
              "      <td>1</td>\n",
              "      <td>viru5detected</td>\n",
              "      <td>Perhaps I do something about my autism and ADHD</td>\n",
              "      <td>Nairobi, Kenya</td>\n",
              "      <td>That fattie on a bicycle | Petticoated Swashbu...</td>\n",
              "      <td>1270</td>\n",
              "      <td>5509</td>\n",
              "      <td>158117</td>\n",
              "      <td>2021-08-16 12:16:34</td>\n",
              "      <td>0</td>\n",
              "      <td>[]</td>\n",
              "      <td>autism</td>\n",
              "    </tr>\n",
              "    <tr>\n",
              "      <th>2</th>\n",
              "      <td>2</td>\n",
              "      <td>HopekidHk</td>\n",
              "      <td>Bless those who see life through a different w...</td>\n",
              "      <td>NAIROBI KENYA</td>\n",
              "      <td>WATCH #KOO_KOO ON YOUTUBE. 👇👇👇👇👇SMS \"skiza 639...</td>\n",
              "      <td>231</td>\n",
              "      <td>32994</td>\n",
              "      <td>38893</td>\n",
              "      <td>2021-08-15 19:19:36</td>\n",
              "      <td>0</td>\n",
              "      <td>[]</td>\n",
              "      <td>autism</td>\n",
              "    </tr>\n",
              "    <tr>\n",
              "      <th>3</th>\n",
              "      <td>3</td>\n",
              "      <td>thee_lovechild</td>\n",
              "      <td>I’ve always wondered what happens to children ...</td>\n",
              "      <td>Nairobi, Kenya</td>\n",
              "      <td>QueenMufasa 👑 Body positivity activist ,Fashio...</td>\n",
              "      <td>434</td>\n",
              "      <td>1324</td>\n",
              "      <td>7557</td>\n",
              "      <td>2021-08-15 18:04:26</td>\n",
              "      <td>0</td>\n",
              "      <td>[]</td>\n",
              "      <td>autism</td>\n",
              "    </tr>\n",
              "    <tr>\n",
              "      <th>4</th>\n",
              "      <td>4</td>\n",
              "      <td>Brendaotin</td>\n",
              "      <td>@ArapTilingi @Kokwet_KE Didn't you say mental ...</td>\n",
              "      <td>Nairobi, Kenya</td>\n",
              "      <td>Physicist|CCNA|FullStack Developer|Techie |Gui...</td>\n",
              "      <td>289</td>\n",
              "      <td>148</td>\n",
              "      <td>1828</td>\n",
              "      <td>2021-08-14 09:00:24</td>\n",
              "      <td>0</td>\n",
              "      <td>[]</td>\n",
              "      <td>autism</td>\n",
              "    </tr>\n",
              "  </tbody>\n",
              "</table>\n",
              "</div>"
            ],
            "text/plain": [
              "   Unnamed: 0            user  ... hashtags disorder\n",
              "0           0   viru5detected  ...       []   autism\n",
              "1           1   viru5detected  ...       []   autism\n",
              "2           2       HopekidHk  ...       []   autism\n",
              "3           3  thee_lovechild  ...       []   autism\n",
              "4           4      Brendaotin  ...       []   autism\n",
              "\n",
              "[5 rows x 12 columns]"
            ]
          },
          "metadata": {
            "tags": []
          },
          "execution_count": 86
        }
      ]
    },
    {
      "cell_type": "code",
      "metadata": {
        "id": "7qusJQwYqRzz",
        "colab": {
          "base_uri": "https://localhost:8080/",
          "height": 901
        },
        "outputId": "dd039a26-ab23-4f76-f462-c360f2316cb9"
      },
      "source": [
        "# Concatenating our datasets into one dataset\n",
        "\n",
        "mentalhealth_df = pd.concat([depression, autism, anxiety, paranoia, schizophrenia, suicidal, dementia, bipolar], axis = 0)\n",
        "mentalhealth_df"
      ],
      "execution_count": null,
      "outputs": [
        {
          "output_type": "execute_result",
          "data": {
            "text/html": [
              "<div>\n",
              "<style scoped>\n",
              "    .dataframe tbody tr th:only-of-type {\n",
              "        vertical-align: middle;\n",
              "    }\n",
              "\n",
              "    .dataframe tbody tr th {\n",
              "        vertical-align: top;\n",
              "    }\n",
              "\n",
              "    .dataframe thead th {\n",
              "        text-align: right;\n",
              "    }\n",
              "</style>\n",
              "<table border=\"1\" class=\"dataframe\">\n",
              "  <thead>\n",
              "    <tr style=\"text-align: right;\">\n",
              "      <th></th>\n",
              "      <th>Unnamed: 0</th>\n",
              "      <th>user</th>\n",
              "      <th>tweet</th>\n",
              "      <th>location</th>\n",
              "      <th>description</th>\n",
              "      <th>friends_count</th>\n",
              "      <th>followers_count</th>\n",
              "      <th>statuses_count</th>\n",
              "      <th>created_at</th>\n",
              "      <th>retweet_count</th>\n",
              "      <th>hashtags</th>\n",
              "      <th>disorder</th>\n",
              "    </tr>\n",
              "  </thead>\n",
              "  <tbody>\n",
              "    <tr>\n",
              "      <th>0</th>\n",
              "      <td>0</td>\n",
              "      <td>TheKenyanPost</td>\n",
              "      <td>SHOCK as a young man climbs on top of a hospit...</td>\n",
              "      <td>Nairobi, Kenya</td>\n",
              "      <td>News, Politics, Entertainment, Gossip, Feature...</td>\n",
              "      <td>434</td>\n",
              "      <td>52951</td>\n",
              "      <td>356584</td>\n",
              "      <td>2021-08-17 10:33:55</td>\n",
              "      <td>0</td>\n",
              "      <td>[]</td>\n",
              "      <td>depression</td>\n",
              "    </tr>\n",
              "    <tr>\n",
              "      <th>1</th>\n",
              "      <td>1</td>\n",
              "      <td>Goodguy_254</td>\n",
              "      <td>People tend to hide depression under drinking ...</td>\n",
              "      <td>Nairobi, Kenya</td>\n",
              "      <td>poet\\n writer🧾\\nsoftware developer🖥️\\n program...</td>\n",
              "      <td>2074</td>\n",
              "      <td>2257</td>\n",
              "      <td>1284</td>\n",
              "      <td>2021-08-17 10:20:30</td>\n",
              "      <td>0</td>\n",
              "      <td>[]</td>\n",
              "      <td>depression</td>\n",
              "    </tr>\n",
              "    <tr>\n",
              "      <th>2</th>\n",
              "      <td>2</td>\n",
              "      <td>AlfredLete</td>\n",
              "      <td>@Lily_nganga Depression</td>\n",
              "      <td>Nairobi</td>\n",
              "      <td>do what is right,not what is easy</td>\n",
              "      <td>8515</td>\n",
              "      <td>13075</td>\n",
              "      <td>37974</td>\n",
              "      <td>2021-08-17 09:32:49</td>\n",
              "      <td>0</td>\n",
              "      <td>[]</td>\n",
              "      <td>depression</td>\n",
              "    </tr>\n",
              "    <tr>\n",
              "      <th>3</th>\n",
              "      <td>3</td>\n",
              "      <td>GeraldNgaoPk7</td>\n",
              "      <td>Itumbi has subjected bloggers in to depression...</td>\n",
              "      <td>Nairobi, Kenya</td>\n",
              "      <td>Pan-Africanist||NeoMarxistRevolutionary||Inter...</td>\n",
              "      <td>21503</td>\n",
              "      <td>20437</td>\n",
              "      <td>164694</td>\n",
              "      <td>2021-08-17 08:56:26</td>\n",
              "      <td>2</td>\n",
              "      <td>[{'text': 'ItumbiGhostWorkers', 'indices': [77...</td>\n",
              "      <td>depression</td>\n",
              "    </tr>\n",
              "    <tr>\n",
              "      <th>4</th>\n",
              "      <td>4</td>\n",
              "      <td>swyma304</td>\n",
              "      <td>Mental health isn’t just anxiety &amp;amp; depress...</td>\n",
              "      <td>Nairobi, Kenya</td>\n",
              "      <td>Psychiatry Resident. Certified Cognitive Behav...</td>\n",
              "      <td>93</td>\n",
              "      <td>206</td>\n",
              "      <td>594</td>\n",
              "      <td>2021-08-17 08:18:20</td>\n",
              "      <td>1</td>\n",
              "      <td>[]</td>\n",
              "      <td>depression</td>\n",
              "    </tr>\n",
              "    <tr>\n",
              "      <th>...</th>\n",
              "      <td>...</td>\n",
              "      <td>...</td>\n",
              "      <td>...</td>\n",
              "      <td>...</td>\n",
              "      <td>...</td>\n",
              "      <td>...</td>\n",
              "      <td>...</td>\n",
              "      <td>...</td>\n",
              "      <td>...</td>\n",
              "      <td>...</td>\n",
              "      <td>...</td>\n",
              "      <td>...</td>\n",
              "    </tr>\n",
              "    <tr>\n",
              "      <th>12</th>\n",
              "      <td>12</td>\n",
              "      <td>tawio_</td>\n",
              "      <td>@Adenya_E We have the Arctic and Antarctic, sa...</td>\n",
              "      <td>Nairobi, Kenya</td>\n",
              "      <td>I just want to swim with the turtles.\\n| GGMU ...</td>\n",
              "      <td>289</td>\n",
              "      <td>165</td>\n",
              "      <td>7602</td>\n",
              "      <td>2021-08-10 12:39:21</td>\n",
              "      <td>0</td>\n",
              "      <td>[]</td>\n",
              "      <td>bipolar</td>\n",
              "    </tr>\n",
              "    <tr>\n",
              "      <th>13</th>\n",
              "      <td>13</td>\n",
              "      <td>billy_odhiamb0</td>\n",
              "      <td>Weather is very Bipolar</td>\n",
              "      <td>Nairobi, Kenya</td>\n",
              "      <td>| Doctor in training | Pre-Finalist | Passiona...</td>\n",
              "      <td>872</td>\n",
              "      <td>981</td>\n",
              "      <td>31477</td>\n",
              "      <td>2021-08-10 12:00:51</td>\n",
              "      <td>0</td>\n",
              "      <td>[]</td>\n",
              "      <td>bipolar</td>\n",
              "    </tr>\n",
              "    <tr>\n",
              "      <th>14</th>\n",
              "      <td>14</td>\n",
              "      <td>AMAnetwork254</td>\n",
              "      <td>@ElenaNjeru @YvonneGach @Shikoohz It is possib...</td>\n",
              "      <td>Nairobi</td>\n",
              "      <td>A Mental Health Awareness Organisation\\nbased ...</td>\n",
              "      <td>100</td>\n",
              "      <td>176</td>\n",
              "      <td>187</td>\n",
              "      <td>2021-08-10 03:49:12</td>\n",
              "      <td>0</td>\n",
              "      <td>[]</td>\n",
              "      <td>bipolar</td>\n",
              "    </tr>\n",
              "    <tr>\n",
              "      <th>15</th>\n",
              "      <td>15</td>\n",
              "      <td>ntvkenya</td>\n",
              "      <td>ICYMI: Living with bipolar disorder | #Unscrip...</td>\n",
              "      <td>Nairobi</td>\n",
              "      <td>LIVE STREAM: https://t.co/Vp8SMcv7jV _________...</td>\n",
              "      <td>323</td>\n",
              "      <td>3027299</td>\n",
              "      <td>540786</td>\n",
              "      <td>2021-08-09 13:05:04</td>\n",
              "      <td>5</td>\n",
              "      <td>[{'text': 'UnscriptedWithGrace', 'indices': [3...</td>\n",
              "      <td>bipolar</td>\n",
              "    </tr>\n",
              "    <tr>\n",
              "      <th>16</th>\n",
              "      <td>16</td>\n",
              "      <td>RealAmiani_Ke</td>\n",
              "      <td>\"My mom was diagnosed with bipolar schizophren...</td>\n",
              "      <td>Nairobi, Kenya</td>\n",
              "      <td>#𝗖𝗢𝗬𝗚</td>\n",
              "      <td>2033</td>\n",
              "      <td>29614</td>\n",
              "      <td>19794</td>\n",
              "      <td>2021-08-09 08:20:37</td>\n",
              "      <td>1</td>\n",
              "      <td>[]</td>\n",
              "      <td>bipolar</td>\n",
              "    </tr>\n",
              "  </tbody>\n",
              "</table>\n",
              "<p>756 rows × 12 columns</p>\n",
              "</div>"
            ],
            "text/plain": [
              "    Unnamed: 0  ...    disorder\n",
              "0            0  ...  depression\n",
              "1            1  ...  depression\n",
              "2            2  ...  depression\n",
              "3            3  ...  depression\n",
              "4            4  ...  depression\n",
              "..         ...  ...         ...\n",
              "12          12  ...     bipolar\n",
              "13          13  ...     bipolar\n",
              "14          14  ...     bipolar\n",
              "15          15  ...     bipolar\n",
              "16          16  ...     bipolar\n",
              "\n",
              "[756 rows x 12 columns]"
            ]
          },
          "metadata": {
            "tags": []
          },
          "execution_count": 87
        }
      ]
    },
    {
      "cell_type": "code",
      "metadata": {
        "id": "_i_3dE32rS39"
      },
      "source": [
        "# Exporting our dataset into a .CSV file\n",
        "mentalhealth_df.to_csv ('MentalHealth.csv')"
      ],
      "execution_count": null,
      "outputs": []
    },
    {
      "cell_type": "code",
      "metadata": {
        "id": "FJv4_h8BtxMK",
        "colab": {
          "base_uri": "https://localhost:8080/",
          "height": 472
        },
        "outputId": "83b4b8e5-86da-4455-e76e-c68c9f73f8bf"
      },
      "source": [
        "# Loading our dataset for cleaning and pre-processing\n",
        "df = pd.read_csv('MentalHealth.csv')\n",
        "df.head()"
      ],
      "execution_count": null,
      "outputs": [
        {
          "output_type": "execute_result",
          "data": {
            "text/html": [
              "<div>\n",
              "<style scoped>\n",
              "    .dataframe tbody tr th:only-of-type {\n",
              "        vertical-align: middle;\n",
              "    }\n",
              "\n",
              "    .dataframe tbody tr th {\n",
              "        vertical-align: top;\n",
              "    }\n",
              "\n",
              "    .dataframe thead th {\n",
              "        text-align: right;\n",
              "    }\n",
              "</style>\n",
              "<table border=\"1\" class=\"dataframe\">\n",
              "  <thead>\n",
              "    <tr style=\"text-align: right;\">\n",
              "      <th></th>\n",
              "      <th>Unnamed: 0</th>\n",
              "      <th>Unnamed: 0.1</th>\n",
              "      <th>user</th>\n",
              "      <th>tweet</th>\n",
              "      <th>location</th>\n",
              "      <th>description</th>\n",
              "      <th>friends_count</th>\n",
              "      <th>followers_count</th>\n",
              "      <th>statuses_count</th>\n",
              "      <th>created_at</th>\n",
              "      <th>retweet_count</th>\n",
              "      <th>hashtags</th>\n",
              "      <th>disorder</th>\n",
              "    </tr>\n",
              "  </thead>\n",
              "  <tbody>\n",
              "    <tr>\n",
              "      <th>0</th>\n",
              "      <td>0</td>\n",
              "      <td>0</td>\n",
              "      <td>TheKenyanPost</td>\n",
              "      <td>SHOCK as a young man climbs on top of a hospit...</td>\n",
              "      <td>Nairobi, Kenya</td>\n",
              "      <td>News, Politics, Entertainment, Gossip, Feature...</td>\n",
              "      <td>434</td>\n",
              "      <td>52951</td>\n",
              "      <td>356584</td>\n",
              "      <td>2021-08-17 10:33:55</td>\n",
              "      <td>0</td>\n",
              "      <td>[]</td>\n",
              "      <td>depression</td>\n",
              "    </tr>\n",
              "    <tr>\n",
              "      <th>1</th>\n",
              "      <td>1</td>\n",
              "      <td>1</td>\n",
              "      <td>Goodguy_254</td>\n",
              "      <td>People tend to hide depression under drinking ...</td>\n",
              "      <td>Nairobi, Kenya</td>\n",
              "      <td>poet\\n writer🧾\\nsoftware developer🖥️\\n program...</td>\n",
              "      <td>2074</td>\n",
              "      <td>2257</td>\n",
              "      <td>1284</td>\n",
              "      <td>2021-08-17 10:20:30</td>\n",
              "      <td>0</td>\n",
              "      <td>[]</td>\n",
              "      <td>depression</td>\n",
              "    </tr>\n",
              "    <tr>\n",
              "      <th>2</th>\n",
              "      <td>2</td>\n",
              "      <td>2</td>\n",
              "      <td>AlfredLete</td>\n",
              "      <td>@Lily_nganga Depression</td>\n",
              "      <td>Nairobi</td>\n",
              "      <td>do what is right,not what is easy</td>\n",
              "      <td>8515</td>\n",
              "      <td>13075</td>\n",
              "      <td>37974</td>\n",
              "      <td>2021-08-17 09:32:49</td>\n",
              "      <td>0</td>\n",
              "      <td>[]</td>\n",
              "      <td>depression</td>\n",
              "    </tr>\n",
              "    <tr>\n",
              "      <th>3</th>\n",
              "      <td>3</td>\n",
              "      <td>3</td>\n",
              "      <td>GeraldNgaoPk7</td>\n",
              "      <td>Itumbi has subjected bloggers in to depression...</td>\n",
              "      <td>Nairobi, Kenya</td>\n",
              "      <td>Pan-Africanist||NeoMarxistRevolutionary||Inter...</td>\n",
              "      <td>21503</td>\n",
              "      <td>20437</td>\n",
              "      <td>164694</td>\n",
              "      <td>2021-08-17 08:56:26</td>\n",
              "      <td>2</td>\n",
              "      <td>[{'text': 'ItumbiGhostWorkers', 'indices': [77...</td>\n",
              "      <td>depression</td>\n",
              "    </tr>\n",
              "    <tr>\n",
              "      <th>4</th>\n",
              "      <td>4</td>\n",
              "      <td>4</td>\n",
              "      <td>swyma304</td>\n",
              "      <td>Mental health isn’t just anxiety &amp;amp; depress...</td>\n",
              "      <td>Nairobi, Kenya</td>\n",
              "      <td>Psychiatry Resident. Certified Cognitive Behav...</td>\n",
              "      <td>93</td>\n",
              "      <td>206</td>\n",
              "      <td>594</td>\n",
              "      <td>2021-08-17 08:18:20</td>\n",
              "      <td>1</td>\n",
              "      <td>[]</td>\n",
              "      <td>depression</td>\n",
              "    </tr>\n",
              "  </tbody>\n",
              "</table>\n",
              "</div>"
            ],
            "text/plain": [
              "   Unnamed: 0  ...    disorder\n",
              "0           0  ...  depression\n",
              "1           1  ...  depression\n",
              "2           2  ...  depression\n",
              "3           3  ...  depression\n",
              "4           4  ...  depression\n",
              "\n",
              "[5 rows x 13 columns]"
            ]
          },
          "metadata": {
            "tags": []
          },
          "execution_count": 89
        }
      ]
    },
    {
      "cell_type": "markdown",
      "metadata": {
        "id": "RxAzmwfaIHpj"
      },
      "source": [
        "# Data Cleaning"
      ]
    },
    {
      "cell_type": "code",
      "metadata": {
        "colab": {
          "base_uri": "https://localhost:8080/"
        },
        "id": "xP881eSuM5ra",
        "outputId": "e1f3ccc6-1f3c-43a3-be94-ba8c214df1b9"
      },
      "source": [
        "# Exploring the data \n",
        "df.shape"
      ],
      "execution_count": null,
      "outputs": [
        {
          "output_type": "execute_result",
          "data": {
            "text/plain": [
              "(756, 13)"
            ]
          },
          "metadata": {
            "tags": []
          },
          "execution_count": 90
        }
      ]
    },
    {
      "cell_type": "markdown",
      "metadata": {
        "id": "BwdS1np7KKKd"
      },
      "source": [
        "Our concatenated dataset has 756 entries and 13 columns."
      ]
    },
    {
      "cell_type": "code",
      "metadata": {
        "colab": {
          "base_uri": "https://localhost:8080/"
        },
        "id": "hmZmdMJkIEag",
        "outputId": "2c96ac09-588b-4e95-fc58-9a48bc90777a"
      },
      "source": [
        "# Looking for duplicates\n",
        "df.duplicated().sum()"
      ],
      "execution_count": null,
      "outputs": [
        {
          "output_type": "execute_result",
          "data": {
            "text/plain": [
              "0"
            ]
          },
          "metadata": {
            "tags": []
          },
          "execution_count": 91
        }
      ]
    },
    {
      "cell_type": "markdown",
      "metadata": {
        "id": "SwHh4WN4Ikat"
      },
      "source": [
        "There are no duplicates in the tweets. "
      ]
    },
    {
      "cell_type": "code",
      "metadata": {
        "colab": {
          "base_uri": "https://localhost:8080/"
        },
        "id": "lhcdTBqvIkKC",
        "outputId": "4a7c0cff-fa7e-42aa-b9d8-06b0f2ed6d08"
      },
      "source": [
        "# Checking for null values\n",
        "df.isna().sum()"
      ],
      "execution_count": null,
      "outputs": [
        {
          "output_type": "execute_result",
          "data": {
            "text/plain": [
              "Unnamed: 0          0\n",
              "Unnamed: 0.1        0\n",
              "user                0\n",
              "tweet               0\n",
              "location            3\n",
              "description        28\n",
              "friends_count       0\n",
              "followers_count     0\n",
              "statuses_count      0\n",
              "created_at          0\n",
              "retweet_count       0\n",
              "hashtags            0\n",
              "disorder            0\n",
              "dtype: int64"
            ]
          },
          "metadata": {
            "tags": []
          },
          "execution_count": 92
        }
      ]
    },
    {
      "cell_type": "markdown",
      "metadata": {
        "id": "2go4DatBKUxl"
      },
      "source": [
        "There are 28 null entries in the description column & 3 in the location column."
      ]
    },
    {
      "cell_type": "code",
      "metadata": {
        "id": "geEdAJ0EIizl"
      },
      "source": [
        "# Dealing with missing data.\n",
        "df.drop(['description', 'Unnamed: 0.1'], 1 , inplace= True)"
      ],
      "execution_count": null,
      "outputs": []
    },
    {
      "cell_type": "code",
      "metadata": {
        "colab": {
          "base_uri": "https://localhost:8080/"
        },
        "id": "H8kUPRFiI_HX",
        "outputId": "1ea15576-20f7-4b88-caa0-fa704086ca81"
      },
      "source": [
        "# Dropping all irrelevant collumns\n",
        "droplist = ['Unnamed: 0', 'friends_count', 'user',\n",
        "       'followers_count', 'statuses_count', 'retweet_count',\n",
        "       'hashtags']\n",
        "df.drop(droplist, axis=1, inplace=True)\n",
        "df.columns"
      ],
      "execution_count": null,
      "outputs": [
        {
          "output_type": "execute_result",
          "data": {
            "text/plain": [
              "Index(['tweet', 'location', 'created_at', 'disorder'], dtype='object')"
            ]
          },
          "metadata": {
            "tags": []
          },
          "execution_count": 94
        }
      ]
    },
    {
      "cell_type": "code",
      "metadata": {
        "colab": {
          "base_uri": "https://localhost:8080/"
        },
        "id": "62P5uMPZJhNu",
        "outputId": "8113bcac-e75c-4c72-cb9a-dafc57c9b1f5"
      },
      "source": [
        "# Checking the data types of the columns\n",
        "df.dtypes"
      ],
      "execution_count": null,
      "outputs": [
        {
          "output_type": "execute_result",
          "data": {
            "text/plain": [
              "tweet         object\n",
              "location      object\n",
              "created_at    object\n",
              "disorder      object\n",
              "dtype: object"
            ]
          },
          "metadata": {
            "tags": []
          },
          "execution_count": 95
        }
      ]
    },
    {
      "cell_type": "markdown",
      "metadata": {
        "id": "6GgOxpxGKg1Q"
      },
      "source": [
        "Our columns are all object data types. We shall convert the 'created_at' column appropriately, to enable us extract the hour of day for our analysis."
      ]
    },
    {
      "cell_type": "code",
      "metadata": {
        "colab": {
          "base_uri": "https://localhost:8080/"
        },
        "id": "d5_JHXXwKRr4",
        "outputId": "9832b7b8-2ce5-4514-b25a-f1e0822845f4"
      },
      "source": [
        "# Changing the 'created_at' column into datetime\n",
        "df.created_at = pd.to_datetime(df.created_at)\n",
        "df.dtypes"
      ],
      "execution_count": null,
      "outputs": [
        {
          "output_type": "execute_result",
          "data": {
            "text/plain": [
              "tweet                 object\n",
              "location              object\n",
              "created_at    datetime64[ns]\n",
              "disorder              object\n",
              "dtype: object"
            ]
          },
          "metadata": {
            "tags": []
          },
          "execution_count": 96
        }
      ]
    },
    {
      "cell_type": "markdown",
      "metadata": {
        "id": "Xy7hVDTzNR1r"
      },
      "source": [
        "# Exploratory Data Analysis"
      ]
    },
    {
      "cell_type": "code",
      "metadata": {
        "colab": {
          "base_uri": "https://localhost:8080/",
          "height": 593
        },
        "id": "AH2yqAUOMVb0",
        "outputId": "b124a3b2-3bbc-44db-b0fa-eb43b2d91829"
      },
      "source": [
        "# Plotting the mental health disoders by popularity\n",
        "x=df['disorder'].value_counts()\n",
        "print(x)\n",
        "plt.figure(figsize = (8,6))\n",
        "plt.title('Mental Health Disorders by Popularity ')\n",
        "sns.barplot(x.index, x);\n"
      ],
      "execution_count": null,
      "outputs": [
        {
          "output_type": "stream",
          "text": [
            "depression       353\n",
            "anxiety          278\n",
            "suicidal          59\n",
            "bipolar           17\n",
            "schizophrenia     14\n",
            "autism            14\n",
            "dementia          12\n",
            "paranoia           9\n",
            "Name: disorder, dtype: int64\n"
          ],
          "name": "stdout"
        },
        {
          "output_type": "stream",
          "text": [
            "/usr/local/lib/python3.7/dist-packages/seaborn/_decorators.py:43: FutureWarning: Pass the following variables as keyword args: x, y. From version 0.12, the only valid positional argument will be `data`, and passing other arguments without an explicit keyword will result in an error or misinterpretation.\n",
            "  FutureWarning\n"
          ],
          "name": "stderr"
        },
        {
          "output_type": "display_data",
          "data": {
            "image/png": "[encoded data removed]",
            "text/plain": [
              "<Figure size 576x432 with 1 Axes>"
            ]
          },
          "metadata": {
            "tags": [],
            "needs_background": "light"
          }
        }
      ]
    },
    {
      "cell_type": "markdown",
      "metadata": {
        "id": "CWTA2pHjN5AN"
      },
      "source": [
        "According to the hashtags the main mental health issues that kenyans are tweeting about are \n",
        "- Depression \n",
        "- Anxiety \n",
        "- Suicidal ideation \n",
        "- Bipolar\n",
        "- Autism\n",
        "- Schizophrenia\n",
        "- Dementia \n",
        "- Paranoia "
      ]
    },
    {
      "cell_type": "code",
      "metadata": {
        "colab": {
          "base_uri": "https://localhost:8080/",
          "height": 202
        },
        "id": "AXgTtsM6PvQa",
        "outputId": "bdc8daec-1b36-4704-b388-ed6abd54a06e"
      },
      "source": [
        "# Extracting 'hour' data from the 'created_at' column\n",
        "df['hour'] = df['created_at'].dt.hour\n",
        "df.head()"
      ],
      "execution_count": null,
      "outputs": [
        {
          "output_type": "execute_result",
          "data": {
            "text/html": [
              "<div>\n",
              "<style scoped>\n",
              "    .dataframe tbody tr th:only-of-type {\n",
              "        vertical-align: middle;\n",
              "    }\n",
              "\n",
              "    .dataframe tbody tr th {\n",
              "        vertical-align: top;\n",
              "    }\n",
              "\n",
              "    .dataframe thead th {\n",
              "        text-align: right;\n",
              "    }\n",
              "</style>\n",
              "<table border=\"1\" class=\"dataframe\">\n",
              "  <thead>\n",
              "    <tr style=\"text-align: right;\">\n",
              "      <th></th>\n",
              "      <th>tweet</th>\n",
              "      <th>location</th>\n",
              "      <th>created_at</th>\n",
              "      <th>disorder</th>\n",
              "      <th>hour</th>\n",
              "    </tr>\n",
              "  </thead>\n",
              "  <tbody>\n",
              "    <tr>\n",
              "      <th>0</th>\n",
              "      <td>SHOCK as a young man climbs on top of a hospit...</td>\n",
              "      <td>Nairobi, Kenya</td>\n",
              "      <td>2021-08-17 10:33:55</td>\n",
              "      <td>depression</td>\n",
              "      <td>10</td>\n",
              "    </tr>\n",
              "    <tr>\n",
              "      <th>1</th>\n",
              "      <td>People tend to hide depression under drinking ...</td>\n",
              "      <td>Nairobi, Kenya</td>\n",
              "      <td>2021-08-17 10:20:30</td>\n",
              "      <td>depression</td>\n",
              "      <td>10</td>\n",
              "    </tr>\n",
              "    <tr>\n",
              "      <th>2</th>\n",
              "      <td>@Lily_nganga Depression</td>\n",
              "      <td>Nairobi</td>\n",
              "      <td>2021-08-17 09:32:49</td>\n",
              "      <td>depression</td>\n",
              "      <td>9</td>\n",
              "    </tr>\n",
              "    <tr>\n",
              "      <th>3</th>\n",
              "      <td>Itumbi has subjected bloggers in to depression...</td>\n",
              "      <td>Nairobi, Kenya</td>\n",
              "      <td>2021-08-17 08:56:26</td>\n",
              "      <td>depression</td>\n",
              "      <td>8</td>\n",
              "    </tr>\n",
              "    <tr>\n",
              "      <th>4</th>\n",
              "      <td>Mental health isn’t just anxiety &amp;amp; depress...</td>\n",
              "      <td>Nairobi, Kenya</td>\n",
              "      <td>2021-08-17 08:18:20</td>\n",
              "      <td>depression</td>\n",
              "      <td>8</td>\n",
              "    </tr>\n",
              "  </tbody>\n",
              "</table>\n",
              "</div>"
            ],
            "text/plain": [
              "                                               tweet  ... hour\n",
              "0  SHOCK as a young man climbs on top of a hospit...  ...   10\n",
              "1  People tend to hide depression under drinking ...  ...   10\n",
              "2                            @Lily_nganga Depression  ...    9\n",
              "3  Itumbi has subjected bloggers in to depression...  ...    8\n",
              "4  Mental health isn’t just anxiety &amp; depress...  ...    8\n",
              "\n",
              "[5 rows x 5 columns]"
            ]
          },
          "metadata": {
            "tags": []
          },
          "execution_count": 98
        }
      ]
    },
    {
      "cell_type": "code",
      "metadata": {
        "colab": {
          "base_uri": "https://localhost:8080/"
        },
        "id": "IX6Hfmb2agIl",
        "outputId": "f15d3ebd-2d47-4dc6-d265-ac18389e27e5"
      },
      "source": [
        "# Checking the number of disorders per hour\n",
        "df.hour.astype('category').value_counts()\n"
      ],
      "execution_count": null,
      "outputs": [
        {
          "output_type": "execute_result",
          "data": {
            "text/plain": [
              "7     70\n",
              "8     70\n",
              "9     52\n",
              "17    51\n",
              "13    48\n",
              "11    43\n",
              "12    41\n",
              "19    41\n",
              "10    40\n",
              "18    39\n",
              "16    38\n",
              "14    35\n",
              "6     29\n",
              "5     29\n",
              "15    28\n",
              "21    23\n",
              "20    21\n",
              "4     18\n",
              "3     13\n",
              "22     9\n",
              "2      6\n",
              "23     5\n",
              "1      4\n",
              "0      3\n",
              "Name: hour, dtype: int64"
            ]
          },
          "metadata": {
            "tags": []
          },
          "execution_count": 99
        }
      ]
    },
    {
      "cell_type": "code",
      "metadata": {
        "colab": {
          "base_uri": "https://localhost:8080/",
          "height": 374
        },
        "id": "16-lcGZlMt8k",
        "outputId": "a48c6c7d-8b1b-4790-cd6a-951427ad9daf"
      },
      "source": [
        "# Creating a plot showing the tweets by the hour of day they were created by the disorder\n",
        "plt.figure(figsize = (20,9))\n",
        "plt.title('Time analysis of Tweet by Hour')\n",
        "x = df.hour\n",
        "\n",
        "sns.countplot(df.hour.astype('category'), hue = df.disorder )\n",
        "plt.show()"
      ],
      "execution_count": null,
      "outputs": [
        {
          "output_type": "stream",
          "text": [
            "/usr/local/lib/python3.7/dist-packages/seaborn/_decorators.py:43: FutureWarning: Pass the following variable as a keyword arg: x. From version 0.12, the only valid positional argument will be `data`, and passing other arguments without an explicit keyword will result in an error or misinterpretation.\n",
            "  FutureWarning\n"
          ],
          "name": "stderr"
        },
        {
          "output_type": "display_data",
          "data": {
            "image/png": "[encoded data removed]",
            "text/plain": [
              "<Figure size 1440x648 with 1 Axes>"
            ]
          },
          "metadata": {
            "tags": [],
            "needs_background": "light"
          }
        }
      ]
    },
    {
      "cell_type": "code",
      "metadata": {
        "colab": {
          "base_uri": "https://localhost:8080/",
          "height": 404
        },
        "id": "011-zSp5RgCC",
        "outputId": "5d90685b-bf2e-4acf-d75b-a6fb5a12c2c5"
      },
      "source": [
        "# Creating a plot showing the tweets by the hour of day they were created\n",
        "plt.figure(figsize=(8,6))\n",
        "sns.countplot(x = df.hour)\n",
        "plt.title('Timeseries Analysis of Tweets by Hour')\n",
        "plt.show()\n"
      ],
      "execution_count": null,
      "outputs": [
        {
          "output_type": "display_data",
          "data": {
            "image/png": "[encoded data removed]",
            "text/plain": [
              "<Figure size 576x432 with 1 Axes>"
            ]
          },
          "metadata": {
            "tags": [],
            "needs_background": "light"
          }
        }
      ]
    },
    {
      "cell_type": "code",
      "metadata": {
        "colab": {
          "base_uri": "https://localhost:8080/",
          "height": 202
        },
        "id": "UqfQejaHRsYq",
        "outputId": "ddb31fa4-c0a2-44a9-d24c-e5d48e704350"
      },
      "source": [
        "# Removing the unnecessary column 'created_at' that will not help with classification. \n",
        "unnecessary = ['created_at']\n",
        "df.drop(unnecessary, axis=1, inplace=True)\n",
        "df.head()"
      ],
      "execution_count": null,
      "outputs": [
        {
          "output_type": "execute_result",
          "data": {
            "text/html": [
              "<div>\n",
              "<style scoped>\n",
              "    .dataframe tbody tr th:only-of-type {\n",
              "        vertical-align: middle;\n",
              "    }\n",
              "\n",
              "    .dataframe tbody tr th {\n",
              "        vertical-align: top;\n",
              "    }\n",
              "\n",
              "    .dataframe thead th {\n",
              "        text-align: right;\n",
              "    }\n",
              "</style>\n",
              "<table border=\"1\" class=\"dataframe\">\n",
              "  <thead>\n",
              "    <tr style=\"text-align: right;\">\n",
              "      <th></th>\n",
              "      <th>tweet</th>\n",
              "      <th>location</th>\n",
              "      <th>disorder</th>\n",
              "      <th>hour</th>\n",
              "    </tr>\n",
              "  </thead>\n",
              "  <tbody>\n",
              "    <tr>\n",
              "      <th>0</th>\n",
              "      <td>SHOCK as a young man climbs on top of a hospit...</td>\n",
              "      <td>Nairobi, Kenya</td>\n",
              "      <td>depression</td>\n",
              "      <td>10</td>\n",
              "    </tr>\n",
              "    <tr>\n",
              "      <th>1</th>\n",
              "      <td>People tend to hide depression under drinking ...</td>\n",
              "      <td>Nairobi, Kenya</td>\n",
              "      <td>depression</td>\n",
              "      <td>10</td>\n",
              "    </tr>\n",
              "    <tr>\n",
              "      <th>2</th>\n",
              "      <td>@Lily_nganga Depression</td>\n",
              "      <td>Nairobi</td>\n",
              "      <td>depression</td>\n",
              "      <td>9</td>\n",
              "    </tr>\n",
              "    <tr>\n",
              "      <th>3</th>\n",
              "      <td>Itumbi has subjected bloggers in to depression...</td>\n",
              "      <td>Nairobi, Kenya</td>\n",
              "      <td>depression</td>\n",
              "      <td>8</td>\n",
              "    </tr>\n",
              "    <tr>\n",
              "      <th>4</th>\n",
              "      <td>Mental health isn’t just anxiety &amp;amp; depress...</td>\n",
              "      <td>Nairobi, Kenya</td>\n",
              "      <td>depression</td>\n",
              "      <td>8</td>\n",
              "    </tr>\n",
              "  </tbody>\n",
              "</table>\n",
              "</div>"
            ],
            "text/plain": [
              "                                               tweet  ... hour\n",
              "0  SHOCK as a young man climbs on top of a hospit...  ...   10\n",
              "1  People tend to hide depression under drinking ...  ...   10\n",
              "2                            @Lily_nganga Depression  ...    9\n",
              "3  Itumbi has subjected bloggers in to depression...  ...    8\n",
              "4  Mental health isn’t just anxiety &amp; depress...  ...    8\n",
              "\n",
              "[5 rows x 4 columns]"
            ]
          },
          "metadata": {
            "tags": []
          },
          "execution_count": 103
        }
      ]
    },
    {
      "cell_type": "markdown",
      "metadata": {
        "id": "Rpj543u9MOUH"
      },
      "source": [
        "# Data Pre-processing"
      ]
    },
    {
      "cell_type": "code",
      "metadata": {
        "colab": {
          "base_uri": "https://localhost:8080/"
        },
        "id": "WZ796JT1Tbax",
        "outputId": "800b5b0d-1c30-4bd1-e2b1-b69e8a6f4990"
      },
      "source": [
        "# Checking the number of entries available for each disorder\n",
        "df.disorder.value_counts()"
      ],
      "execution_count": null,
      "outputs": [
        {
          "output_type": "execute_result",
          "data": {
            "text/plain": [
              "depression       353\n",
              "anxiety          278\n",
              "suicidal          59\n",
              "bipolar           17\n",
              "schizophrenia     14\n",
              "autism            14\n",
              "dementia          12\n",
              "paranoia           9\n",
              "Name: disorder, dtype: int64"
            ]
          },
          "metadata": {
            "tags": []
          },
          "execution_count": 104
        }
      ]
    },
    {
      "cell_type": "code",
      "metadata": {
        "colab": {
          "base_uri": "https://localhost:8080/"
        },
        "id": "hIcklSetSVZY",
        "outputId": "69599482-d87a-402b-e9c9-24a6fc300298"
      },
      "source": [
        "# We need to LabelEncode the data. \n",
        "from sklearn.preprocessing import LabelEncoder\n",
        "le = LabelEncoder()\n",
        "df['disorder'] = le.fit_transform(df.disorder)\n",
        "df.disorder.value_counts()"
      ],
      "execution_count": null,
      "outputs": [
        {
          "output_type": "execute_result",
          "data": {
            "text/plain": [
              "4    353\n",
              "0    278\n",
              "7     59\n",
              "2     17\n",
              "6     14\n",
              "1     14\n",
              "3     12\n",
              "5      9\n",
              "Name: disorder, dtype: int64"
            ]
          },
          "metadata": {
            "tags": []
          },
          "execution_count": 105
        }
      ]
    },
    {
      "cell_type": "markdown",
      "metadata": {
        "id": "gJQm4X9NdTu_"
      },
      "source": [
        "- depression  4\n",
        "- anxiety     0\n",
        "- suicidal    7\n",
        "- bipolar     2\n",
        "- autism      6\n",
        "- paranoia    5\n",
        "- dementia    3\n",
        "- schizophrenia 1 \n"
      ]
    },
    {
      "cell_type": "code",
      "metadata": {
        "colab": {
          "base_uri": "https://localhost:8080/",
          "height": 414
        },
        "id": "VWavXzWoAwaB",
        "outputId": "148514a6-fe73-476d-cbed-d047da90ce35"
      },
      "source": [
        "# Making column values lowercase\n",
        "df[\"tweet\"] = df[\"tweet\"].str.lower()\n",
        "df[\"location\"] = df[\"location\"].str.lower()\n",
        "df"
      ],
      "execution_count": null,
      "outputs": [
        {
          "output_type": "execute_result",
          "data": {
            "text/html": [
              "<div>\n",
              "<style scoped>\n",
              "    .dataframe tbody tr th:only-of-type {\n",
              "        vertical-align: middle;\n",
              "    }\n",
              "\n",
              "    .dataframe tbody tr th {\n",
              "        vertical-align: top;\n",
              "    }\n",
              "\n",
              "    .dataframe thead th {\n",
              "        text-align: right;\n",
              "    }\n",
              "</style>\n",
              "<table border=\"1\" class=\"dataframe\">\n",
              "  <thead>\n",
              "    <tr style=\"text-align: right;\">\n",
              "      <th></th>\n",
              "      <th>tweet</th>\n",
              "      <th>location</th>\n",
              "      <th>disorder</th>\n",
              "      <th>hour</th>\n",
              "    </tr>\n",
              "  </thead>\n",
              "  <tbody>\n",
              "    <tr>\n",
              "      <th>0</th>\n",
              "      <td>shock as a young man climbs on top of a hospit...</td>\n",
              "      <td>nairobi, kenya</td>\n",
              "      <td>4</td>\n",
              "      <td>10</td>\n",
              "    </tr>\n",
              "    <tr>\n",
              "      <th>1</th>\n",
              "      <td>people tend to hide depression under drinking ...</td>\n",
              "      <td>nairobi, kenya</td>\n",
              "      <td>4</td>\n",
              "      <td>10</td>\n",
              "    </tr>\n",
              "    <tr>\n",
              "      <th>2</th>\n",
              "      <td>@lily_nganga depression</td>\n",
              "      <td>nairobi</td>\n",
              "      <td>4</td>\n",
              "      <td>9</td>\n",
              "    </tr>\n",
              "    <tr>\n",
              "      <th>3</th>\n",
              "      <td>itumbi has subjected bloggers in to depression...</td>\n",
              "      <td>nairobi, kenya</td>\n",
              "      <td>4</td>\n",
              "      <td>8</td>\n",
              "    </tr>\n",
              "    <tr>\n",
              "      <th>4</th>\n",
              "      <td>mental health isn’t just anxiety &amp;amp; depress...</td>\n",
              "      <td>nairobi, kenya</td>\n",
              "      <td>4</td>\n",
              "      <td>8</td>\n",
              "    </tr>\n",
              "    <tr>\n",
              "      <th>...</th>\n",
              "      <td>...</td>\n",
              "      <td>...</td>\n",
              "      <td>...</td>\n",
              "      <td>...</td>\n",
              "    </tr>\n",
              "    <tr>\n",
              "      <th>751</th>\n",
              "      <td>@adenya_e we have the arctic and antarctic, sa...</td>\n",
              "      <td>nairobi, kenya</td>\n",
              "      <td>2</td>\n",
              "      <td>12</td>\n",
              "    </tr>\n",
              "    <tr>\n",
              "      <th>752</th>\n",
              "      <td>weather is very bipolar</td>\n",
              "      <td>nairobi, kenya</td>\n",
              "      <td>2</td>\n",
              "      <td>12</td>\n",
              "    </tr>\n",
              "    <tr>\n",
              "      <th>753</th>\n",
              "      <td>@elenanjeru @yvonnegach @shikoohz it is possib...</td>\n",
              "      <td>nairobi</td>\n",
              "      <td>2</td>\n",
              "      <td>3</td>\n",
              "    </tr>\n",
              "    <tr>\n",
              "      <th>754</th>\n",
              "      <td>icymi: living with bipolar disorder | #unscrip...</td>\n",
              "      <td>nairobi</td>\n",
              "      <td>2</td>\n",
              "      <td>13</td>\n",
              "    </tr>\n",
              "    <tr>\n",
              "      <th>755</th>\n",
              "      <td>\"my mom was diagnosed with bipolar schizophren...</td>\n",
              "      <td>nairobi, kenya</td>\n",
              "      <td>2</td>\n",
              "      <td>8</td>\n",
              "    </tr>\n",
              "  </tbody>\n",
              "</table>\n",
              "<p>756 rows × 4 columns</p>\n",
              "</div>"
            ],
            "text/plain": [
              "                                                 tweet  ... hour\n",
              "0    shock as a young man climbs on top of a hospit...  ...   10\n",
              "1    people tend to hide depression under drinking ...  ...   10\n",
              "2                              @lily_nganga depression  ...    9\n",
              "3    itumbi has subjected bloggers in to depression...  ...    8\n",
              "4    mental health isn’t just anxiety &amp; depress...  ...    8\n",
              "..                                                 ...  ...  ...\n",
              "751  @adenya_e we have the arctic and antarctic, sa...  ...   12\n",
              "752                            weather is very bipolar  ...   12\n",
              "753  @elenanjeru @yvonnegach @shikoohz it is possib...  ...    3\n",
              "754  icymi: living with bipolar disorder | #unscrip...  ...   13\n",
              "755  \"my mom was diagnosed with bipolar schizophren...  ...    8\n",
              "\n",
              "[756 rows x 4 columns]"
            ]
          },
          "metadata": {
            "tags": []
          },
          "execution_count": 107
        }
      ]
    },
    {
      "cell_type": "code",
      "metadata": {
        "colab": {
          "base_uri": "https://localhost:8080/",
          "height": 414
        },
        "id": "FGUghWhICs8r",
        "outputId": "92f029c1-4af4-4b18-cc5e-66ce0ef61358"
      },
      "source": [
        "# Removing punctuation\n",
        "df['tweet'] = df['tweet'].str.replace(r'[^\\w\\s]+', '')\n",
        "df"
      ],
      "execution_count": null,
      "outputs": [
        {
          "output_type": "execute_result",
          "data": {
            "text/html": [
              "<div>\n",
              "<style scoped>\n",
              "    .dataframe tbody tr th:only-of-type {\n",
              "        vertical-align: middle;\n",
              "    }\n",
              "\n",
              "    .dataframe tbody tr th {\n",
              "        vertical-align: top;\n",
              "    }\n",
              "\n",
              "    .dataframe thead th {\n",
              "        text-align: right;\n",
              "    }\n",
              "</style>\n",
              "<table border=\"1\" class=\"dataframe\">\n",
              "  <thead>\n",
              "    <tr style=\"text-align: right;\">\n",
              "      <th></th>\n",
              "      <th>tweet</th>\n",
              "      <th>location</th>\n",
              "      <th>disorder</th>\n",
              "      <th>hour</th>\n",
              "    </tr>\n",
              "  </thead>\n",
              "  <tbody>\n",
              "    <tr>\n",
              "      <th>0</th>\n",
              "      <td>shock as a young man climbs on top of a hospit...</td>\n",
              "      <td>nairobi, kenya</td>\n",
              "      <td>4</td>\n",
              "      <td>10</td>\n",
              "    </tr>\n",
              "    <tr>\n",
              "      <th>1</th>\n",
              "      <td>people tend to hide depression under drinking ...</td>\n",
              "      <td>nairobi, kenya</td>\n",
              "      <td>4</td>\n",
              "      <td>10</td>\n",
              "    </tr>\n",
              "    <tr>\n",
              "      <th>2</th>\n",
              "      <td>lily_nganga depression</td>\n",
              "      <td>nairobi</td>\n",
              "      <td>4</td>\n",
              "      <td>9</td>\n",
              "    </tr>\n",
              "    <tr>\n",
              "      <th>3</th>\n",
              "      <td>itumbi has subjected bloggers in to depression...</td>\n",
              "      <td>nairobi, kenya</td>\n",
              "      <td>4</td>\n",
              "      <td>8</td>\n",
              "    </tr>\n",
              "    <tr>\n",
              "      <th>4</th>\n",
              "      <td>mental health isnt just anxiety amp depression...</td>\n",
              "      <td>nairobi, kenya</td>\n",
              "      <td>4</td>\n",
              "      <td>8</td>\n",
              "    </tr>\n",
              "    <tr>\n",
              "      <th>...</th>\n",
              "      <td>...</td>\n",
              "      <td>...</td>\n",
              "      <td>...</td>\n",
              "      <td>...</td>\n",
              "    </tr>\n",
              "    <tr>\n",
              "      <th>751</th>\n",
              "      <td>adenya_e we have the arctic and antarctic safe...</td>\n",
              "      <td>nairobi, kenya</td>\n",
              "      <td>2</td>\n",
              "      <td>12</td>\n",
              "    </tr>\n",
              "    <tr>\n",
              "      <th>752</th>\n",
              "      <td>weather is very bipolar</td>\n",
              "      <td>nairobi, kenya</td>\n",
              "      <td>2</td>\n",
              "      <td>12</td>\n",
              "    </tr>\n",
              "    <tr>\n",
              "      <th>753</th>\n",
              "      <td>elenanjeru yvonnegach shikoohz it is possible ...</td>\n",
              "      <td>nairobi</td>\n",
              "      <td>2</td>\n",
              "      <td>3</td>\n",
              "    </tr>\n",
              "    <tr>\n",
              "      <th>754</th>\n",
              "      <td>icymi living with bipolar disorder  unscripted...</td>\n",
              "      <td>nairobi</td>\n",
              "      <td>2</td>\n",
              "      <td>13</td>\n",
              "    </tr>\n",
              "    <tr>\n",
              "      <th>755</th>\n",
              "      <td>my mom was diagnosed with bipolar schizophreni...</td>\n",
              "      <td>nairobi, kenya</td>\n",
              "      <td>2</td>\n",
              "      <td>8</td>\n",
              "    </tr>\n",
              "  </tbody>\n",
              "</table>\n",
              "<p>756 rows × 4 columns</p>\n",
              "</div>"
            ],
            "text/plain": [
              "                                                 tweet  ... hour\n",
              "0    shock as a young man climbs on top of a hospit...  ...   10\n",
              "1    people tend to hide depression under drinking ...  ...   10\n",
              "2                               lily_nganga depression  ...    9\n",
              "3    itumbi has subjected bloggers in to depression...  ...    8\n",
              "4    mental health isnt just anxiety amp depression...  ...    8\n",
              "..                                                 ...  ...  ...\n",
              "751  adenya_e we have the arctic and antarctic safe...  ...   12\n",
              "752                            weather is very bipolar  ...   12\n",
              "753  elenanjeru yvonnegach shikoohz it is possible ...  ...    3\n",
              "754  icymi living with bipolar disorder  unscripted...  ...   13\n",
              "755  my mom was diagnosed with bipolar schizophreni...  ...    8\n",
              "\n",
              "[756 rows x 4 columns]"
            ]
          },
          "metadata": {
            "tags": []
          },
          "execution_count": 108
        }
      ]
    },
    {
      "cell_type": "code",
      "metadata": {
        "colab": {
          "base_uri": "https://localhost:8080/",
          "height": 447
        },
        "id": "S7Aly4qKC0gk",
        "outputId": "51df898c-0358-4c38-b076-2733c91a3d9f"
      },
      "source": [
        "# Creating the list of stopwords from our dataset\n",
        "from nltk.corpus import stopwords\n",
        "nltk.download('stopwords')\n",
        "stop = stopwords.words('english')\n",
        "\n",
        "# Adding extra stopwords that we have observed in our data\n",
        "stop.extend(['https', 'si', 'ni', 'co'])\n",
        "\n",
        "# Removing stop words\n",
        "df[\"clean_tweet\"] = df[\"tweet\"].str.lower().str.split()\n",
        "df['clean_tweet'] = df['clean_tweet'].apply(lambda x: [item for item in x if item not in stop])\n",
        "df"
      ],
      "execution_count": null,
      "outputs": [
        {
          "output_type": "stream",
          "text": [
            "[nltk_data] Downloading package stopwords to /root/nltk_data...\n",
            "[nltk_data]   Package stopwords is already up-to-date!\n"
          ],
          "name": "stdout"
        },
        {
          "output_type": "execute_result",
          "data": {
            "text/html": [
              "<div>\n",
              "<style scoped>\n",
              "    .dataframe tbody tr th:only-of-type {\n",
              "        vertical-align: middle;\n",
              "    }\n",
              "\n",
              "    .dataframe tbody tr th {\n",
              "        vertical-align: top;\n",
              "    }\n",
              "\n",
              "    .dataframe thead th {\n",
              "        text-align: right;\n",
              "    }\n",
              "</style>\n",
              "<table border=\"1\" class=\"dataframe\">\n",
              "  <thead>\n",
              "    <tr style=\"text-align: right;\">\n",
              "      <th></th>\n",
              "      <th>tweet</th>\n",
              "      <th>location</th>\n",
              "      <th>disorder</th>\n",
              "      <th>hour</th>\n",
              "      <th>clean_tweet</th>\n",
              "    </tr>\n",
              "  </thead>\n",
              "  <tbody>\n",
              "    <tr>\n",
              "      <th>0</th>\n",
              "      <td>shock as a young man climbs on top of a hospit...</td>\n",
              "      <td>nairobi, kenya</td>\n",
              "      <td>4</td>\n",
              "      <td>10</td>\n",
              "      <td>[shock, young, man, climbs, top, hospital, bui...</td>\n",
              "    </tr>\n",
              "    <tr>\n",
              "      <th>1</th>\n",
              "      <td>people tend to hide depression under drinking ...</td>\n",
              "      <td>nairobi, kenya</td>\n",
              "      <td>4</td>\n",
              "      <td>10</td>\n",
              "      <td>[people, tend, hide, depression, drinking, dru...</td>\n",
              "    </tr>\n",
              "    <tr>\n",
              "      <th>2</th>\n",
              "      <td>lily_nganga depression</td>\n",
              "      <td>nairobi</td>\n",
              "      <td>4</td>\n",
              "      <td>9</td>\n",
              "      <td>[lily_nganga, depression]</td>\n",
              "    </tr>\n",
              "    <tr>\n",
              "      <th>3</th>\n",
              "      <td>itumbi has subjected bloggers in to depression...</td>\n",
              "      <td>nairobi, kenya</td>\n",
              "      <td>4</td>\n",
              "      <td>8</td>\n",
              "      <td>[itumbi, subjected, bloggers, depression, ough...</td>\n",
              "    </tr>\n",
              "    <tr>\n",
              "      <th>4</th>\n",
              "      <td>mental health isnt just anxiety amp depression...</td>\n",
              "      <td>nairobi, kenya</td>\n",
              "      <td>4</td>\n",
              "      <td>8</td>\n",
              "      <td>[mental, health, isnt, anxiety, amp, depressio...</td>\n",
              "    </tr>\n",
              "    <tr>\n",
              "      <th>...</th>\n",
              "      <td>...</td>\n",
              "      <td>...</td>\n",
              "      <td>...</td>\n",
              "      <td>...</td>\n",
              "      <td>...</td>\n",
              "    </tr>\n",
              "    <tr>\n",
              "      <th>751</th>\n",
              "      <td>adenya_e we have the arctic and antarctic safe...</td>\n",
              "      <td>nairobi, kenya</td>\n",
              "      <td>2</td>\n",
              "      <td>12</td>\n",
              "      <td>[adenya_e, arctic, antarctic, safe, say, weath...</td>\n",
              "    </tr>\n",
              "    <tr>\n",
              "      <th>752</th>\n",
              "      <td>weather is very bipolar</td>\n",
              "      <td>nairobi, kenya</td>\n",
              "      <td>2</td>\n",
              "      <td>12</td>\n",
              "      <td>[weather, bipolar]</td>\n",
              "    </tr>\n",
              "    <tr>\n",
              "      <th>753</th>\n",
              "      <td>elenanjeru yvonnegach shikoohz it is possible ...</td>\n",
              "      <td>nairobi</td>\n",
              "      <td>2</td>\n",
              "      <td>3</td>\n",
              "      <td>[elenanjeru, yvonnegach, shikoohz, possible, s...</td>\n",
              "    </tr>\n",
              "    <tr>\n",
              "      <th>754</th>\n",
              "      <td>icymi living with bipolar disorder  unscripted...</td>\n",
              "      <td>nairobi</td>\n",
              "      <td>2</td>\n",
              "      <td>13</td>\n",
              "      <td>[icymi, living, bipolar, disorder, unscriptedw...</td>\n",
              "    </tr>\n",
              "    <tr>\n",
              "      <th>755</th>\n",
              "      <td>my mom was diagnosed with bipolar schizophreni...</td>\n",
              "      <td>nairobi, kenya</td>\n",
              "      <td>2</td>\n",
              "      <td>8</td>\n",
              "      <td>[mom, diagnosed, bipolar, schizophrenia, didnt...</td>\n",
              "    </tr>\n",
              "  </tbody>\n",
              "</table>\n",
              "<p>756 rows × 5 columns</p>\n",
              "</div>"
            ],
            "text/plain": [
              "                                                 tweet  ...                                        clean_tweet\n",
              "0    shock as a young man climbs on top of a hospit...  ...  [shock, young, man, climbs, top, hospital, bui...\n",
              "1    people tend to hide depression under drinking ...  ...  [people, tend, hide, depression, drinking, dru...\n",
              "2                               lily_nganga depression  ...                          [lily_nganga, depression]\n",
              "3    itumbi has subjected bloggers in to depression...  ...  [itumbi, subjected, bloggers, depression, ough...\n",
              "4    mental health isnt just anxiety amp depression...  ...  [mental, health, isnt, anxiety, amp, depressio...\n",
              "..                                                 ...  ...                                                ...\n",
              "751  adenya_e we have the arctic and antarctic safe...  ...  [adenya_e, arctic, antarctic, safe, say, weath...\n",
              "752                            weather is very bipolar  ...                                 [weather, bipolar]\n",
              "753  elenanjeru yvonnegach shikoohz it is possible ...  ...  [elenanjeru, yvonnegach, shikoohz, possible, s...\n",
              "754  icymi living with bipolar disorder  unscripted...  ...  [icymi, living, bipolar, disorder, unscriptedw...\n",
              "755  my mom was diagnosed with bipolar schizophreni...  ...  [mom, diagnosed, bipolar, schizophrenia, didnt...\n",
              "\n",
              "[756 rows x 5 columns]"
            ]
          },
          "metadata": {
            "tags": []
          },
          "execution_count": 110
        }
      ]
    },
    {
      "cell_type": "code",
      "metadata": {
        "id": "nrulpDzKFJmx"
      },
      "source": [
        "# Lemmatizing our dataset\n",
        "# Initialize the lemmatizer\n",
        "wl = WordNetLemmatizer()"
      ],
      "execution_count": null,
      "outputs": []
    },
    {
      "cell_type": "code",
      "metadata": {
        "id": "0nuooSoiFTAe"
      },
      "source": [
        "# Dealing with Position tags\n",
        "# This is a helper function to map NTLK position tags\n",
        "def get_wordnet_pos(tag):\n",
        "    if tag.startswith('J'):\n",
        "        return wordnet.ADJ\n",
        "    elif tag.startswith('V'):\n",
        "        return wordnet.VERB\n",
        "    elif tag.startswith('N'):\n",
        "        return wordnet.NOUN\n",
        "    elif tag.startswith('R'):\n",
        "        return wordnet.ADV\n",
        "    else:\n",
        "        return wordnet.NOUN\n",
        "\n",
        "# Tokenize the sentence\n",
        "def lemmatizer(string):\n",
        "    word_pos_tags = nltk.pos_tag(word_tokenize(string)) # Get position tags\n",
        "    a=[wl.lemmatize(tag[0], get_wordnet_pos(tag[1])) for idx, tag in enumerate(word_pos_tags)] # Map the position tag and lemmatize the word/token\n",
        "    return \" \".join(a)"
      ],
      "execution_count": null,
      "outputs": []
    },
    {
      "cell_type": "code",
      "metadata": {
        "id": "juNupzXnnN-M"
      },
      "source": [
        "# Creating a copy of our dataset\n",
        "df1 = df.copy(deep=True)\n",
        "df1.head()"
      ],
      "execution_count": null,
      "outputs": []
    },
    {
      "cell_type": "code",
      "metadata": {
        "id": "hQd_SO2bHlJW"
      },
      "source": [
        "# Creating a .CSV file with our cleaned dataset\n",
        "df.to_csv('MentalHealth.csv')"
      ],
      "execution_count": null,
      "outputs": []
    }
  ]
}