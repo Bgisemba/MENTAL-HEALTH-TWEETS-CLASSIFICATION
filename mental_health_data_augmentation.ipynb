{
  "nbformat": 4,
  "nbformat_minor": 0,
  "metadata": {
    "colab": {
      "name": "mental_health_data_augmentation.ipynb",
      "provenance": [],
      "collapsed_sections": [],
      "include_colab_link": true
    },
    "kernelspec": {
      "name": "python3",
      "display_name": "Python 3"
    },
    "language_info": {
      "name": "python"
    }
  },
  "cells": [
    {
      "cell_type": "markdown",
      "metadata": {
        "id": "view-in-github",
        "colab_type": "text"
      },
      "source": [
        "<a href=\"https://colab.research.google.com/github/BrianGisemba/MENTAL-HEALTH-TWEETS-CLASSIFICATION/blob/data-augmentation/mental_health_data_augmentation.ipynb\" target=\"_parent\"><img src=\"https://colab.research.google.com/assets/colab-badge.svg\" alt=\"Open In Colab\"/></a>"
      ]
    },
    {
      "cell_type": "markdown",
      "metadata": {
        "id": "IoSyFw9UW2Ib"
      },
      "source": [
        "#### Overview\n",
        "\n",
        "Data augmentation in data analysis are techniques used to increase the amount of data by adding slightly modified copies of already existing data or newly created synthetic data from existing data. It acts as a regularizer and helps reduce overfitting when training a machine learning model.\n",
        "\n",
        "Data Augmentation techniques in NLP show substantial improvements on datasets with less than 500 observations. We will perform Easy Data Augmentation on the mental health dataset."
      ]
    },
    {
      "cell_type": "code",
      "metadata": {
        "id": "PdEol8k2INmT"
      },
      "source": [
        "# Load the libraries needed \n",
        "import pandas as pd\n",
        "import numpy as np\n",
        "import matplotlib.pyplot as plt\n",
        "import seaborn as sns\n"
      ],
      "execution_count": 1,
      "outputs": []
    },
    {
      "cell_type": "markdown",
      "metadata": {
        "id": "8-g4SUPxroc1"
      },
      "source": [
        "#### Loading the Data"
      ]
    },
    {
      "cell_type": "code",
      "metadata": {
        "id": "FJv4_h8BtxMK",
        "colab": {
          "base_uri": "https://localhost:8080/",
          "height": 475
        },
        "outputId": "4ee645ce-c76c-4c2a-ecea-2b3a2b66e475"
      },
      "source": [
        "mental_df = pd.read_csv('mental_health.csv')\n",
        "mental_df.head()"
      ],
      "execution_count": 37,
      "outputs": [
        {
          "output_type": "execute_result",
          "data": {
            "text/html": [
              "<div>\n",
              "<style scoped>\n",
              "    .dataframe tbody tr th:only-of-type {\n",
              "        vertical-align: middle;\n",
              "    }\n",
              "\n",
              "    .dataframe tbody tr th {\n",
              "        vertical-align: top;\n",
              "    }\n",
              "\n",
              "    .dataframe thead th {\n",
              "        text-align: right;\n",
              "    }\n",
              "</style>\n",
              "<table border=\"1\" class=\"dataframe\">\n",
              "  <thead>\n",
              "    <tr style=\"text-align: right;\">\n",
              "      <th></th>\n",
              "      <th>Unnamed: 0</th>\n",
              "      <th>Unnamed: 0.1</th>\n",
              "      <th>user</th>\n",
              "      <th>tweet</th>\n",
              "      <th>location</th>\n",
              "      <th>description</th>\n",
              "      <th>friends_count</th>\n",
              "      <th>followers_count</th>\n",
              "      <th>statuses_count</th>\n",
              "      <th>created_at</th>\n",
              "      <th>retweet_count</th>\n",
              "      <th>hashtags</th>\n",
              "      <th>disorder</th>\n",
              "    </tr>\n",
              "  </thead>\n",
              "  <tbody>\n",
              "    <tr>\n",
              "      <th>0</th>\n",
              "      <td>0</td>\n",
              "      <td>0</td>\n",
              "      <td>TheKenyanPost</td>\n",
              "      <td>SHOCK as a young man climbs on top of a hospit...</td>\n",
              "      <td>Nairobi, Kenya</td>\n",
              "      <td>News, Politics, Entertainment, Gossip, Feature...</td>\n",
              "      <td>434</td>\n",
              "      <td>52951</td>\n",
              "      <td>356584</td>\n",
              "      <td>2021-08-17 10:33:55</td>\n",
              "      <td>0</td>\n",
              "      <td>[]</td>\n",
              "      <td>depression</td>\n",
              "    </tr>\n",
              "    <tr>\n",
              "      <th>1</th>\n",
              "      <td>1</td>\n",
              "      <td>1</td>\n",
              "      <td>Goodguy_254</td>\n",
              "      <td>People tend to hide depression under drinking ...</td>\n",
              "      <td>Nairobi, Kenya</td>\n",
              "      <td>poet\\n writer🧾\\nsoftware developer🖥️\\n program...</td>\n",
              "      <td>2074</td>\n",
              "      <td>2257</td>\n",
              "      <td>1284</td>\n",
              "      <td>2021-08-17 10:20:30</td>\n",
              "      <td>0</td>\n",
              "      <td>[]</td>\n",
              "      <td>depression</td>\n",
              "    </tr>\n",
              "    <tr>\n",
              "      <th>2</th>\n",
              "      <td>2</td>\n",
              "      <td>2</td>\n",
              "      <td>AlfredLete</td>\n",
              "      <td>@Lily_nganga Depression</td>\n",
              "      <td>Nairobi</td>\n",
              "      <td>do what is right,not what is easy</td>\n",
              "      <td>8515</td>\n",
              "      <td>13075</td>\n",
              "      <td>37974</td>\n",
              "      <td>2021-08-17 09:32:49</td>\n",
              "      <td>0</td>\n",
              "      <td>[]</td>\n",
              "      <td>depression</td>\n",
              "    </tr>\n",
              "    <tr>\n",
              "      <th>3</th>\n",
              "      <td>3</td>\n",
              "      <td>3</td>\n",
              "      <td>GeraldNgaoPk7</td>\n",
              "      <td>Itumbi has subjected bloggers in to depression...</td>\n",
              "      <td>Nairobi, Kenya</td>\n",
              "      <td>Pan-Africanist||NeoMarxistRevolutionary||Inter...</td>\n",
              "      <td>21503</td>\n",
              "      <td>20437</td>\n",
              "      <td>164694</td>\n",
              "      <td>2021-08-17 08:56:26</td>\n",
              "      <td>2</td>\n",
              "      <td>[{'text': 'ItumbiGhostWorkers', 'indices': [77...</td>\n",
              "      <td>depression</td>\n",
              "    </tr>\n",
              "    <tr>\n",
              "      <th>4</th>\n",
              "      <td>4</td>\n",
              "      <td>4</td>\n",
              "      <td>swyma304</td>\n",
              "      <td>Mental health isn’t just anxiety &amp;amp; depress...</td>\n",
              "      <td>Nairobi, Kenya</td>\n",
              "      <td>Psychiatry Resident. Certified Cognitive Behav...</td>\n",
              "      <td>93</td>\n",
              "      <td>206</td>\n",
              "      <td>594</td>\n",
              "      <td>2021-08-17 08:18:20</td>\n",
              "      <td>1</td>\n",
              "      <td>[]</td>\n",
              "      <td>depression</td>\n",
              "    </tr>\n",
              "  </tbody>\n",
              "</table>\n",
              "</div>"
            ],
            "text/plain": [
              "   Unnamed: 0  ...    disorder\n",
              "0           0  ...  depression\n",
              "1           1  ...  depression\n",
              "2           2  ...  depression\n",
              "3           3  ...  depression\n",
              "4           4  ...  depression\n",
              "\n",
              "[5 rows x 13 columns]"
            ]
          },
          "metadata": {
            "tags": []
          },
          "execution_count": 37
        }
      ]
    },
    {
      "cell_type": "markdown",
      "metadata": {
        "id": "RxAzmwfaIHpj"
      },
      "source": [
        "#### Previewing the Data"
      ]
    },
    {
      "cell_type": "code",
      "metadata": {
        "colab": {
          "base_uri": "https://localhost:8080/"
        },
        "id": "xP881eSuM5ra",
        "outputId": "83d80602-5772-49d2-904f-a9fab40012f7"
      },
      "source": [
        "# Exploring the data \n",
        "mental_df.shape"
      ],
      "execution_count": 38,
      "outputs": [
        {
          "output_type": "execute_result",
          "data": {
            "text/plain": [
              "(756, 13)"
            ]
          },
          "metadata": {
            "tags": []
          },
          "execution_count": 38
        }
      ]
    },
    {
      "cell_type": "code",
      "metadata": {
        "colab": {
          "base_uri": "https://localhost:8080/"
        },
        "id": "hmZmdMJkIEag",
        "outputId": "66b1e62a-5cd7-4199-c23d-d3dde50c6c30"
      },
      "source": [
        "# loooking for duplicates ?\n",
        "mental_df.duplicated().sum()"
      ],
      "execution_count": 39,
      "outputs": [
        {
          "output_type": "execute_result",
          "data": {
            "text/plain": [
              "0"
            ]
          },
          "metadata": {
            "tags": []
          },
          "execution_count": 39
        }
      ]
    },
    {
      "cell_type": "markdown",
      "metadata": {
        "id": "SwHh4WN4Ikat"
      },
      "source": [
        "There are no duplicates in the Tweets. "
      ]
    },
    {
      "cell_type": "code",
      "metadata": {
        "colab": {
          "base_uri": "https://localhost:8080/"
        },
        "id": "lhcdTBqvIkKC",
        "outputId": "e2fbacd5-8136-48cd-9221-3c656f97b2fc"
      },
      "source": [
        "# Checking for null values\n",
        "mental_df.isna().sum()"
      ],
      "execution_count": 40,
      "outputs": [
        {
          "output_type": "execute_result",
          "data": {
            "text/plain": [
              "Unnamed: 0          0\n",
              "Unnamed: 0.1        0\n",
              "user                0\n",
              "tweet               0\n",
              "location            3\n",
              "description        28\n",
              "friends_count       0\n",
              "followers_count     0\n",
              "statuses_count      0\n",
              "created_at          0\n",
              "retweet_count       0\n",
              "hashtags            0\n",
              "disorder            0\n",
              "dtype: int64"
            ]
          },
          "metadata": {
            "tags": []
          },
          "execution_count": 40
        }
      ]
    },
    {
      "cell_type": "code",
      "metadata": {
        "id": "geEdAJ0EIizl"
      },
      "source": [
        "# dealing with missing data.\n",
        "mental_df.drop(['description', 'Unnamed: 0.1', 'Unnamed: 0'], 1 , inplace= True)"
      ],
      "execution_count": 41,
      "outputs": []
    },
    {
      "cell_type": "code",
      "metadata": {
        "colab": {
          "base_uri": "https://localhost:8080/"
        },
        "id": "H8kUPRFiI_HX",
        "outputId": "a829f643-fc07-42f1-dee0-ba3b3e6a86cf"
      },
      "source": [
        "# Droping all irrelevant collumns\n",
        "droplist = ['location', 'friends_count', 'user',\n",
        "       'followers_count', 'statuses_count', 'retweet_count',\n",
        "       'hashtags']\n",
        "mental_df.drop(droplist, axis=1, inplace=True)\n",
        "mental_df.columns"
      ],
      "execution_count": 42,
      "outputs": [
        {
          "output_type": "execute_result",
          "data": {
            "text/plain": [
              "Index(['tweet', 'created_at', 'disorder'], dtype='object')"
            ]
          },
          "metadata": {
            "tags": []
          },
          "execution_count": 42
        }
      ]
    },
    {
      "cell_type": "code",
      "metadata": {
        "colab": {
          "base_uri": "https://localhost:8080/"
        },
        "id": "62P5uMPZJhNu",
        "outputId": "23ce27dd-31ac-40e5-b31e-c9574efcddee"
      },
      "source": [
        "# Checking the data types of the columns\n",
        "\n",
        "mental_df.dtypes"
      ],
      "execution_count": 43,
      "outputs": [
        {
          "output_type": "execute_result",
          "data": {
            "text/plain": [
              "tweet         object\n",
              "created_at    object\n",
              "disorder      object\n",
              "dtype: object"
            ]
          },
          "metadata": {
            "tags": []
          },
          "execution_count": 43
        }
      ]
    },
    {
      "cell_type": "code",
      "metadata": {
        "colab": {
          "base_uri": "https://localhost:8080/"
        },
        "id": "d5_JHXXwKRr4",
        "outputId": "ea07191a-279c-4ede-9eb8-c13c904027ee"
      },
      "source": [
        "# Changing the created_at column into time and date\n",
        "mental_df.created_at = pd.to_datetime(mental_df.created_at)\n",
        "mental_df.dtypes"
      ],
      "execution_count": 45,
      "outputs": [
        {
          "output_type": "execute_result",
          "data": {
            "text/plain": [
              "tweet                 object\n",
              "created_at    datetime64[ns]\n",
              "disorder              object\n",
              "dtype: object"
            ]
          },
          "metadata": {
            "tags": []
          },
          "execution_count": 45
        }
      ]
    },
    {
      "cell_type": "markdown",
      "metadata": {
        "id": "Xy7hVDTzNR1r"
      },
      "source": [
        "# Data Preprocessing"
      ]
    },
    {
      "cell_type": "code",
      "metadata": {
        "colab": {
          "base_uri": "https://localhost:8080/",
          "height": 595
        },
        "id": "AH2yqAUOMVb0",
        "outputId": "b891ad92-e1b4-4df8-87af-7fdf207b8bbf"
      },
      "source": [
        "x=mental_df['disorder'].value_counts()\n",
        "print(x)\n",
        "plt.figure(figsize = (8,6))\n",
        "plt.title('Mental Health Disorders by Popularity ')\n",
        "# plt.xlabel( rotate = 45)\n",
        "sns.barplot(x.index, x);\n"
      ],
      "execution_count": 46,
      "outputs": [
        {
          "output_type": "stream",
          "text": [
            "depression       353\n",
            "anxiety          278\n",
            "suicidal          59\n",
            "bipolar           17\n",
            "austim            14\n",
            "schizophrenia     14\n",
            "dementia          12\n",
            "paranoia           9\n",
            "Name: disorder, dtype: int64\n"
          ],
          "name": "stdout"
        },
        {
          "output_type": "stream",
          "text": [
            "/usr/local/lib/python3.7/dist-packages/seaborn/_decorators.py:43: FutureWarning: Pass the following variables as keyword args: x, y. From version 0.12, the only valid positional argument will be `data`, and passing other arguments without an explicit keyword will result in an error or misinterpretation.\n",
            "  FutureWarning\n"
          ],
          "name": "stderr"
        },
        {
          "output_type": "display_data",
          "data": {
            "image/png": "[encoded data removed]",
            "text/plain": [
              "<Figure size 576x432 with 1 Axes>"
            ]
          },
          "metadata": {
            "tags": [],
            "needs_background": "light"
          }
        }
      ]
    },
    {
      "cell_type": "code",
      "metadata": {
        "colab": {
          "base_uri": "https://localhost:8080/"
        },
        "id": "U_zYDkj_m7Hj",
        "outputId": "2eeae5bb-c42b-409e-fd24-5c9ed92c4c1e"
      },
      "source": [
        "mental_df['disorder'].unique()"
      ],
      "execution_count": 47,
      "outputs": [
        {
          "output_type": "execute_result",
          "data": {
            "text/plain": [
              "array(['depression', 'anxiety', 'paranoia', 'schizophrenia', 'suicidal',\n",
              "       'dementia', 'bipolar', 'austim'], dtype=object)"
            ]
          },
          "metadata": {
            "tags": []
          },
          "execution_count": 47
        }
      ]
    },
    {
      "cell_type": "markdown",
      "metadata": {
        "id": "CWTA2pHjN5AN"
      },
      "source": [
        "According to the hashtags the main mental health issues that kenyans are tweeting about are \n",
        "- Depression \n",
        "- Anxiety \n",
        "- Paranoia\n",
        "- Schizophrenia\n",
        "- Suicidal\n",
        "- Dementia  \n",
        "- Bipolar  \n",
        "- Autism "
      ]
    },
    {
      "cell_type": "code",
      "metadata": {
        "colab": {
          "base_uri": "https://localhost:8080/",
          "height": 203
        },
        "id": "AXgTtsM6PvQa",
        "outputId": "15d0fbb8-e8d2-4e9c-d136-33fd8b18ed9a"
      },
      "source": [
        "mental_df['year'] = mental_df['created_at'].dt.year\n",
        "mental_df['month'] = mental_df['created_at'].dt.month\n",
        "mental_df.head()"
      ],
      "execution_count": 48,
      "outputs": [
        {
          "output_type": "execute_result",
          "data": {
            "text/html": [
              "<div>\n",
              "<style scoped>\n",
              "    .dataframe tbody tr th:only-of-type {\n",
              "        vertical-align: middle;\n",
              "    }\n",
              "\n",
              "    .dataframe tbody tr th {\n",
              "        vertical-align: top;\n",
              "    }\n",
              "\n",
              "    .dataframe thead th {\n",
              "        text-align: right;\n",
              "    }\n",
              "</style>\n",
              "<table border=\"1\" class=\"dataframe\">\n",
              "  <thead>\n",
              "    <tr style=\"text-align: right;\">\n",
              "      <th></th>\n",
              "      <th>tweet</th>\n",
              "      <th>created_at</th>\n",
              "      <th>disorder</th>\n",
              "      <th>year</th>\n",
              "      <th>month</th>\n",
              "    </tr>\n",
              "  </thead>\n",
              "  <tbody>\n",
              "    <tr>\n",
              "      <th>0</th>\n",
              "      <td>SHOCK as a young man climbs on top of a hospit...</td>\n",
              "      <td>2021-08-17 10:33:55</td>\n",
              "      <td>depression</td>\n",
              "      <td>2021</td>\n",
              "      <td>8</td>\n",
              "    </tr>\n",
              "    <tr>\n",
              "      <th>1</th>\n",
              "      <td>People tend to hide depression under drinking ...</td>\n",
              "      <td>2021-08-17 10:20:30</td>\n",
              "      <td>depression</td>\n",
              "      <td>2021</td>\n",
              "      <td>8</td>\n",
              "    </tr>\n",
              "    <tr>\n",
              "      <th>2</th>\n",
              "      <td>@Lily_nganga Depression</td>\n",
              "      <td>2021-08-17 09:32:49</td>\n",
              "      <td>depression</td>\n",
              "      <td>2021</td>\n",
              "      <td>8</td>\n",
              "    </tr>\n",
              "    <tr>\n",
              "      <th>3</th>\n",
              "      <td>Itumbi has subjected bloggers in to depression...</td>\n",
              "      <td>2021-08-17 08:56:26</td>\n",
              "      <td>depression</td>\n",
              "      <td>2021</td>\n",
              "      <td>8</td>\n",
              "    </tr>\n",
              "    <tr>\n",
              "      <th>4</th>\n",
              "      <td>Mental health isn’t just anxiety &amp;amp; depress...</td>\n",
              "      <td>2021-08-17 08:18:20</td>\n",
              "      <td>depression</td>\n",
              "      <td>2021</td>\n",
              "      <td>8</td>\n",
              "    </tr>\n",
              "  </tbody>\n",
              "</table>\n",
              "</div>"
            ],
            "text/plain": [
              "                                               tweet  ... month\n",
              "0  SHOCK as a young man climbs on top of a hospit...  ...     8\n",
              "1  People tend to hide depression under drinking ...  ...     8\n",
              "2                            @Lily_nganga Depression  ...     8\n",
              "3  Itumbi has subjected bloggers in to depression...  ...     8\n",
              "4  Mental health isn’t just anxiety &amp; depress...  ...     8\n",
              "\n",
              "[5 rows x 5 columns]"
            ]
          },
          "metadata": {
            "tags": []
          },
          "execution_count": 48
        }
      ]
    },
    {
      "cell_type": "code",
      "metadata": {
        "colab": {
          "base_uri": "https://localhost:8080/"
        },
        "id": "IX6Hfmb2agIl",
        "outputId": "19a2fb8a-b9f4-496f-deb6-fca40965dabf"
      },
      "source": [
        "# Checking the number of disorders per year\n",
        "mental_df.year.astype('category').value_counts()\n"
      ],
      "execution_count": 49,
      "outputs": [
        {
          "output_type": "execute_result",
          "data": {
            "text/plain": [
              "2021    756\n",
              "Name: year, dtype: int64"
            ]
          },
          "metadata": {
            "tags": []
          },
          "execution_count": 49
        }
      ]
    },
    {
      "cell_type": "code",
      "metadata": {
        "colab": {
          "base_uri": "https://localhost:8080/",
          "height": 203
        },
        "id": "UqfQejaHRsYq",
        "outputId": "5ffce86f-8531-4e71-e549-a4c681ef3f54"
      },
      "source": [
        "# We need to remove some unnecessary column that will not help with classification. \n",
        "unnecessary = ['created_at', 'year', 'month']\n",
        "mental_df.drop(unnecessary, axis=1, inplace=True)\n",
        "mental_df.head()"
      ],
      "execution_count": 51,
      "outputs": [
        {
          "output_type": "execute_result",
          "data": {
            "text/html": [
              "<div>\n",
              "<style scoped>\n",
              "    .dataframe tbody tr th:only-of-type {\n",
              "        vertical-align: middle;\n",
              "    }\n",
              "\n",
              "    .dataframe tbody tr th {\n",
              "        vertical-align: top;\n",
              "    }\n",
              "\n",
              "    .dataframe thead th {\n",
              "        text-align: right;\n",
              "    }\n",
              "</style>\n",
              "<table border=\"1\" class=\"dataframe\">\n",
              "  <thead>\n",
              "    <tr style=\"text-align: right;\">\n",
              "      <th></th>\n",
              "      <th>tweet</th>\n",
              "      <th>disorder</th>\n",
              "    </tr>\n",
              "  </thead>\n",
              "  <tbody>\n",
              "    <tr>\n",
              "      <th>0</th>\n",
              "      <td>SHOCK as a young man climbs on top of a hospit...</td>\n",
              "      <td>depression</td>\n",
              "    </tr>\n",
              "    <tr>\n",
              "      <th>1</th>\n",
              "      <td>People tend to hide depression under drinking ...</td>\n",
              "      <td>depression</td>\n",
              "    </tr>\n",
              "    <tr>\n",
              "      <th>2</th>\n",
              "      <td>@Lily_nganga Depression</td>\n",
              "      <td>depression</td>\n",
              "    </tr>\n",
              "    <tr>\n",
              "      <th>3</th>\n",
              "      <td>Itumbi has subjected bloggers in to depression...</td>\n",
              "      <td>depression</td>\n",
              "    </tr>\n",
              "    <tr>\n",
              "      <th>4</th>\n",
              "      <td>Mental health isn’t just anxiety &amp;amp; depress...</td>\n",
              "      <td>depression</td>\n",
              "    </tr>\n",
              "  </tbody>\n",
              "</table>\n",
              "</div>"
            ],
            "text/plain": [
              "                                               tweet    disorder\n",
              "0  SHOCK as a young man climbs on top of a hospit...  depression\n",
              "1  People tend to hide depression under drinking ...  depression\n",
              "2                            @Lily_nganga Depression  depression\n",
              "3  Itumbi has subjected bloggers in to depression...  depression\n",
              "4  Mental health isn’t just anxiety &amp; depress...  depression"
            ]
          },
          "metadata": {
            "tags": []
          },
          "execution_count": 51
        }
      ]
    },
    {
      "cell_type": "code",
      "metadata": {
        "colab": {
          "base_uri": "https://localhost:8080/"
        },
        "id": "WZ796JT1Tbax",
        "outputId": "f48c1169-ff03-4911-ec0b-4634ff5af096"
      },
      "source": [
        "mental_df.disorder.value_counts()"
      ],
      "execution_count": 52,
      "outputs": [
        {
          "output_type": "execute_result",
          "data": {
            "text/plain": [
              "depression       353\n",
              "anxiety          278\n",
              "suicidal          59\n",
              "bipolar           17\n",
              "austim            14\n",
              "schizophrenia     14\n",
              "dementia          12\n",
              "paranoia           9\n",
              "Name: disorder, dtype: int64"
            ]
          },
          "metadata": {
            "tags": []
          },
          "execution_count": 52
        }
      ]
    },
    {
      "cell_type": "code",
      "metadata": {
        "colab": {
          "base_uri": "https://localhost:8080/",
          "height": 203
        },
        "id": "hIcklSetSVZY",
        "outputId": "0099fe46-3db0-4eaa-b5ab-3e73bddb26aa"
      },
      "source": [
        "# We need to labelEncode the data. \n",
        "from sklearn.preprocessing import LabelEncoder\n",
        "le = LabelEncoder()\n",
        "mental_df['disorder'] = le.fit_transform(mental_df.disorder)\n",
        "mental_df.sample (5)"
      ],
      "execution_count": 53,
      "outputs": [
        {
          "output_type": "execute_result",
          "data": {
            "text/html": [
              "<div>\n",
              "<style scoped>\n",
              "    .dataframe tbody tr th:only-of-type {\n",
              "        vertical-align: middle;\n",
              "    }\n",
              "\n",
              "    .dataframe tbody tr th {\n",
              "        vertical-align: top;\n",
              "    }\n",
              "\n",
              "    .dataframe thead th {\n",
              "        text-align: right;\n",
              "    }\n",
              "</style>\n",
              "<table border=\"1\" class=\"dataframe\">\n",
              "  <thead>\n",
              "    <tr style=\"text-align: right;\">\n",
              "      <th></th>\n",
              "      <th>tweet</th>\n",
              "      <th>disorder</th>\n",
              "    </tr>\n",
              "  </thead>\n",
              "  <tbody>\n",
              "    <tr>\n",
              "      <th>82</th>\n",
              "      <td>In USA you see names like Bush, Stone yet they...</td>\n",
              "      <td>4</td>\n",
              "    </tr>\n",
              "    <tr>\n",
              "      <th>281</th>\n",
              "      <td>\"The Skeleton of a habit alone upholds the hum...</td>\n",
              "      <td>4</td>\n",
              "    </tr>\n",
              "    <tr>\n",
              "      <th>690</th>\n",
              "      <td>@_fels1 Suicidal in my book</td>\n",
              "      <td>7</td>\n",
              "    </tr>\n",
              "    <tr>\n",
              "      <th>484</th>\n",
              "      <td>@Vince_Muema Knowing our next president will e...</td>\n",
              "      <td>0</td>\n",
              "    </tr>\n",
              "    <tr>\n",
              "      <th>106</th>\n",
              "      <td>@Arsenal just imagining 9 months of this and d...</td>\n",
              "      <td>4</td>\n",
              "    </tr>\n",
              "  </tbody>\n",
              "</table>\n",
              "</div>"
            ],
            "text/plain": [
              "                                                 tweet  disorder\n",
              "82   In USA you see names like Bush, Stone yet they...         4\n",
              "281  \"The Skeleton of a habit alone upholds the hum...         4\n",
              "690                        @_fels1 Suicidal in my book         7\n",
              "484  @Vince_Muema Knowing our next president will e...         0\n",
              "106  @Arsenal just imagining 9 months of this and d...         4"
            ]
          },
          "metadata": {
            "tags": []
          },
          "execution_count": 53
        }
      ]
    },
    {
      "cell_type": "code",
      "metadata": {
        "colab": {
          "base_uri": "https://localhost:8080/",
          "height": 110
        },
        "id": "4zNOtonUuwv4",
        "outputId": "fc3b6235-5b2c-40c0-da3f-da575c2d3346"
      },
      "source": [
        "mental_df.head(2)"
      ],
      "execution_count": 54,
      "outputs": [
        {
          "output_type": "execute_result",
          "data": {
            "text/html": [
              "<div>\n",
              "<style scoped>\n",
              "    .dataframe tbody tr th:only-of-type {\n",
              "        vertical-align: middle;\n",
              "    }\n",
              "\n",
              "    .dataframe tbody tr th {\n",
              "        vertical-align: top;\n",
              "    }\n",
              "\n",
              "    .dataframe thead th {\n",
              "        text-align: right;\n",
              "    }\n",
              "</style>\n",
              "<table border=\"1\" class=\"dataframe\">\n",
              "  <thead>\n",
              "    <tr style=\"text-align: right;\">\n",
              "      <th></th>\n",
              "      <th>tweet</th>\n",
              "      <th>disorder</th>\n",
              "    </tr>\n",
              "  </thead>\n",
              "  <tbody>\n",
              "    <tr>\n",
              "      <th>0</th>\n",
              "      <td>SHOCK as a young man climbs on top of a hospit...</td>\n",
              "      <td>4</td>\n",
              "    </tr>\n",
              "    <tr>\n",
              "      <th>1</th>\n",
              "      <td>People tend to hide depression under drinking ...</td>\n",
              "      <td>4</td>\n",
              "    </tr>\n",
              "  </tbody>\n",
              "</table>\n",
              "</div>"
            ],
            "text/plain": [
              "                                               tweet  disorder\n",
              "0  SHOCK as a young man climbs on top of a hospit...         4\n",
              "1  People tend to hide depression under drinking ...         4"
            ]
          },
          "metadata": {
            "tags": []
          },
          "execution_count": 54
        }
      ]
    },
    {
      "cell_type": "code",
      "metadata": {
        "colab": {
          "base_uri": "https://localhost:8080/"
        },
        "id": "BxrEUHcDDxsV",
        "outputId": "2b253238-6d97-4b83-9ab1-5ba99e44ec07"
      },
      "source": [
        "print(f\"Total number of tweets for augmenting is : {len(mental_df.tweet)}\")"
      ],
      "execution_count": 61,
      "outputs": [
        {
          "output_type": "stream",
          "text": [
            "Total number of tweets for augmenting is : 756\n"
          ],
          "name": "stdout"
        }
      ]
    },
    {
      "cell_type": "markdown",
      "metadata": {
        "id": "5CJYzpgfEK_f"
      },
      "source": [
        "We will perform Easy Data Augmentation using the below procedures:\n",
        "1. SR : Synonym Replacement\n",
        "2. RD : Random Deletion\n",
        "3. RS : Random Swap\n",
        "4. RI : Random Insertion"
      ]
    },
    {
      "cell_type": "markdown",
      "metadata": {
        "id": "QPkDi7hLEcoe"
      },
      "source": [
        "#### 1. SR : Synonym Replacement"
      ]
    },
    {
      "cell_type": "code",
      "metadata": {
        "id": "Ital-rcAEk4t"
      },
      "source": [
        "# create a function that will get the synonyms\n",
        "from nltk.corpus import wordnet\n",
        "\n",
        "def get_synonyms(word):\n",
        "  synonyms = set()\n",
        "\n",
        "  for syn in wordnet.synsets(word):\n",
        "    for l in syn.lemmas():\n",
        "      synonym = l.name().replace(\"_\", \" \").replace(\"-\", \" \").lower()\n",
        "      synonym = \"\".join([char for char in synonym if char in ' qwertyuiopasdfghjklzxcvbnm'])\n",
        "      synonyms.add(synonym) \n",
        "  if word in synonyms:\n",
        "    synonyms.remove(word)\n",
        "    \n",
        "  return list(synonyms)"
      ],
      "execution_count": 74,
      "outputs": []
    },
    {
      "cell_type": "markdown",
      "metadata": {
        "id": "m6TXslM7E_km"
      },
      "source": [
        "The get_synonyms funtion will return pre-processed list of synonyms of given word. Now we will replace the words with synonyms."
      ]
    },
    {
      "cell_type": "code",
      "metadata": {
        "colab": {
          "base_uri": "https://localhost:8080/"
        },
        "id": "ErKQFVH7FImd",
        "outputId": "c3a2aa4b-7b5f-4730-984e-0cc0409ad394"
      },
      "source": [
        "# Replacing the words with synonyms\n",
        "from nltk.corpus import stopwords\n",
        "\n",
        "import nltk\n",
        "nltk.download('stopwords')\n",
        "\n",
        "stop_words = []\n",
        "for w in stopwords.words('english'):\n",
        "  stop_words.append(w)\n",
        "\n",
        "print(stop_words)"
      ],
      "execution_count": 75,
      "outputs": [
        {
          "output_type": "stream",
          "text": [
            "[nltk_data] Downloading package stopwords to /root/nltk_data...\n",
            "[nltk_data]   Package stopwords is already up-to-date!\n",
            "['i', 'me', 'my', 'myself', 'we', 'our', 'ours', 'ourselves', 'you', \"you're\", \"you've\", \"you'll\", \"you'd\", 'your', 'yours', 'yourself', 'yourselves', 'he', 'him', 'his', 'himself', 'she', \"she's\", 'her', 'hers', 'herself', 'it', \"it's\", 'its', 'itself', 'they', 'them', 'their', 'theirs', 'themselves', 'what', 'which', 'who', 'whom', 'this', 'that', \"that'll\", 'these', 'those', 'am', 'is', 'are', 'was', 'were', 'be', 'been', 'being', 'have', 'has', 'had', 'having', 'do', 'does', 'did', 'doing', 'a', 'an', 'the', 'and', 'but', 'if', 'or', 'because', 'as', 'until', 'while', 'of', 'at', 'by', 'for', 'with', 'about', 'against', 'between', 'into', 'through', 'during', 'before', 'after', 'above', 'below', 'to', 'from', 'up', 'down', 'in', 'out', 'on', 'off', 'over', 'under', 'again', 'further', 'then', 'once', 'here', 'there', 'when', 'where', 'why', 'how', 'all', 'any', 'both', 'each', 'few', 'more', 'most', 'other', 'some', 'such', 'no', 'nor', 'not', 'only', 'own', 'same', 'so', 'than', 'too', 'very', 's', 't', 'can', 'will', 'just', 'don', \"don't\", 'should', \"should've\", 'now', 'd', 'll', 'm', 'o', 're', 've', 'y', 'ain', 'aren', \"aren't\", 'couldn', \"couldn't\", 'didn', \"didn't\", 'doesn', \"doesn't\", 'hadn', \"hadn't\", 'hasn', \"hasn't\", 'haven', \"haven't\", 'isn', \"isn't\", 'ma', 'mightn', \"mightn't\", 'mustn', \"mustn't\", 'needn', \"needn't\", 'shan', \"shan't\", 'shouldn', \"shouldn't\", 'wasn', \"wasn't\", 'weren', \"weren't\", 'won', \"won't\", 'wouldn', \"wouldn't\"]\n"
          ],
          "name": "stdout"
        }
      ]
    },
    {
      "cell_type": "code",
      "metadata": {
        "colab": {
          "base_uri": "https://localhost:8080/"
        },
        "id": "50xP9HzRJeNi",
        "outputId": "b139ed98-e212-44d9-dc15-600963332579"
      },
      "source": [
        "# import the random and wordnet library\n",
        "import random\n",
        "\n",
        "import nltk\n",
        "nltk.download('wordnet')"
      ],
      "execution_count": 83,
      "outputs": [
        {
          "output_type": "stream",
          "text": [
            "[nltk_data] Downloading package wordnet to /root/nltk_data...\n",
            "[nltk_data]   Package wordnet is already up-to-date!\n"
          ],
          "name": "stdout"
        },
        {
          "output_type": "execute_result",
          "data": {
            "text/plain": [
              "True"
            ]
          },
          "metadata": {
            "tags": []
          },
          "execution_count": 83
        }
      ]
    },
    {
      "cell_type": "code",
      "metadata": {
        "id": "00FTztWNJlZK"
      },
      "source": [
        "# Create a function for synonym replacement\n",
        "def synonym_replacement(words, n):\n",
        "  words = words.split()\n",
        "\n",
        "  new_words = words.copy()\n",
        "  random_word_list = list(set([word for word in words if word not in stop_words]))\n",
        "  random.shuffle(random_word_list)\n",
        "  num_replaced = 0\n",
        "\n",
        "  for random_word in random_word_list:\n",
        "    synonyms = get_synonyms(random_word)\n",
        "\n",
        "    if len(synonyms) >= 1:\n",
        "      synonym = random.choice(list(synonyms))\n",
        "      new_words = [synonym if word == random_word else word for word in new_words]\n",
        "      num_replaced += 1\n",
        "        \n",
        "    if num_replaced >= n: #only replace up to n words\n",
        "      break\n",
        "\n",
        "  sentence = ' '.join(new_words)\n",
        "\n",
        "  return sentence"
      ],
      "execution_count": 77,
      "outputs": []
    },
    {
      "cell_type": "code",
      "metadata": {
        "colab": {
          "base_uri": "https://localhost:8080/",
          "height": 52
        },
        "id": "5JNKj3OuLnja",
        "outputId": "fc509850-0a00-4c63-c045-a59086104f79"
      },
      "source": [
        "mental_df['tweet'].iloc[3]"
      ],
      "execution_count": 78,
      "outputs": [
        {
          "output_type": "execute_result",
          "data": {
            "application/vnd.google.colaboratory.intrinsic+json": {
              "type": "string"
            },
            "text/plain": [
              "'Itumbi has subjected bloggers in to depression. He ought to be behind bars.\\n\\n#ItumbiGhostWorkers https://t.co/iQ0881MjGD'"
            ]
          },
          "metadata": {
            "tags": []
          },
          "execution_count": 78
        }
      ]
    },
    {
      "cell_type": "code",
      "metadata": {
        "colab": {
          "base_uri": "https://localhost:8080/"
        },
        "id": "W_EUN6wZKsZV",
        "outputId": "463e7570-4bcf-4c7e-eaad-6c2f20e7fb66"
      },
      "source": [
        "print(f\"Example of Synonym Replacement: {synonym_replacement(mental_df['tweet'].iloc[3],3)}\")"
      ],
      "execution_count": 84,
      "outputs": [
        {
          "output_type": "stream",
          "text": [
            "Example of Synonym Replacement: Itumbi has submit blogger in to depression. he ought to be behind bars. #ItumbiGhostWorkers https://t.co/iQ0881MjGD\n"
          ],
          "name": "stdout"
        }
      ]
    },
    {
      "cell_type": "code",
      "metadata": {
        "colab": {
          "base_uri": "https://localhost:8080/"
        },
        "id": "-sgBHxkSNdSR",
        "outputId": "9b30351d-01d0-4922-e8c3-295e8f765c2a"
      },
      "source": [
        "# Preview one tweet from the dataset\n",
        "trial_sent = mental_df['tweet'][3]\n",
        "print(trial_sent)"
      ],
      "execution_count": 85,
      "outputs": [
        {
          "output_type": "stream",
          "text": [
            "Itumbi has subjected bloggers in to depression. He ought to be behind bars.\n",
            "\n",
            "#ItumbiGhostWorkers https://t.co/iQ0881MjGD\n"
          ],
          "name": "stdout"
        }
      ]
    },
    {
      "cell_type": "code",
      "metadata": {
        "colab": {
          "base_uri": "https://localhost:8080/"
        },
        "id": "qcTQrSHPN5mS",
        "outputId": "41184913-e328-487a-f112-e4e3faa4bfde"
      },
      "source": [
        "# Create 3 Augmented Sentences per data \n",
        "\n",
        "for n in range(3):\n",
        "  print(f\" Example of Synonym Replacement: {synonym_replacement(trial_sent,n)}\")"
      ],
      "execution_count": 86,
      "outputs": [
        {
          "output_type": "stream",
          "text": [
            " Example of Synonym Replacement: Itumbi has subjugate bloggers in to depression. He ought to be behind bars. #ItumbiGhostWorkers https://t.co/iQ0881MjGD\n",
            " Example of Synonym Replacement: Itumbi has subjected blogger in to depression. He ought to be behind bars. #ItumbiGhostWorkers https://t.co/iQ0881MjGD\n",
            " Example of Synonym Replacement: Itumbi has subject bloggers in to depression. He ought to be can bars. #ItumbiGhostWorkers https://t.co/iQ0881MjGD\n"
          ],
          "name": "stdout"
        }
      ]
    },
    {
      "cell_type": "markdown",
      "metadata": {
        "id": "_clL6gw3Og5n"
      },
      "source": [
        "Now we are able to augment the Data. We can create New colums for the Same text-id in the entire mental - Dataset"
      ]
    },
    {
      "cell_type": "markdown",
      "metadata": {
        "id": "glqq9rfpOv4n"
      },
      "source": [
        "#### 2.Random Deletion (RD)\n",
        "\n",
        "In Random Deletion, we randomly delete a word if a uniformly generated number between 0 and 1 is smaller than a pre-defined threshold. This allows for a random deletion of some words of the sentence."
      ]
    },
    {
      "cell_type": "code",
      "metadata": {
        "id": "wZZ1y0QFO5Bn"
      },
      "source": [
        "# Create a function for random deletion of words\n",
        "def random_deletion(words, p):\n",
        "  words = words.split()\n",
        "    \n",
        "  # If there's only one word, don't delete it\n",
        "  if len(words) == 1:\n",
        "    return words\n",
        "\n",
        "  # randomly delete words with probability p\n",
        "  new_words = []\n",
        "  for word in words:\n",
        "    r = random.uniform(0, 1)\n",
        "  if r > p:\n",
        "    new_words.append(word)\n",
        "\n",
        "  #if you end up deleting all words, just return a random word\n",
        "  if len(new_words) == 0:\n",
        "    rand_int = random.randint(0, len(words)-1)\n",
        "    return [words[rand_int]]\n",
        "\n",
        "  sentence = ' '.join(new_words)\n",
        "    \n",
        "  return sentence"
      ],
      "execution_count": 87,
      "outputs": []
    },
    {
      "cell_type": "markdown",
      "metadata": {
        "id": "-OZ3ViqiP4p9"
      },
      "source": [
        "Lets test out this Augmentation with our test_sample."
      ]
    },
    {
      "cell_type": "code",
      "metadata": {
        "colab": {
          "base_uri": "https://localhost:8080/"
        },
        "id": "kiowe2_lQA7C",
        "outputId": "46f0653a-a475-43b3-e403-f4e56acea54d"
      },
      "source": [
        "print(random_deletion(trial_sent,-1))\n",
        "print(random_deletion(trial_sent,16))\n",
        "print(random_deletion(trial_sent,7))"
      ],
      "execution_count": 99,
      "outputs": [
        {
          "output_type": "stream",
          "text": [
            "https://t.co/iQ0881MjGD\n",
            "['subjected']\n",
            "['to']\n"
          ],
          "name": "stdout"
        }
      ]
    },
    {
      "cell_type": "markdown",
      "metadata": {
        "id": "gvZZxN1MRcAw"
      },
      "source": [
        "#### 3. Random Swap (RS)"
      ]
    },
    {
      "cell_type": "code",
      "metadata": {
        "id": "BLfsrUzIRAA6"
      },
      "source": [
        "# Create a function that will Swap the words\n",
        "def swap_word(new_words):\n",
        "  random_idx_1 = random.randint(0, len(new_words)-1)\n",
        "  random_idx_2 = random_idx_1\n",
        "  counter = 0\n",
        "    \n",
        "  while random_idx_2 == random_idx_1:\n",
        "    random_idx_2 = random.randint(0, len(new_words)-1)\n",
        "    counter += 1\n",
        "        \n",
        "  if counter > 3:\n",
        "    return new_words\n",
        "    \n",
        "  new_words[random_idx_1], new_words[random_idx_2] = new_words[random_idx_2], new_words[random_idx_1] \n",
        "  return new_words"
      ],
      "execution_count": 100,
      "outputs": []
    },
    {
      "cell_type": "code",
      "metadata": {
        "id": "md7PWspvRqjX"
      },
      "source": [
        "# Create a function for random swap\n",
        "def random_swap(words, n):\n",
        "    \n",
        "  words = words.split()\n",
        "  new_words = words.copy()\n",
        "  # n is the number of words to be swapped\n",
        "  for _ in range(n):\n",
        "    new_words = swap_word(new_words)\n",
        "        \n",
        "  sentence = ' '.join(new_words)\n",
        "    \n",
        "  return sentence"
      ],
      "execution_count": 101,
      "outputs": []
    },
    {
      "cell_type": "code",
      "metadata": {
        "colab": {
          "base_uri": "https://localhost:8080/"
        },
        "id": "LKJB2pF-R0Gr",
        "outputId": "d6f2307f-0914-402b-eea7-bc4d4c248a56"
      },
      "source": [
        "# Preview three sentences of the trial sample after applying random swap\n",
        "print(random_swap(trial_sent,1))\n",
        "print(random_swap(trial_sent,2))\n",
        "print(random_swap(trial_sent,3))"
      ],
      "execution_count": 102,
      "outputs": [
        {
          "output_type": "stream",
          "text": [
            "Itumbi has subjected bloggers in to behind He ought to be depression. bars. #ItumbiGhostWorkers https://t.co/iQ0881MjGD\n",
            "to has subjected bloggers He to depression. in ought Itumbi be behind bars. #ItumbiGhostWorkers https://t.co/iQ0881MjGD\n",
            "Itumbi to subjected bloggers in https://t.co/iQ0881MjGD depression. He ought to be has bars. #ItumbiGhostWorkers behind\n"
          ],
          "name": "stdout"
        }
      ]
    },
    {
      "cell_type": "markdown",
      "metadata": {
        "id": "QgIAn6wQSHYw"
      },
      "source": [
        "#### 4. Random Insertion (RI)"
      ]
    },
    {
      "cell_type": "code",
      "metadata": {
        "id": "jh2cJI8jSOLv"
      },
      "source": [
        "# Randomly insert synonyms of a word at a random position.\n",
        "def random_insertion(words, n):\n",
        "    \n",
        "  words = words.split()\n",
        "  new_words = words.copy()\n",
        "    \n",
        "  for _ in range(n):\n",
        "    add_word(new_words)\n",
        "\n",
        "  sentence = ' '.join(new_words)\n",
        "  return sentence\n",
        "\n",
        "def add_word(new_words):\n",
        "    \n",
        "  synonyms = []\n",
        "  counter = 0\n",
        "    \n",
        "  while len(synonyms) < 1:\n",
        "    random_word = new_words[random.randint(0, len(new_words)-1)]\n",
        "    synonyms = get_synonyms(random_word)\n",
        "    counter += 1\n",
        "    if counter >= 10:\n",
        "      return\n",
        "        \n",
        "  random_synonym = synonyms[0]\n",
        "  random_idx = random.randint(0, len(new_words)-1)\n",
        "  new_words.insert(random_idx, random_synonym)"
      ],
      "execution_count": 103,
      "outputs": []
    },
    {
      "cell_type": "code",
      "metadata": {
        "colab": {
          "base_uri": "https://localhost:8080/"
        },
        "id": "0_lEPMxLS6w7",
        "outputId": "53fe3579-1b63-47b6-805d-db12b0c79a91"
      },
      "source": [
        "# Print three sentences of the text sample\n",
        "print(random_insertion(trial_sent,1))\n",
        "print(random_insertion(trial_sent,2))\n",
        "print(random_insertion(trial_sent,3))"
      ],
      "execution_count": 104,
      "outputs": [
        {
          "output_type": "stream",
          "text": [
            "Itumbi has subjected bloggers in to depression. He ought to be behind bars. indiana #ItumbiGhostWorkers https://t.co/iQ0881MjGD\n",
            "Itumbi has hindquarters subjected bloggers in to depression. He personify ought to be behind bars. #ItumbiGhostWorkers https://t.co/iQ0881MjGD\n",
            "hold Itumbi has hold subjected bloggers in to blogger depression. He ought to be behind bars. #ItumbiGhostWorkers https://t.co/iQ0881MjGD\n"
          ],
          "name": "stdout"
        }
      ]
    },
    {
      "cell_type": "code",
      "metadata": {
        "id": "kzHV2qHBTHZi"
      },
      "source": [
        "# Create a function for all the four steps above\n",
        "def aug(sent,n,p):\n",
        "    print(f\" Original Sentence : {sent}\")\n",
        "    print(f\" SR Augmented Sentence : {synonym_replacement(sent,n)}\")\n",
        "    print(f\" RD Augmented Sentence : {random_deletion(sent,p)}\")\n",
        "    print(f\" RS Augmented Sentence : {random_swap(sent,n)}\")\n",
        "    print(f\" RI Augmented Sentence : {random_insertion(sent,n)}\")"
      ],
      "execution_count": 105,
      "outputs": []
    },
    {
      "cell_type": "code",
      "metadata": {
        "colab": {
          "base_uri": "https://localhost:8080/"
        },
        "id": "nkn1h2ASTR2I",
        "outputId": "41a7275d-87f3-4bb9-90f7-11b0748d0bd1"
      },
      "source": [
        "# Apply the function to the trial text\n",
        "aug(trial_sent,4,0.3)"
      ],
      "execution_count": 106,
      "outputs": [
        {
          "output_type": "stream",
          "text": [
            " Original Sentence : Itumbi has subjected bloggers in to depression. He ought to be behind bars.\n",
            "\n",
            "#ItumbiGhostWorkers https://t.co/iQ0881MjGD\n",
            " SR Augmented Sentence : Itumbi has subject blogger in to depression. helium ought to be fundament bars. #ItumbiGhostWorkers https://t.co/iQ0881MjGD\n",
            " RD Augmented Sentence : https://t.co/iQ0881MjGD\n",
            " RS Augmented Sentence : depression. He subjected bloggers Itumbi https://t.co/iQ0881MjGD in has ought to be behind bars. #ItumbiGhostWorkers to\n",
            " RI Augmented Sentence : hindquarters Itumbi has subjected bloggers in to indiana depression. He ought to be behind bars. helium #ItumbiGhostWorkers indiana https://t.co/iQ0881MjGD\n"
          ],
          "name": "stdout"
        }
      ]
    },
    {
      "cell_type": "markdown",
      "metadata": {
        "id": "MOIkrB5-UFVU"
      },
      "source": [
        "From the above results, it is evident that Easy Data Augmentation doesn't help much. It is good to try other methods of data augmentation."
      ]
    }
  ]
}